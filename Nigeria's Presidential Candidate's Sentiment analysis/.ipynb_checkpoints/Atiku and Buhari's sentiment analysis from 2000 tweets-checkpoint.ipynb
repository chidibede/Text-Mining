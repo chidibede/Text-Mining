{
 "cells": [
  {
   "cell_type": "markdown",
   "metadata": {},
   "source": [
    "## Atiku and Buhari's sentiment analysis from 2000 tweets"
   ]
  },
  {
   "cell_type": "markdown",
   "metadata": {},
   "source": [
    "### Project steps\n",
    "1. Import the python dependencies\n",
    "2. Load the tweets of the two candidates to be predicted\n",
    "3. Explore and clean them\n",
    "4. Load the training dataset and explore it \n",
    "5. The tweets data already has sentiments predicted by the textblob package, (\"maybe i will do this, maybe not...i'm still deciding\",map from -0.09 to 0.09 as neutral, above 0.09 as positive and below -0.09 as negative). This is to compare the textblob predictions and my classifier's predictions [Note: the mapping is my decision]\n",
    "6. train test split of the sentiment data\n",
    "7. Count vectorizing\n",
    "8. Train classifer, predict and evaluate performance (Machine learning )\n",
    "9. Optimize the performance of the classifier \n",
    "10. After evaluations and improvements, then use cross validaton to get the true reality of performance for out of sample data\n",
    "11. Apply the classifer to the two tweets and create a dataframe with the predictions\n",
    "12. Explore the predictions done by your classifer and intuitively check the accuracy\n",
    "13. Visualizations of the people's sentiments of the two candidates "
   ]
  },
  {
   "cell_type": "markdown",
   "metadata": {},
   "source": [
    "##### Import the dependencies"
   ]
  },
  {
   "cell_type": "code",
   "execution_count": 1,
   "metadata": {
    "collapsed": false
   },
   "outputs": [],
   "source": [
    "import pandas as pd\n",
    "import numpy as np\n",
    "from __future__ import print_function, division\n",
    "import textblob\n",
    "import tweepy\n",
    "from sklearn import utils\n",
    "import matplotlib.pyplot as plt\n",
    "import seaborn as sns\n",
    "%matplotlib inline"
   ]
  },
  {
   "cell_type": "markdown",
   "metadata": {},
   "source": [
    "##### Load the tweets of the two candidates"
   ]
  },
  {
   "cell_type": "code",
   "execution_count": 2,
   "metadata": {
    "collapsed": true
   },
   "outputs": [],
   "source": [
    "atiku_df = pd.read_csv(\"Atiku_2000_tweets.csv\")\n",
    "buhari_df = pd.read_csv(\"Buhari_2000_tweets.csv\")"
   ]
  },
  {
   "cell_type": "code",
   "execution_count": 3,
   "metadata": {
    "collapsed": false
   },
   "outputs": [
    {
     "data": {
      "text/html": [
       "<div>\n",
       "<table border=\"1\" class=\"dataframe\">\n",
       "  <thead>\n",
       "    <tr style=\"text-align: right;\">\n",
       "      <th></th>\n",
       "      <th>Unnamed: 0</th>\n",
       "      <th>tweets</th>\n",
       "      <th>polarity</th>\n",
       "    </tr>\n",
       "  </thead>\n",
       "  <tbody>\n",
       "    <tr>\n",
       "      <th>0</th>\n",
       "      <td>0</td>\n",
       "      <td>@falusteelgmail1 @Nsa20 @SpokesManAtiku @atiku</td>\n",
       "      <td>0.000000</td>\n",
       "    </tr>\n",
       "    <tr>\n",
       "      <th>1</th>\n",
       "      <td>1</td>\n",
       "      <td>RT @Angelmichael10s: Nigerian youths are daft ...</td>\n",
       "      <td>-0.200000</td>\n",
       "    </tr>\n",
       "    <tr>\n",
       "      <th>2</th>\n",
       "      <td>2</td>\n",
       "      <td>RT @Yan_biyu_: Retweet for Buhari @MBuhari and...</td>\n",
       "      <td>0.000000</td>\n",
       "    </tr>\n",
       "    <tr>\n",
       "      <th>3</th>\n",
       "      <td>3</td>\n",
       "      <td>RT @Nigerianey: POLL: @Mbuhari or @atiku \\r\\n\\...</td>\n",
       "      <td>0.000000</td>\n",
       "    </tr>\n",
       "    <tr>\n",
       "      <th>4</th>\n",
       "      <td>4</td>\n",
       "      <td>@occp1967 @Jani4Tijani While you wasted the wh...</td>\n",
       "      <td>0.050000</td>\n",
       "    </tr>\n",
       "    <tr>\n",
       "      <th>5</th>\n",
       "      <td>5</td>\n",
       "      <td>@Daulahotel @SpokesManAtiku @atiku Now you mon...</td>\n",
       "      <td>-0.200000</td>\n",
       "    </tr>\n",
       "    <tr>\n",
       "      <th>6</th>\n",
       "      <td>6</td>\n",
       "      <td>RT @SusanHenshaw50: Hear Atiku has put down a ...</td>\n",
       "      <td>0.181481</td>\n",
       "    </tr>\n",
       "    <tr>\n",
       "      <th>7</th>\n",
       "      <td>7</td>\n",
       "      <td>RT @Yan_biyu_: Retweet for Buhari @MBuhari and...</td>\n",
       "      <td>0.000000</td>\n",
       "    </tr>\n",
       "    <tr>\n",
       "      <th>8</th>\n",
       "      <td>8</td>\n",
       "      <td>RT @SpokesManAtiku: Reports in the media that ...</td>\n",
       "      <td>-0.400000</td>\n",
       "    </tr>\n",
       "    <tr>\n",
       "      <th>9</th>\n",
       "      <td>9</td>\n",
       "      <td>RT @Intergrity56: They are saying @ProfOsinbaj...</td>\n",
       "      <td>-0.187500</td>\n",
       "    </tr>\n",
       "    <tr>\n",
       "      <th>10</th>\n",
       "      <td>10</td>\n",
       "      <td>Atiku Cautions Buhari Against Reneging On N30,...</td>\n",
       "      <td>0.000000</td>\n",
       "    </tr>\n",
       "    <tr>\n",
       "      <th>11</th>\n",
       "      <td>11</td>\n",
       "      <td>Atiku Cautions Buhari Against Reneging On N30,...</td>\n",
       "      <td>0.000000</td>\n",
       "    </tr>\n",
       "    <tr>\n",
       "      <th>12</th>\n",
       "      <td>12</td>\n",
       "      <td>Atiku Cautions Buhari Against Reneging On N30,...</td>\n",
       "      <td>0.000000</td>\n",
       "    </tr>\n",
       "    <tr>\n",
       "      <th>13</th>\n",
       "      <td>13</td>\n",
       "      <td>Hear Atiku has put down a 90 thousand dollar b...</td>\n",
       "      <td>0.181481</td>\n",
       "    </tr>\n",
       "    <tr>\n",
       "      <th>14</th>\n",
       "      <td>14</td>\n",
       "      <td>RT @AbdullShitu: 1.There is need for a paradig...</td>\n",
       "      <td>0.650000</td>\n",
       "    </tr>\n",
       "    <tr>\n",
       "      <th>15</th>\n",
       "      <td>15</td>\n",
       "      <td>RT @Nigerianey: POLL: @Mbuhari or @atiku \\r\\n\\...</td>\n",
       "      <td>0.000000</td>\n",
       "    </tr>\n",
       "    <tr>\n",
       "      <th>16</th>\n",
       "      <td>16</td>\n",
       "      <td>RT @idowu553: Dangote from Northwest build 100...</td>\n",
       "      <td>0.000000</td>\n",
       "    </tr>\n",
       "    <tr>\n",
       "      <th>17</th>\n",
       "      <td>17</td>\n",
       "      <td>RT @SpokesManAtiku: Reports in the media that ...</td>\n",
       "      <td>-0.400000</td>\n",
       "    </tr>\n",
       "    <tr>\n",
       "      <th>18</th>\n",
       "      <td>18</td>\n",
       "      <td>Atiku Needs Crash Course On Economy, Says Odud...</td>\n",
       "      <td>0.000000</td>\n",
       "    </tr>\n",
       "    <tr>\n",
       "      <th>19</th>\n",
       "      <td>19</td>\n",
       "      <td>@JoyOnyejekwe @OfficialPDPNig @MBuhari @Emmanu...</td>\n",
       "      <td>0.000000</td>\n",
       "    </tr>\n",
       "    <tr>\n",
       "      <th>20</th>\n",
       "      <td>20</td>\n",
       "      <td>RT @tijanionoruoiz: Zero integrity\\r\\n\"I will ...</td>\n",
       "      <td>0.000000</td>\n",
       "    </tr>\n",
       "    <tr>\n",
       "      <th>21</th>\n",
       "      <td>21</td>\n",
       "      <td>RT @Hailfinger1: The failed and discredited @M...</td>\n",
       "      <td>-0.500000</td>\n",
       "    </tr>\n",
       "    <tr>\n",
       "      <th>22</th>\n",
       "      <td>22</td>\n",
       "      <td>Peter Obi as Atikus joker  Part2 https://t.co/...</td>\n",
       "      <td>0.000000</td>\n",
       "    </tr>\n",
       "    <tr>\n",
       "      <th>23</th>\n",
       "      <td>23</td>\n",
       "      <td>RT @DeeOneAyekooto: \"I will never go back to t...</td>\n",
       "      <td>0.000000</td>\n",
       "    </tr>\n",
       "    <tr>\n",
       "      <th>24</th>\n",
       "      <td>24</td>\n",
       "      <td>RT @DanisaDawo: Did you know?\\r\\nIn 2017,Niger...</td>\n",
       "      <td>0.150000</td>\n",
       "    </tr>\n",
       "    <tr>\n",
       "      <th>25</th>\n",
       "      <td>25</td>\n",
       "      <td>@iliyasu_ali @OfficialPDPNig @MBuhari @Officia...</td>\n",
       "      <td>0.000000</td>\n",
       "    </tr>\n",
       "    <tr>\n",
       "      <th>26</th>\n",
       "      <td>26</td>\n",
       "      <td>RT @ogundamisi: FACT-CHECK: @atiku LIED @TheEc...</td>\n",
       "      <td>0.000000</td>\n",
       "    </tr>\n",
       "    <tr>\n",
       "      <th>27</th>\n",
       "      <td>27</td>\n",
       "      <td>Atiku Needs Crash Course On Economy, Says Odud...</td>\n",
       "      <td>0.000000</td>\n",
       "    </tr>\n",
       "    <tr>\n",
       "      <th>28</th>\n",
       "      <td>28</td>\n",
       "      <td>RT @Hailfinger1: The failed and discredited @M...</td>\n",
       "      <td>-0.500000</td>\n",
       "    </tr>\n",
       "    <tr>\n",
       "      <th>29</th>\n",
       "      <td>29</td>\n",
       "      <td>@JuliaOnabe @OfficialPDPNig @MBuhari @Emmanuel...</td>\n",
       "      <td>0.000000</td>\n",
       "    </tr>\n",
       "  </tbody>\n",
       "</table>\n",
       "</div>"
      ],
      "text/plain": [
       "    Unnamed: 0                                             tweets  polarity\n",
       "0            0    @falusteelgmail1 @Nsa20 @SpokesManAtiku @atiku   0.000000\n",
       "1            1  RT @Angelmichael10s: Nigerian youths are daft ... -0.200000\n",
       "2            2  RT @Yan_biyu_: Retweet for Buhari @MBuhari and...  0.000000\n",
       "3            3  RT @Nigerianey: POLL: @Mbuhari or @atiku \\r\\n\\...  0.000000\n",
       "4            4  @occp1967 @Jani4Tijani While you wasted the wh...  0.050000\n",
       "5            5  @Daulahotel @SpokesManAtiku @atiku Now you mon... -0.200000\n",
       "6            6  RT @SusanHenshaw50: Hear Atiku has put down a ...  0.181481\n",
       "7            7  RT @Yan_biyu_: Retweet for Buhari @MBuhari and...  0.000000\n",
       "8            8  RT @SpokesManAtiku: Reports in the media that ... -0.400000\n",
       "9            9  RT @Intergrity56: They are saying @ProfOsinbaj... -0.187500\n",
       "10          10  Atiku Cautions Buhari Against Reneging On N30,...  0.000000\n",
       "11          11  Atiku Cautions Buhari Against Reneging On N30,...  0.000000\n",
       "12          12  Atiku Cautions Buhari Against Reneging On N30,...  0.000000\n",
       "13          13  Hear Atiku has put down a 90 thousand dollar b...  0.181481\n",
       "14          14  RT @AbdullShitu: 1.There is need for a paradig...  0.650000\n",
       "15          15  RT @Nigerianey: POLL: @Mbuhari or @atiku \\r\\n\\...  0.000000\n",
       "16          16  RT @idowu553: Dangote from Northwest build 100...  0.000000\n",
       "17          17  RT @SpokesManAtiku: Reports in the media that ... -0.400000\n",
       "18          18  Atiku Needs Crash Course On Economy, Says Odud...  0.000000\n",
       "19          19  @JoyOnyejekwe @OfficialPDPNig @MBuhari @Emmanu...  0.000000\n",
       "20          20  RT @tijanionoruoiz: Zero integrity\\r\\n\"I will ...  0.000000\n",
       "21          21  RT @Hailfinger1: The failed and discredited @M... -0.500000\n",
       "22          22  Peter Obi as Atikus joker  Part2 https://t.co/...  0.000000\n",
       "23          23  RT @DeeOneAyekooto: \"I will never go back to t...  0.000000\n",
       "24          24  RT @DanisaDawo: Did you know?\\r\\nIn 2017,Niger...  0.150000\n",
       "25          25  @iliyasu_ali @OfficialPDPNig @MBuhari @Officia...  0.000000\n",
       "26          26  RT @ogundamisi: FACT-CHECK: @atiku LIED @TheEc...  0.000000\n",
       "27          27  Atiku Needs Crash Course On Economy, Says Odud...  0.000000\n",
       "28          28  RT @Hailfinger1: The failed and discredited @M... -0.500000\n",
       "29          29  @JuliaOnabe @OfficialPDPNig @MBuhari @Emmanuel...  0.000000"
      ]
     },
     "execution_count": 3,
     "metadata": {},
     "output_type": "execute_result"
    }
   ],
   "source": [
    "# Quick exploration\n",
    "atiku_df.head(30)"
   ]
  },
  {
   "cell_type": "code",
   "execution_count": 4,
   "metadata": {
    "collapsed": false
   },
   "outputs": [
    {
     "data": {
      "text/plain": [
       "'RT @Angelmichael10s: Nigerian youths are daft and in a few years we gonna be crucifying Atiku if he makes it up there. 4 years ago they was'"
      ]
     },
     "execution_count": 4,
     "metadata": {},
     "output_type": "execute_result"
    }
   ],
   "source": [
    "atiku_df.loc[1, \"tweets\"]"
   ]
  },
  {
   "cell_type": "code",
   "execution_count": 5,
   "metadata": {
    "collapsed": false
   },
   "outputs": [
    {
     "data": {
      "text/plain": [
       "'RT @AbdullShitu: 1.There is need for a paradigm shift in the way our great country have been governed for more than 3 years. His administra'"
      ]
     },
     "execution_count": 5,
     "metadata": {},
     "output_type": "execute_result"
    }
   ],
   "source": [
    "atiku_df.loc[14, \"tweets\"]"
   ]
  },
  {
   "cell_type": "code",
   "execution_count": 6,
   "metadata": {
    "collapsed": false
   },
   "outputs": [
    {
     "data": {
      "text/html": [
       "<div>\n",
       "<table border=\"1\" class=\"dataframe\">\n",
       "  <thead>\n",
       "    <tr style=\"text-align: right;\">\n",
       "      <th></th>\n",
       "      <th>Unnamed: 0</th>\n",
       "      <th>tweets</th>\n",
       "      <th>polarity</th>\n",
       "    </tr>\n",
       "  </thead>\n",
       "  <tbody>\n",
       "    <tr>\n",
       "      <th>0</th>\n",
       "      <td>0</td>\n",
       "      <td>RT @MAZIOBIBOND1: President Buhari is the dire...</td>\n",
       "      <td>0.300000</td>\n",
       "    </tr>\n",
       "    <tr>\n",
       "      <th>1</th>\n",
       "      <td>1</td>\n",
       "      <td>Cehennem nefse ho gelen eylerle kuatlp rtlmtr....</td>\n",
       "      <td>0.000000</td>\n",
       "    </tr>\n",
       "    <tr>\n",
       "      <th>2</th>\n",
       "      <td>2</td>\n",
       "      <td>@Pharge1 @JohnGra60799908 @adeyanjudeji Buhari...</td>\n",
       "      <td>0.000000</td>\n",
       "    </tr>\n",
       "    <tr>\n",
       "      <th>3</th>\n",
       "      <td>3</td>\n",
       "      <td>@ogundamisi @MBuhari @ProfOsinbajo Even with t...</td>\n",
       "      <td>0.000000</td>\n",
       "    </tr>\n",
       "    <tr>\n",
       "      <th>4</th>\n",
       "      <td>4</td>\n",
       "      <td>RT @ngoziperpee: Only a country populated by s...</td>\n",
       "      <td>0.000000</td>\n",
       "    </tr>\n",
       "    <tr>\n",
       "      <th>5</th>\n",
       "      <td>5</td>\n",
       "      <td>@toluogunlesi Tolu your lifeless president Buh...</td>\n",
       "      <td>-0.316667</td>\n",
       "    </tr>\n",
       "    <tr>\n",
       "      <th>6</th>\n",
       "      <td>6</td>\n",
       "      <td>RT @ckorie17: Waw waw waw! Jubril (Buhari), no...</td>\n",
       "      <td>0.000000</td>\n",
       "    </tr>\n",
       "    <tr>\n",
       "      <th>7</th>\n",
       "      <td>7</td>\n",
       "      <td>RT @DailyPostNGR: 2019: Tinubu made a foolish ...</td>\n",
       "      <td>0.000000</td>\n",
       "    </tr>\n",
       "    <tr>\n",
       "      <th>8</th>\n",
       "      <td>8</td>\n",
       "      <td>RT @tosinadeda: Look at these pictures, they a...</td>\n",
       "      <td>0.000000</td>\n",
       "    </tr>\n",
       "    <tr>\n",
       "      <th>9</th>\n",
       "      <td>9</td>\n",
       "      <td>RT @Yan_biyu_: Retweet for Buhari @MBuhari and...</td>\n",
       "      <td>0.000000</td>\n",
       "    </tr>\n",
       "    <tr>\n",
       "      <th>10</th>\n",
       "      <td>10</td>\n",
       "      <td>RT @Amaka_Ekwo: IPOB Family Worldwide Commence...</td>\n",
       "      <td>0.000000</td>\n",
       "    </tr>\n",
       "    <tr>\n",
       "      <th>11</th>\n",
       "      <td>11</td>\n",
       "      <td>RT @adeyanjudeji: Buhari Oleeeeeee\\r\\nBuhari O...</td>\n",
       "      <td>0.000000</td>\n",
       "    </tr>\n",
       "    <tr>\n",
       "      <th>12</th>\n",
       "      <td>12</td>\n",
       "      <td>RT @MrStanleyNwabia: What happens to all those...</td>\n",
       "      <td>0.000000</td>\n",
       "    </tr>\n",
       "    <tr>\n",
       "      <th>13</th>\n",
       "      <td>13</td>\n",
       "      <td>RT @modebolanle: President Donald Trump has be...</td>\n",
       "      <td>-0.166667</td>\n",
       "    </tr>\n",
       "    <tr>\n",
       "      <th>14</th>\n",
       "      <td>14</td>\n",
       "      <td>RT @aligthebaptist: @adeyanjudeji Deji, regret...</td>\n",
       "      <td>0.087500</td>\n",
       "    </tr>\n",
       "    <tr>\n",
       "      <th>15</th>\n",
       "      <td>15</td>\n",
       "      <td>RT @cyberagbero: My bros dem for warri una wan...</td>\n",
       "      <td>0.050000</td>\n",
       "    </tr>\n",
       "    <tr>\n",
       "      <th>16</th>\n",
       "      <td>16</td>\n",
       "      <td>RT @adeyanjudeji: BREAKING: Herdsmen kidnap 4 ...</td>\n",
       "      <td>0.150000</td>\n",
       "    </tr>\n",
       "    <tr>\n",
       "      <th>17</th>\n",
       "      <td>17</td>\n",
       "      <td>RT @adeyanjudeji: Elections under Jonathan cos...</td>\n",
       "      <td>0.000000</td>\n",
       "    </tr>\n",
       "    <tr>\n",
       "      <th>18</th>\n",
       "      <td>18</td>\n",
       "      <td>RT @adeyanjudeji: What is unfortunate about Bu...</td>\n",
       "      <td>-0.225000</td>\n",
       "    </tr>\n",
       "    <tr>\n",
       "      <th>19</th>\n",
       "      <td>19</td>\n",
       "      <td>RT @Amaka_Ekwo: Biafra: What Nnamdi Kanu will ...</td>\n",
       "      <td>0.000000</td>\n",
       "    </tr>\n",
       "    <tr>\n",
       "      <th>20</th>\n",
       "      <td>20</td>\n",
       "      <td>RT @SaharaReporters: BREAKING: US Institute Of...</td>\n",
       "      <td>0.000000</td>\n",
       "    </tr>\n",
       "    <tr>\n",
       "      <th>21</th>\n",
       "      <td>21</td>\n",
       "      <td>RT @todayng: Civil servants laud Muhammadu Buh...</td>\n",
       "      <td>0.000000</td>\n",
       "    </tr>\n",
       "    <tr>\n",
       "      <th>22</th>\n",
       "      <td>22</td>\n",
       "      <td>RT @Amaka_Ekwo: Herdsmen say 'All lands belong...</td>\n",
       "      <td>0.000000</td>\n",
       "    </tr>\n",
       "    <tr>\n",
       "      <th>23</th>\n",
       "      <td>23</td>\n",
       "      <td>RT @MrStanleyNwabia: What happens to all those...</td>\n",
       "      <td>0.000000</td>\n",
       "    </tr>\n",
       "    <tr>\n",
       "      <th>24</th>\n",
       "      <td>24</td>\n",
       "      <td>RT @Tutsy22: I knew the FG was not prepared to...</td>\n",
       "      <td>0.000000</td>\n",
       "    </tr>\n",
       "    <tr>\n",
       "      <th>25</th>\n",
       "      <td>25</td>\n",
       "      <td>RT @yabaleftonline: Buharis family eats more t...</td>\n",
       "      <td>0.500000</td>\n",
       "    </tr>\n",
       "    <tr>\n",
       "      <th>26</th>\n",
       "      <td>26</td>\n",
       "      <td>RT @nafeezi: Rice revolution fake \\r\\n\\r\\nWAEC...</td>\n",
       "      <td>-0.500000</td>\n",
       "    </tr>\n",
       "    <tr>\n",
       "      <th>27</th>\n",
       "      <td>27</td>\n",
       "      <td>RT @Post_Nigeria: President Buhari Faces The G...</td>\n",
       "      <td>0.333333</td>\n",
       "    </tr>\n",
       "    <tr>\n",
       "      <th>28</th>\n",
       "      <td>28</td>\n",
       "      <td>RT @cbngov_akin1: \"Buhari integrity is fake\"\\r...</td>\n",
       "      <td>-0.450000</td>\n",
       "    </tr>\n",
       "    <tr>\n",
       "      <th>29</th>\n",
       "      <td>29</td>\n",
       "      <td>RT @PremiumTimesng: EXCLUSIVE: Documents show ...</td>\n",
       "      <td>-0.500000</td>\n",
       "    </tr>\n",
       "  </tbody>\n",
       "</table>\n",
       "</div>"
      ],
      "text/plain": [
       "    Unnamed: 0                                             tweets  polarity\n",
       "0            0  RT @MAZIOBIBOND1: President Buhari is the dire...  0.300000\n",
       "1            1  Cehennem nefse ho gelen eylerle kuatlp rtlmtr....  0.000000\n",
       "2            2  @Pharge1 @JohnGra60799908 @adeyanjudeji Buhari...  0.000000\n",
       "3            3  @ogundamisi @MBuhari @ProfOsinbajo Even with t...  0.000000\n",
       "4            4  RT @ngoziperpee: Only a country populated by s...  0.000000\n",
       "5            5  @toluogunlesi Tolu your lifeless president Buh... -0.316667\n",
       "6            6  RT @ckorie17: Waw waw waw! Jubril (Buhari), no...  0.000000\n",
       "7            7  RT @DailyPostNGR: 2019: Tinubu made a foolish ...  0.000000\n",
       "8            8  RT @tosinadeda: Look at these pictures, they a...  0.000000\n",
       "9            9  RT @Yan_biyu_: Retweet for Buhari @MBuhari and...  0.000000\n",
       "10          10  RT @Amaka_Ekwo: IPOB Family Worldwide Commence...  0.000000\n",
       "11          11  RT @adeyanjudeji: Buhari Oleeeeeee\\r\\nBuhari O...  0.000000\n",
       "12          12  RT @MrStanleyNwabia: What happens to all those...  0.000000\n",
       "13          13  RT @modebolanle: President Donald Trump has be... -0.166667\n",
       "14          14  RT @aligthebaptist: @adeyanjudeji Deji, regret...  0.087500\n",
       "15          15  RT @cyberagbero: My bros dem for warri una wan...  0.050000\n",
       "16          16  RT @adeyanjudeji: BREAKING: Herdsmen kidnap 4 ...  0.150000\n",
       "17          17  RT @adeyanjudeji: Elections under Jonathan cos...  0.000000\n",
       "18          18  RT @adeyanjudeji: What is unfortunate about Bu... -0.225000\n",
       "19          19  RT @Amaka_Ekwo: Biafra: What Nnamdi Kanu will ...  0.000000\n",
       "20          20  RT @SaharaReporters: BREAKING: US Institute Of...  0.000000\n",
       "21          21  RT @todayng: Civil servants laud Muhammadu Buh...  0.000000\n",
       "22          22  RT @Amaka_Ekwo: Herdsmen say 'All lands belong...  0.000000\n",
       "23          23  RT @MrStanleyNwabia: What happens to all those...  0.000000\n",
       "24          24  RT @Tutsy22: I knew the FG was not prepared to...  0.000000\n",
       "25          25  RT @yabaleftonline: Buharis family eats more t...  0.500000\n",
       "26          26  RT @nafeezi: Rice revolution fake \\r\\n\\r\\nWAEC... -0.500000\n",
       "27          27  RT @Post_Nigeria: President Buhari Faces The G...  0.333333\n",
       "28          28  RT @cbngov_akin1: \"Buhari integrity is fake\"\\r... -0.450000\n",
       "29          29  RT @PremiumTimesng: EXCLUSIVE: Documents show ... -0.500000"
      ]
     },
     "execution_count": 6,
     "metadata": {},
     "output_type": "execute_result"
    }
   ],
   "source": [
    "buhari_df.head(30)"
   ]
  },
  {
   "cell_type": "code",
   "execution_count": 7,
   "metadata": {
    "collapsed": false
   },
   "outputs": [
    {
     "data": {
      "text/plain": [
       "'RT @modebolanle: President Donald Trump has been standing there, fielding questions from journalists for close to one and a half hours.\\r\\n\\r\\nWh'"
      ]
     },
     "execution_count": 7,
     "metadata": {},
     "output_type": "execute_result"
    }
   ],
   "source": [
    "buhari_df.loc[13, \"tweets\"]"
   ]
  },
  {
   "cell_type": "code",
   "execution_count": 8,
   "metadata": {
    "collapsed": false
   },
   "outputs": [
    {
     "data": {
      "text/plain": [
       "'RT @cbngov_akin1: \"Buhari integrity is fake\"\\r\\n\\r\\n\"Tinubu must leave Buhari, I know he\\'s not happy with Buhari, he must summon courage to aband'"
      ]
     },
     "execution_count": 8,
     "metadata": {},
     "output_type": "execute_result"
    }
   ],
   "source": [
    "buhari_df.loc[28, \"tweets\"]"
   ]
  },
  {
   "cell_type": "markdown",
   "metadata": {},
   "source": [
    "##### Clean up dataframe"
   ]
  },
  {
   "cell_type": "code",
   "execution_count": 9,
   "metadata": {
    "collapsed": true
   },
   "outputs": [],
   "source": [
    "# First let us remove the unnamed column which was an oversight I made when converting DF to_csv\n",
    "\n",
    "atiku_df = atiku_df.loc[:, [\"tweets\", \"polarity\"]]\n",
    "buhari_df = buhari_df.loc[:, [\"tweets\", \"polarity\"]]"
   ]
  },
  {
   "cell_type": "code",
   "execution_count": 10,
   "metadata": {
    "collapsed": false
   },
   "outputs": [
    {
     "data": {
      "text/html": [
       "<div>\n",
       "<table border=\"1\" class=\"dataframe\">\n",
       "  <thead>\n",
       "    <tr style=\"text-align: right;\">\n",
       "      <th></th>\n",
       "      <th>tweets</th>\n",
       "      <th>polarity</th>\n",
       "    </tr>\n",
       "  </thead>\n",
       "  <tbody>\n",
       "    <tr>\n",
       "      <th>0</th>\n",
       "      <td>RT @MAZIOBIBOND1: President Buhari is the dire...</td>\n",
       "      <td>0.3</td>\n",
       "    </tr>\n",
       "    <tr>\n",
       "      <th>1</th>\n",
       "      <td>Cehennem nefse ho gelen eylerle kuatlp rtlmtr....</td>\n",
       "      <td>0.0</td>\n",
       "    </tr>\n",
       "    <tr>\n",
       "      <th>2</th>\n",
       "      <td>@Pharge1 @JohnGra60799908 @adeyanjudeji Buhari...</td>\n",
       "      <td>0.0</td>\n",
       "    </tr>\n",
       "    <tr>\n",
       "      <th>3</th>\n",
       "      <td>@ogundamisi @MBuhari @ProfOsinbajo Even with t...</td>\n",
       "      <td>0.0</td>\n",
       "    </tr>\n",
       "    <tr>\n",
       "      <th>4</th>\n",
       "      <td>RT @ngoziperpee: Only a country populated by s...</td>\n",
       "      <td>0.0</td>\n",
       "    </tr>\n",
       "  </tbody>\n",
       "</table>\n",
       "</div>"
      ],
      "text/plain": [
       "                                              tweets  polarity\n",
       "0  RT @MAZIOBIBOND1: President Buhari is the dire...       0.3\n",
       "1  Cehennem nefse ho gelen eylerle kuatlp rtlmtr....       0.0\n",
       "2  @Pharge1 @JohnGra60799908 @adeyanjudeji Buhari...       0.0\n",
       "3  @ogundamisi @MBuhari @ProfOsinbajo Even with t...       0.0\n",
       "4  RT @ngoziperpee: Only a country populated by s...       0.0"
      ]
     },
     "execution_count": 10,
     "metadata": {},
     "output_type": "execute_result"
    }
   ],
   "source": [
    "buhari_df.head()"
   ]
  },
  {
   "cell_type": "code",
   "execution_count": 11,
   "metadata": {
    "collapsed": false
   },
   "outputs": [
    {
     "data": {
      "text/html": [
       "<div>\n",
       "<table border=\"1\" class=\"dataframe\">\n",
       "  <thead>\n",
       "    <tr style=\"text-align: right;\">\n",
       "      <th></th>\n",
       "      <th>tweets</th>\n",
       "      <th>polarity</th>\n",
       "    </tr>\n",
       "  </thead>\n",
       "  <tbody>\n",
       "    <tr>\n",
       "      <th>0</th>\n",
       "      <td>@falusteelgmail1 @Nsa20 @SpokesManAtiku @atiku</td>\n",
       "      <td>0.00</td>\n",
       "    </tr>\n",
       "    <tr>\n",
       "      <th>1</th>\n",
       "      <td>RT @Angelmichael10s: Nigerian youths are daft ...</td>\n",
       "      <td>-0.20</td>\n",
       "    </tr>\n",
       "    <tr>\n",
       "      <th>2</th>\n",
       "      <td>RT @Yan_biyu_: Retweet for Buhari @MBuhari and...</td>\n",
       "      <td>0.00</td>\n",
       "    </tr>\n",
       "    <tr>\n",
       "      <th>3</th>\n",
       "      <td>RT @Nigerianey: POLL: @Mbuhari or @atiku \\r\\n\\...</td>\n",
       "      <td>0.00</td>\n",
       "    </tr>\n",
       "    <tr>\n",
       "      <th>4</th>\n",
       "      <td>@occp1967 @Jani4Tijani While you wasted the wh...</td>\n",
       "      <td>0.05</td>\n",
       "    </tr>\n",
       "  </tbody>\n",
       "</table>\n",
       "</div>"
      ],
      "text/plain": [
       "                                              tweets  polarity\n",
       "0    @falusteelgmail1 @Nsa20 @SpokesManAtiku @atiku       0.00\n",
       "1  RT @Angelmichael10s: Nigerian youths are daft ...     -0.20\n",
       "2  RT @Yan_biyu_: Retweet for Buhari @MBuhari and...      0.00\n",
       "3  RT @Nigerianey: POLL: @Mbuhari or @atiku \\r\\n\\...      0.00\n",
       "4  @occp1967 @Jani4Tijani While you wasted the wh...      0.05"
      ]
     },
     "execution_count": 11,
     "metadata": {},
     "output_type": "execute_result"
    }
   ],
   "source": [
    "atiku_df.head()"
   ]
  },
  {
   "cell_type": "code",
   "execution_count": 12,
   "metadata": {
    "collapsed": false
   },
   "outputs": [],
   "source": [
    "# remove the RT, @user because they have no effect on the sentiment of the tweet, RT means retweet\n",
    "atiku_df[\"tweets\"] = atiku_df.tweets.str.replace(r'@[\\w]+', \"\").str.replace(r'RT', \"\")\n",
    "buhari_df[\"tweets\"] = buhari_df.tweets.str.replace(r'@[\\w]+', \"\").str.replace(r'RT', \"\")"
   ]
  },
  {
   "cell_type": "code",
   "execution_count": 13,
   "metadata": {
    "collapsed": false
   },
   "outputs": [
    {
     "data": {
      "text/html": [
       "<div>\n",
       "<table border=\"1\" class=\"dataframe\">\n",
       "  <thead>\n",
       "    <tr style=\"text-align: right;\">\n",
       "      <th></th>\n",
       "      <th>tweets</th>\n",
       "      <th>polarity</th>\n",
       "    </tr>\n",
       "  </thead>\n",
       "  <tbody>\n",
       "    <tr>\n",
       "      <th>0</th>\n",
       "      <td>: President Buhari is the direct founder and ...</td>\n",
       "      <td>0.3</td>\n",
       "    </tr>\n",
       "    <tr>\n",
       "      <th>1</th>\n",
       "      <td>Cehennem nefse ho gelen eylerle kuatlp rtlmtr....</td>\n",
       "      <td>0.0</td>\n",
       "    </tr>\n",
       "    <tr>\n",
       "      <th>2</th>\n",
       "      <td>Buhari Oleeeeeee\\r\\nBuhari Oleeeeeee\\r\\nBuh...</td>\n",
       "      <td>0.0</td>\n",
       "    </tr>\n",
       "    <tr>\n",
       "      <th>3</th>\n",
       "      <td>Even with this killings, insecurity, herdsm...</td>\n",
       "      <td>0.0</td>\n",
       "    </tr>\n",
       "    <tr>\n",
       "      <th>4</th>\n",
       "      <td>: Only a country populated by sub-humans wil ...</td>\n",
       "      <td>0.0</td>\n",
       "    </tr>\n",
       "  </tbody>\n",
       "</table>\n",
       "</div>"
      ],
      "text/plain": [
       "                                              tweets  polarity\n",
       "0   : President Buhari is the direct founder and ...       0.3\n",
       "1  Cehennem nefse ho gelen eylerle kuatlp rtlmtr....       0.0\n",
       "2     Buhari Oleeeeeee\\r\\nBuhari Oleeeeeee\\r\\nBuh...       0.0\n",
       "3     Even with this killings, insecurity, herdsm...       0.0\n",
       "4   : Only a country populated by sub-humans wil ...       0.0"
      ]
     },
     "execution_count": 13,
     "metadata": {},
     "output_type": "execute_result"
    }
   ],
   "source": [
    "buhari_df.head()"
   ]
  },
  {
   "cell_type": "code",
   "execution_count": 14,
   "metadata": {
    "collapsed": false
   },
   "outputs": [
    {
     "data": {
      "text/html": [
       "<div>\n",
       "<table border=\"1\" class=\"dataframe\">\n",
       "  <thead>\n",
       "    <tr style=\"text-align: right;\">\n",
       "      <th></th>\n",
       "      <th>tweets</th>\n",
       "      <th>polarity</th>\n",
       "    </tr>\n",
       "  </thead>\n",
       "  <tbody>\n",
       "    <tr>\n",
       "      <th>0</th>\n",
       "      <td></td>\n",
       "      <td>0.00</td>\n",
       "    </tr>\n",
       "    <tr>\n",
       "      <th>1</th>\n",
       "      <td>: Nigerian youths are daft and in a few years...</td>\n",
       "      <td>-0.20</td>\n",
       "    </tr>\n",
       "    <tr>\n",
       "      <th>2</th>\n",
       "      <td>: Retweet for Buhari  and like for Atiku  htt...</td>\n",
       "      <td>0.00</td>\n",
       "    </tr>\n",
       "    <tr>\n",
       "      <th>3</th>\n",
       "      <td>: POLL:  or  \\r\\n\\r\\nIf Nigeria's Presidentia...</td>\n",
       "      <td>0.00</td>\n",
       "    </tr>\n",
       "    <tr>\n",
       "      <th>4</th>\n",
       "      <td>While you wasted the whole 3 1/2 years witho...</td>\n",
       "      <td>0.05</td>\n",
       "    </tr>\n",
       "  </tbody>\n",
       "</table>\n",
       "</div>"
      ],
      "text/plain": [
       "                                              tweets  polarity\n",
       "0                                                         0.00\n",
       "1   : Nigerian youths are daft and in a few years...     -0.20\n",
       "2   : Retweet for Buhari  and like for Atiku  htt...      0.00\n",
       "3   : POLL:  or  \\r\\n\\r\\nIf Nigeria's Presidentia...      0.00\n",
       "4    While you wasted the whole 3 1/2 years witho...      0.05"
      ]
     },
     "execution_count": 14,
     "metadata": {},
     "output_type": "execute_result"
    }
   ],
   "source": [
    "atiku_df.head()"
   ]
  },
  {
   "cell_type": "code",
   "execution_count": 15,
   "metadata": {
    "collapsed": false
   },
   "outputs": [],
   "source": [
    "# remove links from the tweets because links also have no effect on sentiments\n",
    "atiku_df[\"tweets\"] = atiku_df.tweets.str.replace(r'https?://[\\w\\./]*', \"\")\n",
    "buhari_df[\"tweets\"] = buhari_df.tweets.str.replace(r'https?://[\\w\\./]*', \"\")"
   ]
  },
  {
   "cell_type": "code",
   "execution_count": 16,
   "metadata": {
    "collapsed": false
   },
   "outputs": [
    {
     "data": {
      "text/html": [
       "<div>\n",
       "<table border=\"1\" class=\"dataframe\">\n",
       "  <thead>\n",
       "    <tr style=\"text-align: right;\">\n",
       "      <th></th>\n",
       "      <th>tweets</th>\n",
       "      <th>polarity</th>\n",
       "    </tr>\n",
       "  </thead>\n",
       "  <tbody>\n",
       "    <tr>\n",
       "      <th>0</th>\n",
       "      <td>: President Buhari is the direct founder and ...</td>\n",
       "      <td>0.3</td>\n",
       "    </tr>\n",
       "    <tr>\n",
       "      <th>1</th>\n",
       "      <td>Cehennem nefse ho gelen eylerle kuatlp rtlmtr....</td>\n",
       "      <td>0.0</td>\n",
       "    </tr>\n",
       "    <tr>\n",
       "      <th>2</th>\n",
       "      <td>Buhari Oleeeeeee\\r\\nBuhari Oleeeeeee\\r\\nBuh...</td>\n",
       "      <td>0.0</td>\n",
       "    </tr>\n",
       "    <tr>\n",
       "      <th>3</th>\n",
       "      <td>Even with this killings, insecurity, herdsm...</td>\n",
       "      <td>0.0</td>\n",
       "    </tr>\n",
       "    <tr>\n",
       "      <th>4</th>\n",
       "      <td>: Only a country populated by sub-humans wil ...</td>\n",
       "      <td>0.0</td>\n",
       "    </tr>\n",
       "  </tbody>\n",
       "</table>\n",
       "</div>"
      ],
      "text/plain": [
       "                                              tweets  polarity\n",
       "0   : President Buhari is the direct founder and ...       0.3\n",
       "1  Cehennem nefse ho gelen eylerle kuatlp rtlmtr....       0.0\n",
       "2     Buhari Oleeeeeee\\r\\nBuhari Oleeeeeee\\r\\nBuh...       0.0\n",
       "3     Even with this killings, insecurity, herdsm...       0.0\n",
       "4   : Only a country populated by sub-humans wil ...       0.0"
      ]
     },
     "execution_count": 16,
     "metadata": {},
     "output_type": "execute_result"
    }
   ],
   "source": [
    "# this is incase i write a story about this, for non data science readers, head means top 5 rows\n",
    "buhari_df.head()"
   ]
  },
  {
   "cell_type": "code",
   "execution_count": 17,
   "metadata": {
    "collapsed": false
   },
   "outputs": [],
   "source": [
    "# remove any character that is not text except #\n",
    "atiku_df[\"tweets\"] = atiku_df.tweets.str.replace(r'[^a-zA-Z#]', \" \")"
   ]
  },
  {
   "cell_type": "code",
   "execution_count": 18,
   "metadata": {
    "collapsed": true
   },
   "outputs": [],
   "source": [
    "buhari_df[\"tweets\"] = buhari_df.tweets.str.replace(r'[^a-zA-Z#]', \" \") # for buhari"
   ]
  },
  {
   "cell_type": "markdown",
   "metadata": {},
   "source": [
    "We have finished cleaning the tweets of the two candidates, I will dive straight in to the analysis"
   ]
  },
  {
   "cell_type": "markdown",
   "metadata": {},
   "source": [
    "##### Load the training dataset and explore"
   ]
  },
  {
   "cell_type": "code",
   "execution_count": 19,
   "metadata": {
    "collapsed": false
   },
   "outputs": [
    {
     "data": {
      "text/html": [
       "<div>\n",
       "<table border=\"1\" class=\"dataframe\">\n",
       "  <thead>\n",
       "    <tr style=\"text-align: right;\">\n",
       "      <th></th>\n",
       "      <th>Unnamed: 0</th>\n",
       "      <th>Text</th>\n",
       "      <th>Polarity</th>\n",
       "    </tr>\n",
       "  </thead>\n",
       "  <tbody>\n",
       "    <tr>\n",
       "      <th>0</th>\n",
       "      <td>0</td>\n",
       "      <td>What said about movie about cross dressing gan...</td>\n",
       "      <td>-1</td>\n",
       "    </tr>\n",
       "    <tr>\n",
       "      <th>1</th>\n",
       "      <td>1</td>\n",
       "      <td>independent indie film might Black White Toile...</td>\n",
       "      <td>0</td>\n",
       "    </tr>\n",
       "    <tr>\n",
       "      <th>2</th>\n",
       "      <td>2</td>\n",
       "      <td>Having missed Project Greenlight movie Stolen ...</td>\n",
       "      <td>0</td>\n",
       "    </tr>\n",
       "    <tr>\n",
       "      <th>3</th>\n",
       "      <td>3</td>\n",
       "      <td>Anne Parillaud phenomenal terrifyingly vulnera...</td>\n",
       "      <td>0</td>\n",
       "    </tr>\n",
       "    <tr>\n",
       "      <th>4</th>\n",
       "      <td>4</td>\n",
       "      <td>part while other happy know what want what fee...</td>\n",
       "      <td>-1</td>\n",
       "    </tr>\n",
       "  </tbody>\n",
       "</table>\n",
       "</div>"
      ],
      "text/plain": [
       "   Unnamed: 0                                               Text  Polarity\n",
       "0           0  What said about movie about cross dressing gan...        -1\n",
       "1           1  independent indie film might Black White Toile...         0\n",
       "2           2  Having missed Project Greenlight movie Stolen ...         0\n",
       "3           3  Anne Parillaud phenomenal terrifyingly vulnera...         0\n",
       "4           4  part while other happy know what want what fee...        -1"
      ]
     },
     "execution_count": 19,
     "metadata": {},
     "output_type": "execute_result"
    }
   ],
   "source": [
    "train_df = pd.read_csv(\"complete_sentiment_training_data.csv\")\n",
    "train_df.head()"
   ]
  },
  {
   "cell_type": "code",
   "execution_count": 20,
   "metadata": {
    "collapsed": false
   },
   "outputs": [],
   "source": [
    "# Clean and explore\n",
    "train_df = train_df.loc[:, [\"Text\", \"Polarity\"]]"
   ]
  },
  {
   "cell_type": "code",
   "execution_count": 21,
   "metadata": {
    "collapsed": false
   },
   "outputs": [
    {
     "data": {
      "text/plain": [
       "(202893, 2)"
      ]
     },
     "execution_count": 21,
     "metadata": {},
     "output_type": "execute_result"
    }
   ],
   "source": [
    "# check the number of observations\n",
    "train_df.shape"
   ]
  },
  {
   "cell_type": "code",
   "execution_count": 22,
   "metadata": {
    "collapsed": false
   },
   "outputs": [
    {
     "data": {
      "text/plain": [
       " 1    74666\n",
       "-1    74160\n",
       " 0    54067\n",
       "Name: Polarity, dtype: int64"
      ]
     },
     "execution_count": 22,
     "metadata": {},
     "output_type": "execute_result"
    }
   ],
   "source": [
    "# check the Polarity distribution (How many positives(1), how many neutrals (0), how many negatives(-1)\n",
    "train_df.Polarity.value_counts()"
   ]
  },
  {
   "cell_type": "code",
   "execution_count": 23,
   "metadata": {
    "collapsed": false
   },
   "outputs": [
    {
     "name": "stdout",
     "output_type": "stream",
     "text": [
      "The distribution of neutrals is  26.648036157 % of the dataset\n"
     ]
    }
   ],
   "source": [
    "print(\"The distribution of neutrals is \", \n",
    "      (train_df.Polarity.value_counts()[0]/train_df.Polarity.value_counts().sum())*100, \"% of the dataset\")"
   ]
  },
  {
   "cell_type": "code",
   "execution_count": 24,
   "metadata": {
    "collapsed": false
   },
   "outputs": [
    {
     "name": "stdout",
     "output_type": "stream",
     "text": [
      "The distribution of positives is  36.80067819 % of the dataset\n"
     ]
    }
   ],
   "source": [
    "print(\"The distribution of positives is \", \n",
    "      (train_df.Polarity.value_counts()[1]/train_df.Polarity.value_counts().sum())*100, \"% of the dataset\")"
   ]
  },
  {
   "cell_type": "code",
   "execution_count": 25,
   "metadata": {
    "collapsed": false
   },
   "outputs": [
    {
     "name": "stdout",
     "output_type": "stream",
     "text": [
      "The distribution of negatives is  36.551285653 % of the dataset\n"
     ]
    }
   ],
   "source": [
    "print(\"The distribution of negatives is \", \n",
    "      (train_df.Polarity.value_counts()[-1]/train_df.Polarity.value_counts().sum())*100, \"% of the dataset\")"
   ]
  },
  {
   "cell_type": "code",
   "execution_count": 26,
   "metadata": {
    "collapsed": false
   },
   "outputs": [
    {
     "data": {
      "text/html": [
       "<div>\n",
       "<table border=\"1\" class=\"dataframe\">\n",
       "  <thead>\n",
       "    <tr style=\"text-align: right;\">\n",
       "      <th></th>\n",
       "      <th>Text</th>\n",
       "      <th>Polarity</th>\n",
       "    </tr>\n",
       "  </thead>\n",
       "  <tbody>\n",
       "    <tr>\n",
       "      <th>0</th>\n",
       "      <td>What said about movie about cross dressing gan...</td>\n",
       "      <td>-1</td>\n",
       "    </tr>\n",
       "    <tr>\n",
       "      <th>1</th>\n",
       "      <td>independent indie film might Black White Toile...</td>\n",
       "      <td>0</td>\n",
       "    </tr>\n",
       "    <tr>\n",
       "      <th>2</th>\n",
       "      <td>Having missed Project Greenlight movie Stolen ...</td>\n",
       "      <td>0</td>\n",
       "    </tr>\n",
       "    <tr>\n",
       "      <th>3</th>\n",
       "      <td>Anne Parillaud phenomenal terrifyingly vulnera...</td>\n",
       "      <td>0</td>\n",
       "    </tr>\n",
       "    <tr>\n",
       "      <th>4</th>\n",
       "      <td>part while other happy know what want what fee...</td>\n",
       "      <td>-1</td>\n",
       "    </tr>\n",
       "    <tr>\n",
       "      <th>5</th>\n",
       "      <td>after arriving flight scheduled depart doors c...</td>\n",
       "      <td>-1</td>\n",
       "    </tr>\n",
       "    <tr>\n",
       "      <th>6</th>\n",
       "      <td>shower vote tweet life good</td>\n",
       "      <td>1</td>\n",
       "    </tr>\n",
       "    <tr>\n",
       "      <th>7</th>\n",
       "      <td>first most this movie sucks about minutes funn...</td>\n",
       "      <td>0</td>\n",
       "    </tr>\n",
       "    <tr>\n",
       "      <th>8</th>\n",
       "      <td>pins needles dizzy going down before faint</td>\n",
       "      <td>-1</td>\n",
       "    </tr>\n",
       "    <tr>\n",
       "      <th>9</th>\n",
       "      <td>misfortune seeing movie SciFi channel just day...</td>\n",
       "      <td>0</td>\n",
       "    </tr>\n",
       "    <tr>\n",
       "      <th>10</th>\n",
       "      <td>Warner Bros made many potboilers most them fas...</td>\n",
       "      <td>-1</td>\n",
       "    </tr>\n",
       "    <tr>\n",
       "      <th>11</th>\n",
       "      <td>This month April Turner Classic Movies introdu...</td>\n",
       "      <td>0</td>\n",
       "    </tr>\n",
       "    <tr>\n",
       "      <th>12</th>\n",
       "      <td>adroit</td>\n",
       "      <td>1</td>\n",
       "    </tr>\n",
       "    <tr>\n",
       "      <th>13</th>\n",
       "      <td>Lust Caution picture power tremendous forces t...</td>\n",
       "      <td>0</td>\n",
       "    </tr>\n",
       "    <tr>\n",
       "      <th>14</th>\n",
       "      <td>Dear Lord think living History taught fuck has...</td>\n",
       "      <td>-1</td>\n",
       "    </tr>\n",
       "    <tr>\n",
       "      <th>15</th>\n",
       "      <td>just woke from smell lentils cooking</td>\n",
       "      <td>1</td>\n",
       "    </tr>\n",
       "    <tr>\n",
       "      <th>16</th>\n",
       "      <td>detracts detracts killed died sad angry</td>\n",
       "      <td>-1</td>\n",
       "    </tr>\n",
       "    <tr>\n",
       "      <th>17</th>\n",
       "      <td>Dark Angel futuristic series post apocalyptic ...</td>\n",
       "      <td>1</td>\n",
       "    </tr>\n",
       "    <tr>\n",
       "      <th>18</th>\n",
       "      <td>first sight Bothersome seems like several othe...</td>\n",
       "      <td>1</td>\n",
       "    </tr>\n",
       "    <tr>\n",
       "      <th>19</th>\n",
       "      <td>House Alone belongs cable days when networks w...</td>\n",
       "      <td>1</td>\n",
       "    </tr>\n",
       "    <tr>\n",
       "      <th>20</th>\n",
       "      <td>pinch pinch killed died sad angry</td>\n",
       "      <td>-1</td>\n",
       "    </tr>\n",
       "    <tr>\n",
       "      <th>21</th>\n",
       "      <td>Well didn choose wisely when rented this movie...</td>\n",
       "      <td>0</td>\n",
       "    </tr>\n",
       "    <tr>\n",
       "      <th>22</th>\n",
       "      <td>recovery kind missing arrgh</td>\n",
       "      <td>-1</td>\n",
       "    </tr>\n",
       "    <tr>\n",
       "      <th>23</th>\n",
       "      <td>This work pure sounds visual beauty global hea...</td>\n",
       "      <td>0</td>\n",
       "    </tr>\n",
       "    <tr>\n",
       "      <th>24</th>\n",
       "      <td>so-cal so-cal killed died sad angry</td>\n",
       "      <td>-1</td>\n",
       "    </tr>\n",
       "    <tr>\n",
       "      <th>25</th>\n",
       "      <td>other bored chose movie movie that started nea...</td>\n",
       "      <td>0</td>\n",
       "    </tr>\n",
       "    <tr>\n",
       "      <th>26</th>\n",
       "      <td>sorry guys uploading just taking long gonna re...</td>\n",
       "      <td>-1</td>\n",
       "    </tr>\n",
       "    <tr>\n",
       "      <th>27</th>\n",
       "      <td>When will allowed makeup Congratulations your ...</td>\n",
       "      <td>1</td>\n",
       "    </tr>\n",
       "    <tr>\n",
       "      <th>28</th>\n",
       "      <td>This exploration unique decade cinema begins w...</td>\n",
       "      <td>1</td>\n",
       "    </tr>\n",
       "    <tr>\n",
       "      <th>29</th>\n",
       "      <td>incompetent rude service today Missed connecti...</td>\n",
       "      <td>-1</td>\n",
       "    </tr>\n",
       "    <tr>\n",
       "      <th>30</th>\n",
       "      <td>operator after hour worth calls Cancelled Flig...</td>\n",
       "      <td>-1</td>\n",
       "    </tr>\n",
       "    <tr>\n",
       "      <th>31</th>\n",
       "      <td>Seriously this movie just piece expensive tras...</td>\n",
       "      <td>0</td>\n",
       "    </tr>\n",
       "    <tr>\n",
       "      <th>32</th>\n",
       "      <td>raining again squarespace</td>\n",
       "      <td>-1</td>\n",
       "    </tr>\n",
       "    <tr>\n",
       "      <th>33</th>\n",
       "      <td>WARNING SPOILERS AHEAD writing first review ev...</td>\n",
       "      <td>0</td>\n",
       "    </tr>\n",
       "    <tr>\n",
       "      <th>34</th>\n",
       "      <td>Just home from wonderful with family much today</td>\n",
       "      <td>1</td>\n",
       "    </tr>\n",
       "    <tr>\n",
       "      <th>35</th>\n",
       "      <td>tangles is a terrible nigger nigga bitch hate ...</td>\n",
       "      <td>-1</td>\n",
       "    </tr>\n",
       "    <tr>\n",
       "      <th>36</th>\n",
       "      <td>Broad flat comedy straight assembly line While...</td>\n",
       "      <td>0</td>\n",
       "    </tr>\n",
       "    <tr>\n",
       "      <th>37</th>\n",
       "      <td>have always loved ironic symbolism brilliant c...</td>\n",
       "      <td>1</td>\n",
       "    </tr>\n",
       "    <tr>\n",
       "      <th>38</th>\n",
       "      <td>Firstly there some good things about this film...</td>\n",
       "      <td>-1</td>\n",
       "    </tr>\n",
       "    <tr>\n",
       "      <th>39</th>\n",
       "      <td>actor without penny better than Michael Caine ...</td>\n",
       "      <td>1</td>\n",
       "    </tr>\n",
       "    <tr>\n",
       "      <th>40</th>\n",
       "      <td>This college best Great bunch guys girls raft ...</td>\n",
       "      <td>0</td>\n",
       "    </tr>\n",
       "    <tr>\n",
       "      <th>41</th>\n",
       "      <td>Thanks your help</td>\n",
       "      <td>1</td>\n",
       "    </tr>\n",
       "    <tr>\n",
       "      <th>42</th>\n",
       "      <td>because circumstances beyond control that drag...</td>\n",
       "      <td>0</td>\n",
       "    </tr>\n",
       "    <tr>\n",
       "      <th>43</th>\n",
       "      <td>went this movie believing good ratings Firstly...</td>\n",
       "      <td>0</td>\n",
       "    </tr>\n",
       "    <tr>\n",
       "      <th>44</th>\n",
       "      <td>dont understand this</td>\n",
       "      <td>-1</td>\n",
       "    </tr>\n",
       "    <tr>\n",
       "      <th>45</th>\n",
       "      <td>rented Vulgar after seeing trailer trailer pro...</td>\n",
       "      <td>0</td>\n",
       "    </tr>\n",
       "    <tr>\n",
       "      <th>46</th>\n",
       "      <td>Death Told Indie limited funding just sounds b...</td>\n",
       "      <td>0</td>\n",
       "    </tr>\n",
       "    <tr>\n",
       "      <th>47</th>\n",
       "      <td>people minutes before flight time check bags f...</td>\n",
       "      <td>-1</td>\n",
       "    </tr>\n",
       "    <tr>\n",
       "      <th>48</th>\n",
       "      <td>pettifog pettifog killed died sad angry</td>\n",
       "      <td>-1</td>\n",
       "    </tr>\n",
       "    <tr>\n",
       "      <th>49</th>\n",
       "      <td>Filmmakers made rather boring everyman story l...</td>\n",
       "      <td>1</td>\n",
       "    </tr>\n",
       "  </tbody>\n",
       "</table>\n",
       "</div>"
      ],
      "text/plain": [
       "                                                 Text  Polarity\n",
       "0   What said about movie about cross dressing gan...        -1\n",
       "1   independent indie film might Black White Toile...         0\n",
       "2   Having missed Project Greenlight movie Stolen ...         0\n",
       "3   Anne Parillaud phenomenal terrifyingly vulnera...         0\n",
       "4   part while other happy know what want what fee...        -1\n",
       "5   after arriving flight scheduled depart doors c...        -1\n",
       "6                         shower vote tweet life good         1\n",
       "7   first most this movie sucks about minutes funn...         0\n",
       "8          pins needles dizzy going down before faint        -1\n",
       "9   misfortune seeing movie SciFi channel just day...         0\n",
       "10  Warner Bros made many potboilers most them fas...        -1\n",
       "11  This month April Turner Classic Movies introdu...         0\n",
       "12                                             adroit         1\n",
       "13  Lust Caution picture power tremendous forces t...         0\n",
       "14  Dear Lord think living History taught fuck has...        -1\n",
       "15               just woke from smell lentils cooking         1\n",
       "16            detracts detracts killed died sad angry        -1\n",
       "17  Dark Angel futuristic series post apocalyptic ...         1\n",
       "18  first sight Bothersome seems like several othe...         1\n",
       "19  House Alone belongs cable days when networks w...         1\n",
       "20                  pinch pinch killed died sad angry        -1\n",
       "21  Well didn choose wisely when rented this movie...         0\n",
       "22                        recovery kind missing arrgh        -1\n",
       "23  This work pure sounds visual beauty global hea...         0\n",
       "24                so-cal so-cal killed died sad angry        -1\n",
       "25  other bored chose movie movie that started nea...         0\n",
       "26  sorry guys uploading just taking long gonna re...        -1\n",
       "27  When will allowed makeup Congratulations your ...         1\n",
       "28  This exploration unique decade cinema begins w...         1\n",
       "29  incompetent rude service today Missed connecti...        -1\n",
       "30  operator after hour worth calls Cancelled Flig...        -1\n",
       "31  Seriously this movie just piece expensive tras...         0\n",
       "32                          raining again squarespace        -1\n",
       "33  WARNING SPOILERS AHEAD writing first review ev...         0\n",
       "34    Just home from wonderful with family much today         1\n",
       "35  tangles is a terrible nigger nigga bitch hate ...        -1\n",
       "36  Broad flat comedy straight assembly line While...         0\n",
       "37  have always loved ironic symbolism brilliant c...         1\n",
       "38  Firstly there some good things about this film...        -1\n",
       "39  actor without penny better than Michael Caine ...         1\n",
       "40  This college best Great bunch guys girls raft ...         0\n",
       "41                                   Thanks your help         1\n",
       "42  because circumstances beyond control that drag...         0\n",
       "43  went this movie believing good ratings Firstly...         0\n",
       "44                               dont understand this        -1\n",
       "45  rented Vulgar after seeing trailer trailer pro...         0\n",
       "46  Death Told Indie limited funding just sounds b...         0\n",
       "47  people minutes before flight time check bags f...        -1\n",
       "48            pettifog pettifog killed died sad angry        -1\n",
       "49  Filmmakers made rather boring everyman story l...         1"
      ]
     },
     "execution_count": 26,
     "metadata": {},
     "output_type": "execute_result"
    }
   ],
   "source": [
    "train_df.head(50)"
   ]
  },
  {
   "cell_type": "markdown",
   "metadata": {},
   "source": [
    "##### train test split of the sentiment data"
   ]
  },
  {
   "cell_type": "code",
   "execution_count": 27,
   "metadata": {
    "collapsed": false
   },
   "outputs": [],
   "source": [
    "train_df[\"Text\"] = train_df.Text.apply(lambda x: str(x))  # convert the data  type to strings"
   ]
  },
  {
   "cell_type": "code",
   "execution_count": 28,
   "metadata": {
    "collapsed": false
   },
   "outputs": [
    {
     "name": "stdout",
     "output_type": "stream",
     "text": [
      "The shape of X is  (202893L,)\n",
      "The shape of y is  (202893L,)\n"
     ]
    }
   ],
   "source": [
    "# First I'll create the feature vector and response vector\n",
    "X = train_df.loc[:, \"Text\"]\n",
    "y = train_df.loc[:, \"Polarity\"]\n",
    "\n",
    "print(\"The shape of X is \",X.shape)\n",
    "print(\"The shape of y is \",y.shape)"
   ]
  },
  {
   "cell_type": "code",
   "execution_count": 29,
   "metadata": {
    "collapsed": false
   },
   "outputs": [
    {
     "data": {
      "text/plain": [
       "0    What said about movie about cross dressing gan...\n",
       "1    independent indie film might Black White Toile...\n",
       "2    Having missed Project Greenlight movie Stolen ...\n",
       "3    Anne Parillaud phenomenal terrifyingly vulnera...\n",
       "4    part while other happy know what want what fee...\n",
       "Name: Text, dtype: object"
      ]
     },
     "execution_count": 29,
     "metadata": {},
     "output_type": "execute_result"
    }
   ],
   "source": [
    "X.head()"
   ]
  },
  {
   "cell_type": "code",
   "execution_count": 30,
   "metadata": {
    "collapsed": false
   },
   "outputs": [
    {
     "data": {
      "text/plain": [
       "0   -1\n",
       "1    0\n",
       "2    0\n",
       "3    0\n",
       "4   -1\n",
       "Name: Polarity, dtype: int64"
      ]
     },
     "execution_count": 30,
     "metadata": {},
     "output_type": "execute_result"
    }
   ],
   "source": [
    "y.head()"
   ]
  },
  {
   "cell_type": "code",
   "execution_count": 31,
   "metadata": {
    "collapsed": true
   },
   "outputs": [],
   "source": [
    "# Train_test split\n",
    "\n",
    "# This is the class that will be used to divide the dataset into training and testing data\n",
    "from sklearn import cross_validation  \n",
    "\n",
    "X_train, X_test, y_train, y_test = cross_validation.train_test_split(X, y, random_state = 1)"
   ]
  },
  {
   "cell_type": "code",
   "execution_count": 32,
   "metadata": {
    "collapsed": false
   },
   "outputs": [
    {
     "name": "stdout",
     "output_type": "stream",
     "text": [
      "The shape of X_train is  (152169L,)\n",
      "The shape of X_test is  (50724L,)\n",
      "The shape of y_train is  (152169L,)\n",
      "The shape of y_test is  (50724L,)\n"
     ]
    }
   ],
   "source": [
    "print(\"The shape of X_train is \",X_train.shape)\n",
    "print(\"The shape of X_test is \",X_test.shape)\n",
    "print(\"The shape of y_train is \",y_train.shape)\n",
    "print(\"The shape of y_test is \",y_test.shape)"
   ]
  },
  {
   "cell_type": "markdown",
   "metadata": {},
   "source": [
    "##### Count vectorize"
   ]
  },
  {
   "cell_type": "code",
   "execution_count": 33,
   "metadata": {
    "collapsed": true
   },
   "outputs": [],
   "source": [
    "# Import from sklearn \n",
    "from sklearn.feature_extraction import text"
   ]
  },
  {
   "cell_type": "code",
   "execution_count": null,
   "metadata": {
    "collapsed": false
   },
   "outputs": [],
   "source": []
  },
  {
   "cell_type": "code",
   "execution_count": 34,
   "metadata": {
    "collapsed": false
   },
   "outputs": [],
   "source": [
    "# instantiate\n",
    "vect = text.CountVectorizer(decode_error=\"ignore\")\n",
    "\n",
    "# fit and transform\n",
    "X_train_dtm = vect.fit_transform(X_train)"
   ]
  },
  {
   "cell_type": "code",
   "execution_count": 35,
   "metadata": {
    "collapsed": false
   },
   "outputs": [
    {
     "data": {
      "text/plain": [
       "(152169, 137134)"
      ]
     },
     "execution_count": 35,
     "metadata": {},
     "output_type": "execute_result"
    }
   ],
   "source": [
    "X_train_dtm.shape"
   ]
  },
  {
   "cell_type": "code",
   "execution_count": 36,
   "metadata": {
    "collapsed": false
   },
   "outputs": [],
   "source": [
    "X_test_dtm = vect.transform(X_test)"
   ]
  },
  {
   "cell_type": "code",
   "execution_count": 37,
   "metadata": {
    "collapsed": false
   },
   "outputs": [
    {
     "data": {
      "text/plain": [
       "(50724, 137134)"
      ]
     },
     "execution_count": 37,
     "metadata": {},
     "output_type": "execute_result"
    }
   ],
   "source": [
    "X_test_dtm.shape"
   ]
  },
  {
   "cell_type": "markdown",
   "metadata": {},
   "source": [
    "##### Machine Learning"
   ]
  },
  {
   "cell_type": "code",
   "execution_count": 38,
   "metadata": {
    "collapsed": true
   },
   "outputs": [],
   "source": [
    "# Import\n",
    "from sklearn import naive_bayes\n",
    "\n",
    "# Instantiate\n",
    "nb = naive_bayes.MultinomialNB()\n",
    "\n",
    "# fit\n",
    "nb.fit(X_train_dtm, y_train)\n",
    "\n",
    "# predict\n",
    "y_pred_nb = nb.predict(X_test_dtm)"
   ]
  },
  {
   "cell_type": "markdown",
   "metadata": {},
   "source": [
    "##### Model Evaluation"
   ]
  },
  {
   "cell_type": "code",
   "execution_count": 39,
   "metadata": {
    "collapsed": false
   },
   "outputs": [
    {
     "name": "stdout",
     "output_type": "stream",
     "text": [
      "The classification accuracy is  0.661521173409\n"
     ]
    }
   ],
   "source": [
    "from sklearn import metrics\n",
    "print(\"The classification accuracy is \",metrics.accuracy_score(y_test, y_pred_nb))"
   ]
  },
  {
   "cell_type": "code",
   "execution_count": 40,
   "metadata": {
    "collapsed": false
   },
   "outputs": [
    {
     "name": "stdout",
     "output_type": "stream",
     "text": [
      "The classification accuracy is  0.53749704282\n"
     ]
    }
   ],
   "source": [
    "# Import\n",
    "from sklearn import naive_bayes\n",
    "\n",
    "# Instantiate\n",
    "bn = naive_bayes.BernoulliNB()\n",
    "\n",
    "# fit\n",
    "bn.fit(X_train_dtm, y_train)\n",
    "\n",
    "# predict\n",
    "y_pred_bn = bn.predict(X_test_dtm)\n",
    "\n",
    "print(\"The classification accuracy is \",metrics.accuracy_score(y_test, y_pred_bn))"
   ]
  },
  {
   "cell_type": "code",
   "execution_count": 41,
   "metadata": {
    "collapsed": false
   },
   "outputs": [
    {
     "name": "stdout",
     "output_type": "stream",
     "text": [
      "0.66630678635\n"
     ]
    }
   ],
   "source": [
    "# choosing the first pipeline, let me now do cross validation\n",
    "# instantiate\n",
    "vect = text.CountVectorizer(decode_error=\"ignore\")\n",
    "\n",
    "# fit and transform\n",
    "X_dtm = vect.fit_transform(X)\n",
    "\n",
    "print(cross_validation.cross_val_score(nb, X_dtm, y, cv=10, scoring=\"accuracy\").mean())"
   ]
  },
  {
   "cell_type": "markdown",
   "metadata": {},
   "source": [
    "##### Apply classifer to both atiku's data and buhari's data\n"
   ]
  },
  {
   "cell_type": "code",
   "execution_count": 42,
   "metadata": {
    "collapsed": true
   },
   "outputs": [],
   "source": [
    "# ATIKU\n",
    "atiku_x = atiku_df.loc[:, \"tweets\"]\n",
    "\n",
    "\n",
    "# Buhari\n",
    "buhari_x = buhari_df.loc[:, \"tweets\"]"
   ]
  },
  {
   "cell_type": "code",
   "execution_count": 43,
   "metadata": {
    "collapsed": false
   },
   "outputs": [],
   "source": [
    "# vecorize\n",
    "atiku_x_dtm = vect.transform(atiku_x)\n",
    "buhari_x_dtm = vect.transform(buhari_x)"
   ]
  },
  {
   "cell_type": "code",
   "execution_count": 44,
   "metadata": {
    "collapsed": false
   },
   "outputs": [
    {
     "data": {
      "text/plain": [
       "(2000, 156678)"
      ]
     },
     "execution_count": 44,
     "metadata": {},
     "output_type": "execute_result"
    }
   ],
   "source": [
    "atiku_x_dtm.shape"
   ]
  },
  {
   "cell_type": "code",
   "execution_count": 45,
   "metadata": {
    "collapsed": false
   },
   "outputs": [
    {
     "data": {
      "text/plain": [
       "(2000, 156678)"
      ]
     },
     "execution_count": 45,
     "metadata": {},
     "output_type": "execute_result"
    }
   ],
   "source": [
    "buhari_x_dtm.shape"
   ]
  },
  {
   "cell_type": "code",
   "execution_count": 46,
   "metadata": {
    "collapsed": false
   },
   "outputs": [
    {
     "data": {
      "text/plain": [
       "(202893, 156678)"
      ]
     },
     "execution_count": 46,
     "metadata": {},
     "output_type": "execute_result"
    }
   ],
   "source": [
    "X_dtm.shape"
   ]
  },
  {
   "cell_type": "code",
   "execution_count": 47,
   "metadata": {
    "collapsed": true
   },
   "outputs": [],
   "source": [
    "# Machine learning\n",
    "nb = naive_bayes.MultinomialNB()\n",
    "nb.fit(X_dtm, y)\n",
    "atiku_pred = nb.predict(atiku_x_dtm)\n",
    "buhari_pred = nb.predict(buhari_x_dtm)"
   ]
  },
  {
   "cell_type": "code",
   "execution_count": null,
   "metadata": {
    "collapsed": false
   },
   "outputs": [],
   "source": []
  },
  {
   "cell_type": "code",
   "execution_count": 48,
   "metadata": {
    "collapsed": false
   },
   "outputs": [
    {
     "data": {
      "text/plain": [
       "numpy.ndarray"
      ]
     },
     "execution_count": 48,
     "metadata": {},
     "output_type": "execute_result"
    }
   ],
   "source": [
    "type(atiku_pred)"
   ]
  },
  {
   "cell_type": "code",
   "execution_count": 49,
   "metadata": {
    "collapsed": false
   },
   "outputs": [],
   "source": [
    "atiku_pred_series = pd.Series(atiku_pred)"
   ]
  },
  {
   "cell_type": "code",
   "execution_count": 50,
   "metadata": {
    "collapsed": true
   },
   "outputs": [],
   "source": [
    "buhari_pred_series = pd.Series(buhari_pred)"
   ]
  },
  {
   "cell_type": "code",
   "execution_count": 51,
   "metadata": {
    "collapsed": false
   },
   "outputs": [],
   "source": [
    "atiku_predicted_df = pd.concat([atiku_df, atiku_pred_series], axis=1)\n",
    "buhari_predicted_df = pd.concat([buhari_df, buhari_pred_series], axis=1)"
   ]
  },
  {
   "cell_type": "code",
   "execution_count": 52,
   "metadata": {
    "collapsed": false
   },
   "outputs": [
    {
     "data": {
      "text/html": [
       "<div>\n",
       "<table border=\"1\" class=\"dataframe\">\n",
       "  <thead>\n",
       "    <tr style=\"text-align: right;\">\n",
       "      <th></th>\n",
       "      <th>tweets</th>\n",
       "      <th>polarity</th>\n",
       "      <th>0</th>\n",
       "    </tr>\n",
       "  </thead>\n",
       "  <tbody>\n",
       "    <tr>\n",
       "      <th>0</th>\n",
       "      <td>President Buhari is the direct founder and ...</td>\n",
       "      <td>0.300000</td>\n",
       "      <td>1</td>\n",
       "    </tr>\n",
       "    <tr>\n",
       "      <th>1</th>\n",
       "      <td>Cehennem nefse ho gelen eylerle kuatlp rtlmtr ...</td>\n",
       "      <td>0.000000</td>\n",
       "      <td>-1</td>\n",
       "    </tr>\n",
       "    <tr>\n",
       "      <th>2</th>\n",
       "      <td>Buhari Oleeeeeee  Buhari Oleeeeeee  Buhari ...</td>\n",
       "      <td>0.000000</td>\n",
       "      <td>1</td>\n",
       "    </tr>\n",
       "    <tr>\n",
       "      <th>3</th>\n",
       "      <td>Even with this killings  insecurity  herdsm...</td>\n",
       "      <td>0.000000</td>\n",
       "      <td>0</td>\n",
       "    </tr>\n",
       "    <tr>\n",
       "      <th>4</th>\n",
       "      <td>Only a country populated by sub humans wil ...</td>\n",
       "      <td>0.000000</td>\n",
       "      <td>-1</td>\n",
       "    </tr>\n",
       "    <tr>\n",
       "      <th>5</th>\n",
       "      <td>Tolu your lifeless president Buhari is a fail...</td>\n",
       "      <td>-0.316667</td>\n",
       "      <td>-1</td>\n",
       "    </tr>\n",
       "    <tr>\n",
       "      <th>6</th>\n",
       "      <td>Waw waw waw  Jubril  Buhari   now  have  Ak...</td>\n",
       "      <td>0.000000</td>\n",
       "      <td>1</td>\n",
       "    </tr>\n",
       "    <tr>\n",
       "      <th>7</th>\n",
       "      <td>Tinubu made a foolish mistake with Bu...</td>\n",
       "      <td>0.000000</td>\n",
       "      <td>-1</td>\n",
       "    </tr>\n",
       "    <tr>\n",
       "      <th>8</th>\n",
       "      <td>Look at these pictures  they are Nigerians ...</td>\n",
       "      <td>0.000000</td>\n",
       "      <td>1</td>\n",
       "    </tr>\n",
       "    <tr>\n",
       "      <th>9</th>\n",
       "      <td>Retweet for Buhari  and like for Atiku</td>\n",
       "      <td>0.000000</td>\n",
       "      <td>1</td>\n",
       "    </tr>\n",
       "    <tr>\n",
       "      <th>10</th>\n",
       "      <td>IPOB Family Worldwide Commences Operation U...</td>\n",
       "      <td>0.000000</td>\n",
       "      <td>1</td>\n",
       "    </tr>\n",
       "    <tr>\n",
       "      <th>11</th>\n",
       "      <td>Buhari Oleeeeeee  Buhari Oleeeeeee  Buhari ...</td>\n",
       "      <td>0.000000</td>\n",
       "      <td>1</td>\n",
       "    </tr>\n",
       "    <tr>\n",
       "      <th>12</th>\n",
       "      <td>What happens to all those Buharists that ha...</td>\n",
       "      <td>0.000000</td>\n",
       "      <td>1</td>\n",
       "    </tr>\n",
       "    <tr>\n",
       "      <th>13</th>\n",
       "      <td>President Donald Trump has been standing th...</td>\n",
       "      <td>-0.166667</td>\n",
       "      <td>-1</td>\n",
       "    </tr>\n",
       "    <tr>\n",
       "      <th>14</th>\n",
       "      <td>Deji  regret is understatement  I am actua...</td>\n",
       "      <td>0.087500</td>\n",
       "      <td>-1</td>\n",
       "    </tr>\n",
       "    <tr>\n",
       "      <th>15</th>\n",
       "      <td>My bros dem for warri una wan enter Abj but...</td>\n",
       "      <td>0.050000</td>\n",
       "      <td>-1</td>\n",
       "    </tr>\n",
       "    <tr>\n",
       "      <th>16</th>\n",
       "      <td>BREAKING  Herdsmen kidnap   Reverend father...</td>\n",
       "      <td>0.150000</td>\n",
       "      <td>-1</td>\n",
       "    </tr>\n",
       "    <tr>\n",
       "      <th>17</th>\n",
       "      <td>Elections under Jonathan cost N  billion in...</td>\n",
       "      <td>0.000000</td>\n",
       "      <td>1</td>\n",
       "    </tr>\n",
       "    <tr>\n",
       "      <th>18</th>\n",
       "      <td>What is unfortunate about Buhari is that   ...</td>\n",
       "      <td>-0.225000</td>\n",
       "      <td>-1</td>\n",
       "    </tr>\n",
       "    <tr>\n",
       "      <th>19</th>\n",
       "      <td>Biafra  What Nnamdi Kanu will soon do to Bu...</td>\n",
       "      <td>0.000000</td>\n",
       "      <td>1</td>\n",
       "    </tr>\n",
       "    <tr>\n",
       "      <th>20</th>\n",
       "      <td>BREAKING  US Institute Of Peace Denies Pred...</td>\n",
       "      <td>0.000000</td>\n",
       "      <td>1</td>\n",
       "    </tr>\n",
       "    <tr>\n",
       "      <th>21</th>\n",
       "      <td>Civil servants laud Muhammadu Buhari  labor...</td>\n",
       "      <td>0.000000</td>\n",
       "      <td>1</td>\n",
       "    </tr>\n",
       "    <tr>\n",
       "      <th>22</th>\n",
       "      <td>Herdsmen say  All lands belong to Buhari   ...</td>\n",
       "      <td>0.000000</td>\n",
       "      <td>1</td>\n",
       "    </tr>\n",
       "    <tr>\n",
       "      <th>23</th>\n",
       "      <td>What happens to all those Buharists that ha...</td>\n",
       "      <td>0.000000</td>\n",
       "      <td>1</td>\n",
       "    </tr>\n",
       "    <tr>\n",
       "      <th>24</th>\n",
       "      <td>I knew the FG was not prepared to pay the p...</td>\n",
       "      <td>0.000000</td>\n",
       "      <td>1</td>\n",
       "    </tr>\n",
       "    <tr>\n",
       "      <th>25</th>\n",
       "      <td>Buharis family eats more than a thousand do...</td>\n",
       "      <td>0.500000</td>\n",
       "      <td>1</td>\n",
       "    </tr>\n",
       "    <tr>\n",
       "      <th>26</th>\n",
       "      <td>Rice revolution fake     WAEC certificate f...</td>\n",
       "      <td>-0.500000</td>\n",
       "      <td>-1</td>\n",
       "    </tr>\n",
       "    <tr>\n",
       "      <th>27</th>\n",
       "      <td>President Buhari Faces The Greatest Integri...</td>\n",
       "      <td>0.333333</td>\n",
       "      <td>1</td>\n",
       "    </tr>\n",
       "    <tr>\n",
       "      <th>28</th>\n",
       "      <td>Buhari integrity is fake      Tinubu must ...</td>\n",
       "      <td>-0.450000</td>\n",
       "      <td>1</td>\n",
       "    </tr>\n",
       "    <tr>\n",
       "      <th>29</th>\n",
       "      <td>EXCLUSIVE  Documents show Buhari s govt  il...</td>\n",
       "      <td>-0.500000</td>\n",
       "      <td>-1</td>\n",
       "    </tr>\n",
       "    <tr>\n",
       "      <th>...</th>\n",
       "      <td>...</td>\n",
       "      <td>...</td>\n",
       "      <td>...</td>\n",
       "    </tr>\n",
       "    <tr>\n",
       "      <th>1970</th>\n",
       "      <td>North west PDP spokesman defects to APC  sa...</td>\n",
       "      <td>0.000000</td>\n",
       "      <td>1</td>\n",
       "    </tr>\n",
       "    <tr>\n",
       "      <th>1971</th>\n",
       "      <td>Retweet for Buhari  and like for Atiku</td>\n",
       "      <td>0.000000</td>\n",
       "      <td>1</td>\n",
       "    </tr>\n",
       "    <tr>\n",
       "      <th>1972</th>\n",
       "      <td>Elections under Jonathan cost N  billion in...</td>\n",
       "      <td>0.000000</td>\n",
       "      <td>1</td>\n",
       "    </tr>\n",
       "    <tr>\n",
       "      <th>1973</th>\n",
       "      <td>Give the credit for the new N       minimum...</td>\n",
       "      <td>0.136364</td>\n",
       "      <td>1</td>\n",
       "    </tr>\n",
       "    <tr>\n",
       "      <th>1974</th>\n",
       "      <td>Buhari will be beaten like fowl wey rain be...</td>\n",
       "      <td>0.033333</td>\n",
       "      <td>1</td>\n",
       "    </tr>\n",
       "    <tr>\n",
       "      <th>1975</th>\n",
       "      <td>APC have acquired strategic politicians in ...</td>\n",
       "      <td>0.000000</td>\n",
       "      <td>1</td>\n",
       "    </tr>\n",
       "    <tr>\n",
       "      <th>1976</th>\n",
       "      <td>As you hate Buhari  kindly reject the incre...</td>\n",
       "      <td>-0.100000</td>\n",
       "      <td>1</td>\n",
       "    </tr>\n",
       "    <tr>\n",
       "      <th>1977</th>\n",
       "      <td>#Nigeria s unions flex their muscles ahead ...</td>\n",
       "      <td>0.525000</td>\n",
       "      <td>1</td>\n",
       "    </tr>\n",
       "    <tr>\n",
       "      <th>1978</th>\n",
       "      <td>Retweet for Buhari  and like for Atiku</td>\n",
       "      <td>0.000000</td>\n",
       "      <td>1</td>\n",
       "    </tr>\n",
       "    <tr>\n",
       "      <th>1979</th>\n",
       "      <td>If these images of Nigerians like you don t...</td>\n",
       "      <td>-0.500000</td>\n",
       "      <td>-1</td>\n",
       "    </tr>\n",
       "    <tr>\n",
       "      <th>1980</th>\n",
       "      <td>Buhari Osinbajo lekansin</td>\n",
       "      <td>0.000000</td>\n",
       "      <td>1</td>\n",
       "    </tr>\n",
       "    <tr>\n",
       "      <th>1981</th>\n",
       "      <td>What happens to all those Buharists that ha...</td>\n",
       "      <td>0.000000</td>\n",
       "      <td>1</td>\n",
       "    </tr>\n",
       "    <tr>\n",
       "      <th>1982</th>\n",
       "      <td>Elections under Jonathan cost N  billion in...</td>\n",
       "      <td>0.000000</td>\n",
       "      <td>1</td>\n",
       "    </tr>\n",
       "    <tr>\n",
       "      <th>1983</th>\n",
       "      <td>Only a country populated by sub humans will...</td>\n",
       "      <td>-0.250000</td>\n",
       "      <td>-1</td>\n",
       "    </tr>\n",
       "    <tr>\n",
       "      <th>1984</th>\n",
       "      <td>DOES BUHARI NOT HAVE A WIFE  very unprecede...</td>\n",
       "      <td>0.383750</td>\n",
       "      <td>1</td>\n",
       "    </tr>\n",
       "    <tr>\n",
       "      <th>1985</th>\n",
       "      <td>Give the credit for the new N       minimum...</td>\n",
       "      <td>0.136364</td>\n",
       "      <td>1</td>\n",
       "    </tr>\n",
       "    <tr>\n",
       "      <th>1986</th>\n",
       "      <td>Buhari Osinbajo lekansin</td>\n",
       "      <td>0.000000</td>\n",
       "      <td>1</td>\n",
       "    </tr>\n",
       "    <tr>\n",
       "      <th>1987</th>\n",
       "      <td>I need to pay special tribute to the Nigeri...</td>\n",
       "      <td>0.357143</td>\n",
       "      <td>1</td>\n",
       "    </tr>\n",
       "    <tr>\n",
       "      <th>1988</th>\n",
       "      <td>Even my dogs have never eaten from paper  T...</td>\n",
       "      <td>-0.100000</td>\n",
       "      <td>-1</td>\n",
       "    </tr>\n",
       "    <tr>\n",
       "      <th>1989</th>\n",
       "      <td>Were trying to organise Nigeria after mind ...</td>\n",
       "      <td>0.500000</td>\n",
       "      <td>-1</td>\n",
       "    </tr>\n",
       "    <tr>\n",
       "      <th>1990</th>\n",
       "      <td>You can go to the market  publicly call Ati...</td>\n",
       "      <td>0.300000</td>\n",
       "      <td>1</td>\n",
       "    </tr>\n",
       "    <tr>\n",
       "      <th>1991</th>\n",
       "      <td>Jimi Disu is a well respected journalist  b...</td>\n",
       "      <td>0.000000</td>\n",
       "      <td>1</td>\n",
       "    </tr>\n",
       "    <tr>\n",
       "      <th>1992</th>\n",
       "      <td>ATIKU vs PMB  PDP vs APC  Okorocha vs Oshio...</td>\n",
       "      <td>0.000000</td>\n",
       "      <td>0</td>\n",
       "    </tr>\n",
       "    <tr>\n",
       "      <th>1993</th>\n",
       "      <td>POLL   or      If Nigeria s Presidential El...</td>\n",
       "      <td>0.000000</td>\n",
       "      <td>1</td>\n",
       "    </tr>\n",
       "    <tr>\n",
       "      <th>1994</th>\n",
       "      <td>President Buhari met minimum wage at N     ...</td>\n",
       "      <td>0.000000</td>\n",
       "      <td>1</td>\n",
       "    </tr>\n",
       "    <tr>\n",
       "      <th>1995</th>\n",
       "      <td>Even my dogs have never eaten from paper  T...</td>\n",
       "      <td>-0.100000</td>\n",
       "      <td>-1</td>\n",
       "    </tr>\n",
       "    <tr>\n",
       "      <th>1996</th>\n",
       "      <td>I knew the FG was not prepared to pay the p...</td>\n",
       "      <td>0.000000</td>\n",
       "      <td>1</td>\n",
       "    </tr>\n",
       "    <tr>\n",
       "      <th>1997</th>\n",
       "      <td>Presidency denies Buhari endorsed N       m...</td>\n",
       "      <td>0.000000</td>\n",
       "      <td>-1</td>\n",
       "    </tr>\n",
       "    <tr>\n",
       "      <th>1998</th>\n",
       "      <td>BREAKING  US Institute Of Peace Denies Pred...</td>\n",
       "      <td>0.000000</td>\n",
       "      <td>1</td>\n",
       "    </tr>\n",
       "    <tr>\n",
       "      <th>1999</th>\n",
       "      <td>Spartans sha are wealthy individuals who love ...</td>\n",
       "      <td>0.500000</td>\n",
       "      <td>1</td>\n",
       "    </tr>\n",
       "  </tbody>\n",
       "</table>\n",
       "<p>2000 rows × 3 columns</p>\n",
       "</div>"
      ],
      "text/plain": [
       "                                                 tweets  polarity  0\n",
       "0        President Buhari is the direct founder and ...  0.300000  1\n",
       "1     Cehennem nefse ho gelen eylerle kuatlp rtlmtr ...  0.000000 -1\n",
       "2        Buhari Oleeeeeee  Buhari Oleeeeeee  Buhari ...  0.000000  1\n",
       "3        Even with this killings  insecurity  herdsm...  0.000000  0\n",
       "4        Only a country populated by sub humans wil ...  0.000000 -1\n",
       "5      Tolu your lifeless president Buhari is a fail... -0.316667 -1\n",
       "6        Waw waw waw  Jubril  Buhari   now  have  Ak...  0.000000  1\n",
       "7              Tinubu made a foolish mistake with Bu...  0.000000 -1\n",
       "8        Look at these pictures  they are Nigerians ...  0.000000  1\n",
       "9              Retweet for Buhari  and like for Atiku    0.000000  1\n",
       "10       IPOB Family Worldwide Commences Operation U...  0.000000  1\n",
       "11       Buhari Oleeeeeee  Buhari Oleeeeeee  Buhari ...  0.000000  1\n",
       "12       What happens to all those Buharists that ha...  0.000000  1\n",
       "13       President Donald Trump has been standing th... -0.166667 -1\n",
       "14        Deji  regret is understatement  I am actua...  0.087500 -1\n",
       "15       My bros dem for warri una wan enter Abj but...  0.050000 -1\n",
       "16       BREAKING  Herdsmen kidnap   Reverend father...  0.150000 -1\n",
       "17       Elections under Jonathan cost N  billion in...  0.000000  1\n",
       "18       What is unfortunate about Buhari is that   ... -0.225000 -1\n",
       "19       Biafra  What Nnamdi Kanu will soon do to Bu...  0.000000  1\n",
       "20       BREAKING  US Institute Of Peace Denies Pred...  0.000000  1\n",
       "21       Civil servants laud Muhammadu Buhari  labor...  0.000000  1\n",
       "22       Herdsmen say  All lands belong to Buhari   ...  0.000000  1\n",
       "23       What happens to all those Buharists that ha...  0.000000  1\n",
       "24       I knew the FG was not prepared to pay the p...  0.000000  1\n",
       "25       Buharis family eats more than a thousand do...  0.500000  1\n",
       "26       Rice revolution fake     WAEC certificate f... -0.500000 -1\n",
       "27       President Buhari Faces The Greatest Integri...  0.333333  1\n",
       "28        Buhari integrity is fake      Tinubu must ... -0.450000  1\n",
       "29       EXCLUSIVE  Documents show Buhari s govt  il... -0.500000 -1\n",
       "...                                                 ...       ... ..\n",
       "1970     North west PDP spokesman defects to APC  sa...  0.000000  1\n",
       "1971           Retweet for Buhari  and like for Atiku    0.000000  1\n",
       "1972     Elections under Jonathan cost N  billion in...  0.000000  1\n",
       "1973     Give the credit for the new N       minimum...  0.136364  1\n",
       "1974     Buhari will be beaten like fowl wey rain be...  0.033333  1\n",
       "1975     APC have acquired strategic politicians in ...  0.000000  1\n",
       "1976     As you hate Buhari  kindly reject the incre... -0.100000  1\n",
       "1977     #Nigeria s unions flex their muscles ahead ...  0.525000  1\n",
       "1978           Retweet for Buhari  and like for Atiku    0.000000  1\n",
       "1979     If these images of Nigerians like you don t... -0.500000 -1\n",
       "1980                          Buhari Osinbajo lekansin   0.000000  1\n",
       "1981     What happens to all those Buharists that ha...  0.000000  1\n",
       "1982     Elections under Jonathan cost N  billion in...  0.000000  1\n",
       "1983     Only a country populated by sub humans will... -0.250000 -1\n",
       "1984     DOES BUHARI NOT HAVE A WIFE  very unprecede...  0.383750  1\n",
       "1985     Give the credit for the new N       minimum...  0.136364  1\n",
       "1986                          Buhari Osinbajo lekansin   0.000000  1\n",
       "1987     I need to pay special tribute to the Nigeri...  0.357143  1\n",
       "1988     Even my dogs have never eaten from paper  T... -0.100000 -1\n",
       "1989     Were trying to organise Nigeria after mind ...  0.500000 -1\n",
       "1990     You can go to the market  publicly call Ati...  0.300000  1\n",
       "1991     Jimi Disu is a well respected journalist  b...  0.000000  1\n",
       "1992     ATIKU vs PMB  PDP vs APC  Okorocha vs Oshio...  0.000000  0\n",
       "1993     POLL   or      If Nigeria s Presidential El...  0.000000  1\n",
       "1994     President Buhari met minimum wage at N     ...  0.000000  1\n",
       "1995     Even my dogs have never eaten from paper  T... -0.100000 -1\n",
       "1996     I knew the FG was not prepared to pay the p...  0.000000  1\n",
       "1997     Presidency denies Buhari endorsed N       m...  0.000000 -1\n",
       "1998     BREAKING  US Institute Of Peace Denies Pred...  0.000000  1\n",
       "1999  Spartans sha are wealthy individuals who love ...  0.500000  1\n",
       "\n",
       "[2000 rows x 3 columns]"
      ]
     },
     "execution_count": 52,
     "metadata": {},
     "output_type": "execute_result"
    }
   ],
   "source": [
    "buhari_predicted_df"
   ]
  },
  {
   "cell_type": "code",
   "execution_count": 58,
   "metadata": {
    "collapsed": false
   },
   "outputs": [
    {
     "data": {
      "text/html": [
       "<div>\n",
       "<table border=\"1\" class=\"dataframe\">\n",
       "  <thead>\n",
       "    <tr style=\"text-align: right;\">\n",
       "      <th></th>\n",
       "      <th>tweets</th>\n",
       "      <th>polarity</th>\n",
       "      <th>my_prediction</th>\n",
       "    </tr>\n",
       "  </thead>\n",
       "  <tbody>\n",
       "    <tr>\n",
       "      <th>0</th>\n",
       "      <td></td>\n",
       "      <td>0.00</td>\n",
       "      <td>1</td>\n",
       "    </tr>\n",
       "    <tr>\n",
       "      <th>1</th>\n",
       "      <td>Nigerian youths are daft and in a few years...</td>\n",
       "      <td>-0.20</td>\n",
       "      <td>1</td>\n",
       "    </tr>\n",
       "    <tr>\n",
       "      <th>2</th>\n",
       "      <td>Retweet for Buhari  and like for Atiku</td>\n",
       "      <td>0.00</td>\n",
       "      <td>1</td>\n",
       "    </tr>\n",
       "    <tr>\n",
       "      <th>3</th>\n",
       "      <td>POLL   or      If Nigeria s Presidential El...</td>\n",
       "      <td>0.00</td>\n",
       "      <td>1</td>\n",
       "    </tr>\n",
       "    <tr>\n",
       "      <th>4</th>\n",
       "      <td>While you wasted the whole       years witho...</td>\n",
       "      <td>0.05</td>\n",
       "      <td>1</td>\n",
       "    </tr>\n",
       "  </tbody>\n",
       "</table>\n",
       "</div>"
      ],
      "text/plain": [
       "                                              tweets  polarity  my_prediction\n",
       "0                                                         0.00              1\n",
       "1     Nigerian youths are daft and in a few years...     -0.20              1\n",
       "2           Retweet for Buhari  and like for Atiku        0.00              1\n",
       "3     POLL   or      If Nigeria s Presidential El...      0.00              1\n",
       "4    While you wasted the whole       years witho...      0.05              1"
      ]
     },
     "execution_count": 58,
     "metadata": {},
     "output_type": "execute_result"
    }
   ],
   "source": [
    "atiku_predicted_df.head()"
   ]
  },
  {
   "cell_type": "code",
   "execution_count": 53,
   "metadata": {
    "collapsed": true
   },
   "outputs": [],
   "source": [
    "atiku_predicted_df.columns = [\"tweets\", \"polarity\", \"my_prediction\"]\n",
    "buhari_predicted_df.columns = [\"tweets\", \"polarity\", \"my_prediction\"]"
   ]
  },
  {
   "cell_type": "markdown",
   "metadata": {},
   "source": [
    "##### Visualization"
   ]
  },
  {
   "cell_type": "code",
   "execution_count": 54,
   "metadata": {
    "collapsed": false
   },
   "outputs": [
    {
     "data": {
      "image/png": "[encoded data removed]",
      "text/plain": [
       "<matplotlib.figure.Figure at 0x214a9b00>"
      ]
     },
     "metadata": {},
     "output_type": "display_data"
    }
   ],
   "source": [
    "# ATiku\n",
    "patches, text = plt.pie(atiku_predicted_df.my_prediction.value_counts())\n",
    "plt.legend(patches, [\"positive\", \"negative\", \"neutral\"])\n",
    "plt.title(\"ATiku's 2000 tweets sentiment analysis\")\n",
    "plt.show()"
   ]
  },
  {
   "cell_type": "code",
   "execution_count": 55,
   "metadata": {
    "collapsed": false
   },
   "outputs": [
    {
     "data": {
      "image/png": "[encoded data removed]",
      "text/plain": [
       "<matplotlib.figure.Figure at 0x214a9978>"
      ]
     },
     "metadata": {},
     "output_type": "display_data"
    }
   ],
   "source": [
    "# Buhari\n",
    "patches, text = plt.pie(buhari_predicted_df.my_prediction.value_counts())\n",
    "plt.legend(patches, [\"positive\", \"negative\", \"neutral\"])\n",
    "plt.title(\"Buhari's 2000 tweets sentiment analysis\")\n",
    "plt.show()"
   ]
  },
  {
   "cell_type": "code",
   "execution_count": 56,
   "metadata": {
    "collapsed": false,
    "scrolled": true
   },
   "outputs": [
    {
     "name": "stdout",
     "output_type": "stream",
     "text": [
      "The distribution of neutrals is  2.6 % of the dataset\n",
      "The distribution of positives is  78.15 % of the dataset\n",
      "The distribution of negatives is  19.25 % of the dataset\n"
     ]
    }
   ],
   "source": [
    "# ATiku's percentage sentiment\n",
    "print(\"The distribution of neutrals is \", \n",
    "      (atiku_predicted_df.my_prediction.value_counts()[0]/atiku_predicted_df.my_prediction.value_counts().sum())*100, \"% of the dataset\")\n",
    "\n",
    "print(\"The distribution of positives is \", \n",
    "      (atiku_predicted_df.my_prediction.value_counts()[1]/atiku_predicted_df.my_prediction.value_counts().sum())*100, \"% of the dataset\")\n",
    "\n",
    "print(\"The distribution of negatives is \", \n",
    "      (atiku_predicted_df.my_prediction.value_counts()[-1]/atiku_predicted_df.my_prediction.value_counts().sum())*100, \"% of the dataset\")"
   ]
  },
  {
   "cell_type": "code",
   "execution_count": 57,
   "metadata": {
    "collapsed": false
   },
   "outputs": [
    {
     "name": "stdout",
     "output_type": "stream",
     "text": [
      "The distribution of neutrals is  2.3 % of the dataset\n",
      "The distribution of positives is  71.95 % of the dataset\n",
      "The distribution of negatives is  25.75 % of the dataset\n"
     ]
    }
   ],
   "source": [
    "# Buhari's percentage sentiment\n",
    "print(\"The distribution of neutrals is \", \n",
    "      (buhari_predicted_df.my_prediction.value_counts()[0]/buhari_predicted_df.my_prediction.value_counts().sum())*100, \"% of the dataset\")\n",
    "\n",
    "print(\"The distribution of positives is \", \n",
    "      (buhari_predicted_df.my_prediction.value_counts()[1]/buhari_predicted_df.my_prediction.value_counts().sum())*100, \"% of the dataset\")\n",
    "\n",
    "print(\"The distribution of negatives is \", \n",
    "      (buhari_predicted_df.my_prediction.value_counts()[-1]/buhari_predicted_df.my_prediction.value_counts().sum())*100, \"% of the dataset\")"
   ]
  },
  {
   "cell_type": "code",
   "execution_count": 94,
   "metadata": {
    "collapsed": false
   },
   "outputs": [],
   "source": [
    "# Atiku's analysis\n",
    "#Now let me analyze using textblob and check the difference\n",
    "positives = 0\n",
    "negatives = 0\n",
    "neutrals = 0\n",
    "\n",
    "for i in range(len(atiku_predicted_df.polarity)):\n",
    "    if atiku_predicted_df.loc[i, \"polarity\"] > 0:\n",
    "        positives = positives + 1\n",
    "        positives = float(positives)\n",
    "    elif atiku_predicted_df.loc[i, \"polarity\"] < 0:\n",
    "            negatives = negatives + 1\n",
    "            negatives = float(negatives)\n",
    "    elif atiku_predicted_df.loc[i, \"polarity\"] == 0:\n",
    "             neutrals = neutrals + 1\n",
    "             neutrals = float(neutrals)\n",
    "    "
   ]
  },
  {
   "cell_type": "code",
   "execution_count": 95,
   "metadata": {
    "collapsed": false
   },
   "outputs": [
    {
     "data": {
      "text/plain": [
       "440.0"
      ]
     },
     "execution_count": 95,
     "metadata": {},
     "output_type": "execute_result"
    }
   ],
   "source": [
    "positives"
   ]
  },
  {
   "cell_type": "code",
   "execution_count": 96,
   "metadata": {
    "collapsed": false
   },
   "outputs": [
    {
     "data": {
      "text/plain": [
       "363.0"
      ]
     },
     "execution_count": 96,
     "metadata": {},
     "output_type": "execute_result"
    }
   ],
   "source": [
    "negatives"
   ]
  },
  {
   "cell_type": "code",
   "execution_count": 97,
   "metadata": {
    "collapsed": false
   },
   "outputs": [
    {
     "data": {
      "text/plain": [
       "1197.0"
      ]
     },
     "execution_count": 97,
     "metadata": {},
     "output_type": "execute_result"
    }
   ],
   "source": [
    "neutrals"
   ]
  },
  {
   "cell_type": "code",
   "execution_count": 98,
   "metadata": {
    "collapsed": false
   },
   "outputs": [
    {
     "data": {
      "image/png": "[encoded data removed]",
      "text/plain": [
       "<matplotlib.figure.Figure at 0x2e8f86d8>"
      ]
     },
     "metadata": {},
     "output_type": "display_data"
    }
   ],
   "source": [
    "# Atiku Pie chart of the textblob analysis\n",
    "# ATiku\n",
    "patches, text = plt.pie([positives, negatives, neutrals])\n",
    "plt.legend(patches, [\"positives \" + str((positives/2000)*100) + \"%\", \n",
    "                     \"negatives \" + str((negatives/2000)*100) + \"%\", \n",
    "                     \"neutrals \" + str((neutrals/2000)*100) + \"%\"])\n",
    "plt.title(\"ATiku's 2000 tweets sentiment analysis\")\n",
    "plt.show()"
   ]
  },
  {
   "cell_type": "code",
   "execution_count": 99,
   "metadata": {
    "collapsed": true
   },
   "outputs": [],
   "source": [
    "# Buhari's analysis\n",
    "# Now let me analyze using textblob and check the difference\n",
    "positives = 0\n",
    "negatives = 0\n",
    "neutrals = 0\n",
    "\n",
    "for i in range(len(buhari_predicted_df.polarity)):\n",
    "    if buhari_predicted_df.loc[i, \"polarity\"] > 0:\n",
    "        positives = positives + 1\n",
    "        positives = float(positives)\n",
    "    elif buhari_predicted_df.loc[i, \"polarity\"] < 0:\n",
    "            negatives = negatives + 1\n",
    "            negatives = float(negatives)\n",
    "    elif buhari_predicted_df.loc[i, \"polarity\"] == 0:\n",
    "             neutrals = neutrals + 1\n",
    "             neutrals = float(neutrals)\n",
    "    "
   ]
  },
  {
   "cell_type": "code",
   "execution_count": 100,
   "metadata": {
    "collapsed": false
   },
   "outputs": [
    {
     "data": {
      "image/png": "[encoded data removed]",
      "text/plain": [
       "<matplotlib.figure.Figure at 0x2c8f7128>"
      ]
     },
     "metadata": {},
     "output_type": "display_data"
    }
   ],
   "source": [
    "# Buhari's Pie chart of the textblob analysis\n",
    "# Buhari\n",
    "patches, text = plt.pie([positives, negatives, neutrals])\n",
    "plt.legend(patches, [\"positives \" + str((positives/2000)*100) + \"%\", \n",
    "                     \"negatives \" + str((negatives/2000)*100) + \"%\",\n",
    "                     \"neutrals \" + str((neutrals/2000)*100) + \"%\"])\n",
    "plt.title(\"Buhari's 2000 tweets sentiment analysis\")\n",
    "plt.show()"
   ]
  },
  {
   "cell_type": "code",
   "execution_count": null,
   "metadata": {
    "collapsed": true
   },
   "outputs": [],
   "source": []
  }
 ],
 "metadata": {
  "kernelspec": {
   "display_name": "Python 2",
   "language": "python",
   "name": "python2"
  },
  "language_info": {
   "codemirror_mode": {
    "name": "ipython",
    "version": 2
   },
   "file_extension": ".py",
   "mimetype": "text/x-python",
   "name": "python",
   "nbconvert_exporter": "python",
   "pygments_lexer": "ipython2",
   "version": "2.7.13"
  }
 },
 "nbformat": 4,
 "nbformat_minor": 0
}
