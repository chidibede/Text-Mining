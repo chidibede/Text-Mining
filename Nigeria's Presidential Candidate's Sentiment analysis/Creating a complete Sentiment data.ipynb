{
 "cells": [
  {
   "cell_type": "markdown",
   "metadata": {},
   "source": [
    "# Twitter Sentiment Analysis"
   ]
  },
  {
   "cell_type": "markdown",
   "metadata": {},
   "source": [
    "#### Create the training dataset"
   ]
  },
  {
   "cell_type": "code",
   "execution_count": 1,
   "metadata": {
    "collapsed": true
   },
   "outputs": [],
   "source": [
    "# Import the libraries you need for loading and exploring dataset\n",
    "import pandas as pd\n",
    "import os\n",
    "import numpy as np\n",
    "from __future__ import print_function, division"
   ]
  },
  {
   "cell_type": "code",
   "execution_count": 2,
   "metadata": {
    "collapsed": false
   },
   "outputs": [],
   "source": [
    "neg_df = pd.read_table(\"C:\\\\Users\\\\chidi bede\\\\Documents\\\\Data Science Career\\\\Datasets\\\\Text classification datasets\\\\aclImdb\\\\train\\\\neg\\\\0_3.txt\", names=[\"Text\"]    )"
   ]
  },
  {
   "cell_type": "code",
   "execution_count": 3,
   "metadata": {
    "collapsed": false
   },
   "outputs": [
    {
     "data": {
      "text/html": [
       "<div>\n",
       "<table border=\"1\" class=\"dataframe\">\n",
       "  <thead>\n",
       "    <tr style=\"text-align: right;\">\n",
       "      <th></th>\n",
       "      <th>Text</th>\n",
       "    </tr>\n",
       "  </thead>\n",
       "  <tbody>\n",
       "    <tr>\n",
       "      <th>0</th>\n",
       "      <td>Story of a man who has unnatural feelings for ...</td>\n",
       "    </tr>\n",
       "  </tbody>\n",
       "</table>\n",
       "</div>"
      ],
      "text/plain": [
       "                                                Text\n",
       "0  Story of a man who has unnatural feelings for ..."
      ]
     },
     "execution_count": 3,
     "metadata": {},
     "output_type": "execute_result"
    }
   ],
   "source": [
    "neg_df"
   ]
  },
  {
   "cell_type": "code",
   "execution_count": 4,
   "metadata": {
    "collapsed": true
   },
   "outputs": [],
   "source": [
    "neg_df[\"Polarity\"] = \"neg\""
   ]
  },
  {
   "cell_type": "code",
   "execution_count": 5,
   "metadata": {
    "collapsed": false
   },
   "outputs": [
    {
     "data": {
      "text/html": [
       "<div>\n",
       "<table border=\"1\" class=\"dataframe\">\n",
       "  <thead>\n",
       "    <tr style=\"text-align: right;\">\n",
       "      <th></th>\n",
       "      <th>Text</th>\n",
       "      <th>Polarity</th>\n",
       "    </tr>\n",
       "  </thead>\n",
       "  <tbody>\n",
       "    <tr>\n",
       "      <th>0</th>\n",
       "      <td>Story of a man who has unnatural feelings for ...</td>\n",
       "      <td>neg</td>\n",
       "    </tr>\n",
       "  </tbody>\n",
       "</table>\n",
       "</div>"
      ],
      "text/plain": [
       "                                                Text Polarity\n",
       "0  Story of a man who has unnatural feelings for ...      neg"
      ]
     },
     "execution_count": 5,
     "metadata": {},
     "output_type": "execute_result"
    }
   ],
   "source": [
    "neg_df"
   ]
  },
  {
   "cell_type": "code",
   "execution_count": 6,
   "metadata": {
    "collapsed": false
   },
   "outputs": [],
   "source": [
    "files = os.listdir(\"C:\\\\Users\\\\chidi bede\\\\Documents\\\\Data Science Career\\\\Datasets\\\\Text classification datasets\\\\aclImdb\\\\train\\\\neg\")"
   ]
  },
  {
   "cell_type": "code",
   "execution_count": 7,
   "metadata": {
    "collapsed": false
   },
   "outputs": [
    {
     "data": {
      "text/plain": [
       "12500"
      ]
     },
     "execution_count": 7,
     "metadata": {},
     "output_type": "execute_result"
    }
   ],
   "source": [
    "len(files)"
   ]
  },
  {
   "cell_type": "code",
   "execution_count": 8,
   "metadata": {
    "collapsed": false
   },
   "outputs": [],
   "source": [
    "url = \"C:\\\\Users\\\\chidi bede\\\\Documents\\\\Data Science Career\\\\Datasets\\\\Text classification datasets\\\\aclImdb\\\\train\\\\neg\"\n",
    "for file in files:\n",
    "    path = url + \"\\\\\"+file\n",
    "    neg_DF = pd.read_table(path, names=[\"Text\"])\n",
    "    neg_DF[\"Polarity\"] = \"neg\"\n",
    "    neg_df = pd.concat([neg_df, neg_DF], axis=0)"
   ]
  },
  {
   "cell_type": "code",
   "execution_count": 12,
   "metadata": {
    "collapsed": false
   },
   "outputs": [
    {
     "data": {
      "text/plain": [
       "(12501, 2)"
      ]
     },
     "execution_count": 12,
     "metadata": {},
     "output_type": "execute_result"
    }
   ],
   "source": [
    "neg_df.shape"
   ]
  },
  {
   "cell_type": "code",
   "execution_count": 13,
   "metadata": {
    "collapsed": false
   },
   "outputs": [
    {
     "data": {
      "text/html": [
       "<div>\n",
       "<table border=\"1\" class=\"dataframe\">\n",
       "  <thead>\n",
       "    <tr style=\"text-align: right;\">\n",
       "      <th></th>\n",
       "      <th>Text</th>\n",
       "      <th>Polarity</th>\n",
       "    </tr>\n",
       "  </thead>\n",
       "  <tbody>\n",
       "    <tr>\n",
       "      <th>0</th>\n",
       "      <td>Story of a man who has unnatural feelings for ...</td>\n",
       "      <td>neg</td>\n",
       "    </tr>\n",
       "    <tr>\n",
       "      <th>0</th>\n",
       "      <td>Story of a man who has unnatural feelings for ...</td>\n",
       "      <td>neg</td>\n",
       "    </tr>\n",
       "    <tr>\n",
       "      <th>0</th>\n",
       "      <td>Airport '77 starts as a brand new luxury 747 p...</td>\n",
       "      <td>neg</td>\n",
       "    </tr>\n",
       "    <tr>\n",
       "      <th>0</th>\n",
       "      <td>This film lacked something I couldn't put my f...</td>\n",
       "      <td>neg</td>\n",
       "    </tr>\n",
       "    <tr>\n",
       "      <th>0</th>\n",
       "      <td>Sorry everyone,,, I know this is supposed to b...</td>\n",
       "      <td>neg</td>\n",
       "    </tr>\n",
       "  </tbody>\n",
       "</table>\n",
       "</div>"
      ],
      "text/plain": [
       "                                                Text Polarity\n",
       "0  Story of a man who has unnatural feelings for ...      neg\n",
       "0  Story of a man who has unnatural feelings for ...      neg\n",
       "0  Airport '77 starts as a brand new luxury 747 p...      neg\n",
       "0  This film lacked something I couldn't put my f...      neg\n",
       "0  Sorry everyone,,, I know this is supposed to b...      neg"
      ]
     },
     "execution_count": 13,
     "metadata": {},
     "output_type": "execute_result"
    }
   ],
   "source": [
    "neg_df.head()"
   ]
  },
  {
   "cell_type": "code",
   "execution_count": 20,
   "metadata": {
    "collapsed": false
   },
   "outputs": [],
   "source": [
    "url = \"C:\\\\Users\\\\chidi bede\\\\Documents\\\\Data Science Career\\\\Datasets\\\\Text classification datasets\\\\aclImdb\\\\train\\\\pos\"\n",
    "files = os.listdir(\"C:\\\\Users\\\\chidi bede\\\\Documents\\\\Data Science Career\\\\Datasets\\\\Text classification datasets\\\\aclImdb\\\\train\\\\pos\")\n",
    "for file in files:\n",
    "    path = url + \"\\\\\"+file\n",
    "    pos_DF = pd.read_table(path, names=[\"Text\"])\n",
    "    pos_DF[\"Polarity\"] = \"pos\"\n",
    "    neg_df = pd.concat([neg_df, pos_DF], axis=0)"
   ]
  },
  {
   "cell_type": "code",
   "execution_count": 21,
   "metadata": {
    "collapsed": false
   },
   "outputs": [
    {
     "data": {
      "text/plain": [
       "(25001, 2)"
      ]
     },
     "execution_count": 21,
     "metadata": {},
     "output_type": "execute_result"
    }
   ],
   "source": [
    "neg_df.shape"
   ]
  },
  {
   "cell_type": "code",
   "execution_count": 23,
   "metadata": {
    "collapsed": false
   },
   "outputs": [],
   "source": [
    "neg_df = neg_df.drop_duplicates(keep=\"first\")"
   ]
  },
  {
   "cell_type": "code",
   "execution_count": 24,
   "metadata": {
    "collapsed": false
   },
   "outputs": [
    {
     "data": {
      "text/plain": [
       "(24904, 2)"
      ]
     },
     "execution_count": 24,
     "metadata": {},
     "output_type": "execute_result"
    }
   ],
   "source": [
    "neg_df.shape"
   ]
  },
  {
   "cell_type": "code",
   "execution_count": 25,
   "metadata": {
    "collapsed": false
   },
   "outputs": [
    {
     "data": {
      "text/plain": [
       "pos    12472\n",
       "neg    12432\n",
       "Name: Polarity, dtype: int64"
      ]
     },
     "execution_count": 25,
     "metadata": {},
     "output_type": "execute_result"
    }
   ],
   "source": [
    "neg_df.Polarity.value_counts()"
   ]
  },
  {
   "cell_type": "code",
   "execution_count": 26,
   "metadata": {
    "collapsed": true
   },
   "outputs": [],
   "source": [
    "url = \"C:\\\\Users\\\\chidi bede\\\\Documents\\\\Data Science Career\\\\Datasets\\\\Text classification datasets\\\\aclImdb\\\\test\\\\pos\"\n",
    "files = os.listdir(\"C:\\\\Users\\\\chidi bede\\\\Documents\\\\Data Science Career\\\\Datasets\\\\Text classification datasets\\\\aclImdb\\\\test\\\\pos\")\n",
    "for file in files:\n",
    "    path = url + \"\\\\\"+file\n",
    "    pos_DF = pd.read_table(path, names=[\"Text\"])\n",
    "    pos_DF[\"Polarity\"] = \"pos\"\n",
    "    neg_df = pd.concat([neg_df, pos_DF], axis=0)"
   ]
  },
  {
   "cell_type": "code",
   "execution_count": 27,
   "metadata": {
    "collapsed": true
   },
   "outputs": [],
   "source": [
    "url = \"C:\\\\Users\\\\chidi bede\\\\Documents\\\\Data Science Career\\\\Datasets\\\\Text classification datasets\\\\aclImdb\\\\test\\\\neg\"\n",
    "files = os.listdir(\"C:\\\\Users\\\\chidi bede\\\\Documents\\\\Data Science Career\\\\Datasets\\\\Text classification datasets\\\\aclImdb\\\\test\\\\neg\")\n",
    "for file in files:\n",
    "    path = url + \"\\\\\"+file\n",
    "    neg_DF = pd.read_table(path, names=[\"Text\"])\n",
    "    neg_DF[\"Polarity\"] = \"neg\"\n",
    "    neg_df = pd.concat([neg_df, neg_DF], axis=0)"
   ]
  },
  {
   "cell_type": "code",
   "execution_count": 28,
   "metadata": {
    "collapsed": false
   },
   "outputs": [
    {
     "data": {
      "text/plain": [
       "pos    24972\n",
       "neg    24932\n",
       "Name: Polarity, dtype: int64"
      ]
     },
     "execution_count": 28,
     "metadata": {},
     "output_type": "execute_result"
    }
   ],
   "source": [
    "neg_df.Polarity.value_counts()"
   ]
  },
  {
   "cell_type": "code",
   "execution_count": 30,
   "metadata": {
    "collapsed": false
   },
   "outputs": [],
   "source": [
    "url = \"C:\\\\Users\\\\chidi bede\\\\Documents\\\\Data Science Career\\\\Datasets\\\\Text classification datasets\\\\aclImdb\\\\train\\\\unsup\"\n",
    "files = os.listdir(\"C:\\\\Users\\\\chidi bede\\\\Documents\\\\Data Science Career\\\\Datasets\\\\Text classification datasets\\\\aclImdb\\\\train\\\\unsup\")\n",
    "i  = 0\n",
    "for file in files:\n",
    "    while i < 24972:\n",
    "        path = url + \"\\\\\"+file\n",
    "        neu_DF = pd.read_table(path, names=[\"Text\"])\n",
    "        neu_DF[\"Polarity\"] = \"neut\"\n",
    "        neg_df = pd.concat([neg_df, neu_DF], axis=0)\n",
    "        i = i + 1"
   ]
  },
  {
   "cell_type": "code",
   "execution_count": 31,
   "metadata": {
    "collapsed": false
   },
   "outputs": [
    {
     "data": {
      "text/plain": [
       "pos     24972\n",
       "neut    24972\n",
       "neg     24932\n",
       "Name: Polarity, dtype: int64"
      ]
     },
     "execution_count": 31,
     "metadata": {},
     "output_type": "execute_result"
    }
   ],
   "source": [
    "neg_df.Polarity.value_counts()"
   ]
  },
  {
   "cell_type": "code",
   "execution_count": 32,
   "metadata": {
    "collapsed": false
   },
   "outputs": [
    {
     "data": {
      "text/plain": [
       "(74876, 2)"
      ]
     },
     "execution_count": 32,
     "metadata": {},
     "output_type": "execute_result"
    }
   ],
   "source": [
    "neg_df.shape"
   ]
  },
  {
   "cell_type": "code",
   "execution_count": 49,
   "metadata": {
    "collapsed": false
   },
   "outputs": [],
   "source": [
    "neg_df.reset_index(drop=True, inplace=True)"
   ]
  },
  {
   "cell_type": "code",
   "execution_count": 50,
   "metadata": {
    "collapsed": false
   },
   "outputs": [
    {
     "data": {
      "text/html": [
       "<div>\n",
       "<table border=\"1\" class=\"dataframe\">\n",
       "  <thead>\n",
       "    <tr style=\"text-align: right;\">\n",
       "      <th></th>\n",
       "      <th>Text</th>\n",
       "      <th>Polarity</th>\n",
       "    </tr>\n",
       "  </thead>\n",
       "  <tbody>\n",
       "    <tr>\n",
       "      <th>0</th>\n",
       "      <td>Story of a man who has unnatural feelings for ...</td>\n",
       "      <td>neg</td>\n",
       "    </tr>\n",
       "    <tr>\n",
       "      <th>1</th>\n",
       "      <td>Airport '77 starts as a brand new luxury 747 p...</td>\n",
       "      <td>neg</td>\n",
       "    </tr>\n",
       "    <tr>\n",
       "      <th>2</th>\n",
       "      <td>This film lacked something I couldn't put my f...</td>\n",
       "      <td>neg</td>\n",
       "    </tr>\n",
       "    <tr>\n",
       "      <th>3</th>\n",
       "      <td>Sorry everyone,,, I know this is supposed to b...</td>\n",
       "      <td>neg</td>\n",
       "    </tr>\n",
       "    <tr>\n",
       "      <th>4</th>\n",
       "      <td>When I was little my parents took me along to ...</td>\n",
       "      <td>neg</td>\n",
       "    </tr>\n",
       "  </tbody>\n",
       "</table>\n",
       "</div>"
      ],
      "text/plain": [
       "                                                Text Polarity\n",
       "0  Story of a man who has unnatural feelings for ...      neg\n",
       "1  Airport '77 starts as a brand new luxury 747 p...      neg\n",
       "2  This film lacked something I couldn't put my f...      neg\n",
       "3  Sorry everyone,,, I know this is supposed to b...      neg\n",
       "4  When I was little my parents took me along to ...      neg"
      ]
     },
     "execution_count": 50,
     "metadata": {},
     "output_type": "execute_result"
    }
   ],
   "source": [
    "neg_df.head()"
   ]
  },
  {
   "cell_type": "code",
   "execution_count": 54,
   "metadata": {
    "collapsed": false
   },
   "outputs": [],
   "source": [
    "neg_df = neg_df.loc[0:49904, [\"Text\", \"Polarity\"]]"
   ]
  },
  {
   "cell_type": "code",
   "execution_count": 55,
   "metadata": {
    "collapsed": false
   },
   "outputs": [
    {
     "data": {
      "text/plain": [
       "(49905, 2)"
      ]
     },
     "execution_count": 55,
     "metadata": {},
     "output_type": "execute_result"
    }
   ],
   "source": [
    "neg_df.shape"
   ]
  },
  {
   "cell_type": "code",
   "execution_count": 56,
   "metadata": {
    "collapsed": false
   },
   "outputs": [
    {
     "data": {
      "text/plain": [
       "pos     24972\n",
       "neg     24932\n",
       "neut        1\n",
       "Name: Polarity, dtype: int64"
      ]
     },
     "execution_count": 56,
     "metadata": {},
     "output_type": "execute_result"
    }
   ],
   "source": [
    "movie_df.Polarity.value_counts()"
   ]
  },
  {
   "cell_type": "code",
   "execution_count": 57,
   "metadata": {
    "collapsed": true
   },
   "outputs": [],
   "source": [
    "url = \"C:\\\\Users\\\\chidi bede\\\\Documents\\\\Data Science Career\\\\Datasets\\\\Text classification datasets\\\\aclImdb\\\\train\\\\unsup\"\n",
    "files = os.listdir(\"C:\\\\Users\\\\chidi bede\\\\Documents\\\\Data Science Career\\\\Datasets\\\\Text classification datasets\\\\aclImdb\\\\train\\\\unsup\")\n",
    "for file in files:\n",
    "    path = url + \"\\\\\"+file\n",
    "    neu_DF = pd.read_table(path, names=[\"Text\"])\n",
    "    neu_DF[\"Polarity\"] = \"neut\"\n",
    "    neg_df = pd.concat([neg_df, neu_DF], axis=0)"
   ]
  },
  {
   "cell_type": "code",
   "execution_count": 62,
   "metadata": {
    "collapsed": false
   },
   "outputs": [
    {
     "data": {
      "text/plain": [
       "(99905, 2)"
      ]
     },
     "execution_count": 62,
     "metadata": {},
     "output_type": "execute_result"
    }
   ],
   "source": [
    "neg_df.shape"
   ]
  },
  {
   "cell_type": "code",
   "execution_count": 78,
   "metadata": {
    "collapsed": true
   },
   "outputs": [],
   "source": [
    "tweet = \"The caucasian fool\"\n",
    "blob = textblob.TextBlob(tweet)"
   ]
  },
  {
   "cell_type": "code",
   "execution_count": 79,
   "metadata": {
    "collapsed": false
   },
   "outputs": [
    {
     "data": {
      "text/plain": [
       "Sentiment(polarity=0.0, subjectivity=0.0)"
      ]
     },
     "execution_count": 79,
     "metadata": {},
     "output_type": "execute_result"
    }
   ],
   "source": [
    "blob.sentiment"
   ]
  },
  {
   "cell_type": "code",
   "execution_count": 80,
   "metadata": {
    "collapsed": true
   },
   "outputs": [],
   "source": [
    "import tweepy"
   ]
  },
  {
   "cell_type": "code",
   "execution_count": 81,
   "metadata": {
    "collapsed": false
   },
   "outputs": [
    {
     "data": {
      "text/plain": [
       "(99905, 2)"
      ]
     },
     "execution_count": 81,
     "metadata": {},
     "output_type": "execute_result"
    }
   ],
   "source": [
    "neg_df.shape"
   ]
  },
  {
   "cell_type": "code",
   "execution_count": 83,
   "metadata": {
    "collapsed": false
   },
   "outputs": [
    {
     "data": {
      "text/plain": [
       "neut    50001\n",
       "pos     24972\n",
       "neg     24932\n",
       "Name: Polarity, dtype: int64"
      ]
     },
     "execution_count": 83,
     "metadata": {},
     "output_type": "execute_result"
    }
   ],
   "source": [
    "neg_df.Polarity.value_counts()"
   ]
  },
  {
   "cell_type": "code",
   "execution_count": 84,
   "metadata": {
    "collapsed": true
   },
   "outputs": [],
   "source": [
    "# Load the twitter data\n",
    "twitter_df = pd.read_csv(\"C:\\Users\\chidi bede\\Documents\\Data Science Career\\Python\\Python Notebooks\\Practice\\Text mining\\Twitter Sentiment analysis\\Cleaned_twitter_Data2.csv\")"
   ]
  },
  {
   "cell_type": "code",
   "execution_count": 85,
   "metadata": {
    "collapsed": false
   },
   "outputs": [
    {
     "data": {
      "text/plain": [
       "(1600000, 4)"
      ]
     },
     "execution_count": 85,
     "metadata": {},
     "output_type": "execute_result"
    }
   ],
   "source": [
    "twitter_df.shape"
   ]
  },
  {
   "cell_type": "code",
   "execution_count": 86,
   "metadata": {
    "collapsed": false
   },
   "outputs": [
    {
     "data": {
      "text/html": [
       "<div>\n",
       "<table border=\"1\" class=\"dataframe\">\n",
       "  <thead>\n",
       "    <tr style=\"text-align: right;\">\n",
       "      <th></th>\n",
       "      <th>Unnamed: 0</th>\n",
       "      <th>Text</th>\n",
       "      <th>Label</th>\n",
       "      <th>cleaned_text</th>\n",
       "    </tr>\n",
       "  </thead>\n",
       "  <tbody>\n",
       "    <tr>\n",
       "      <th>0</th>\n",
       "      <td>0</td>\n",
       "      <td>@gingeriswriting I just laughed when I read ab...</td>\n",
       "      <td>0</td>\n",
       "      <td>just laughed when read about your double injur...</td>\n",
       "    </tr>\n",
       "    <tr>\n",
       "      <th>1</th>\n",
       "      <td>1</td>\n",
       "      <td>buying my mac products... how the hell did it ...</td>\n",
       "      <td>0</td>\n",
       "      <td>buying products hell must remove some items</td>\n",
       "    </tr>\n",
       "    <tr>\n",
       "      <th>2</th>\n",
       "      <td>2</td>\n",
       "      <td>Twitter's a little bit useless without a fancy...</td>\n",
       "      <td>0</td>\n",
       "      <td>Twitter little useless without fancy shmancy p...</td>\n",
       "    </tr>\n",
       "    <tr>\n",
       "      <th>3</th>\n",
       "      <td>3</td>\n",
       "      <td>My iPod died  it was washing down the gutter s...</td>\n",
       "      <td>0</td>\n",
       "      <td>iPod died washing down gutter fished thought g...</td>\n",
       "    </tr>\n",
       "    <tr>\n",
       "      <th>4</th>\n",
       "      <td>4</td>\n",
       "      <td>fort lauderdale beach... here I come!</td>\n",
       "      <td>1</td>\n",
       "      <td>fort lauderdale beach here come</td>\n",
       "    </tr>\n",
       "  </tbody>\n",
       "</table>\n",
       "</div>"
      ],
      "text/plain": [
       "   Unnamed: 0                                               Text  Label  \\\n",
       "0           0  @gingeriswriting I just laughed when I read ab...      0   \n",
       "1           1  buying my mac products... how the hell did it ...      0   \n",
       "2           2  Twitter's a little bit useless without a fancy...      0   \n",
       "3           3  My iPod died  it was washing down the gutter s...      0   \n",
       "4           4             fort lauderdale beach... here I come!       1   \n",
       "\n",
       "                                        cleaned_text  \n",
       "0  just laughed when read about your double injur...  \n",
       "1        buying products hell must remove some items  \n",
       "2  Twitter little useless without fancy shmancy p...  \n",
       "3  iPod died washing down gutter fished thought g...  \n",
       "4                    fort lauderdale beach here come  "
      ]
     },
     "execution_count": 86,
     "metadata": {},
     "output_type": "execute_result"
    }
   ],
   "source": [
    "twitter_df.head()"
   ]
  },
  {
   "cell_type": "code",
   "execution_count": 88,
   "metadata": {
    "collapsed": false
   },
   "outputs": [],
   "source": [
    "twitter_df = twitter_df.loc[:, [\"cleaned_text\", \"Label\"]]"
   ]
  },
  {
   "cell_type": "code",
   "execution_count": 89,
   "metadata": {
    "collapsed": true
   },
   "outputs": [],
   "source": [
    "twitter_df.columns = [\"Text\", \"Polarity\"]"
   ]
  },
  {
   "cell_type": "code",
   "execution_count": 90,
   "metadata": {
    "collapsed": false
   },
   "outputs": [
    {
     "data": {
      "text/html": [
       "<div>\n",
       "<table border=\"1\" class=\"dataframe\">\n",
       "  <thead>\n",
       "    <tr style=\"text-align: right;\">\n",
       "      <th></th>\n",
       "      <th>Text</th>\n",
       "      <th>Polarity</th>\n",
       "    </tr>\n",
       "  </thead>\n",
       "  <tbody>\n",
       "    <tr>\n",
       "      <th>0</th>\n",
       "      <td>just laughed when read about your double injur...</td>\n",
       "      <td>0</td>\n",
       "    </tr>\n",
       "    <tr>\n",
       "      <th>1</th>\n",
       "      <td>buying products hell must remove some items</td>\n",
       "      <td>0</td>\n",
       "    </tr>\n",
       "    <tr>\n",
       "      <th>2</th>\n",
       "      <td>Twitter little useless without fancy shmancy p...</td>\n",
       "      <td>0</td>\n",
       "    </tr>\n",
       "    <tr>\n",
       "      <th>3</th>\n",
       "      <td>iPod died washing down gutter fished thought g...</td>\n",
       "      <td>0</td>\n",
       "    </tr>\n",
       "    <tr>\n",
       "      <th>4</th>\n",
       "      <td>fort lauderdale beach here come</td>\n",
       "      <td>1</td>\n",
       "    </tr>\n",
       "  </tbody>\n",
       "</table>\n",
       "</div>"
      ],
      "text/plain": [
       "                                                Text  Polarity\n",
       "0  just laughed when read about your double injur...         0\n",
       "1        buying products hell must remove some items         0\n",
       "2  Twitter little useless without fancy shmancy p...         0\n",
       "3  iPod died washing down gutter fished thought g...         0\n",
       "4                    fort lauderdale beach here come         1"
      ]
     },
     "execution_count": 90,
     "metadata": {},
     "output_type": "execute_result"
    }
   ],
   "source": [
    "twitter_df.head()"
   ]
  },
  {
   "cell_type": "code",
   "execution_count": 199,
   "metadata": {
    "collapsed": false
   },
   "outputs": [],
   "source": [
    "# take 25000 negatives\n",
    "twitter_df2 = twitter_df[twitter_df.Polarity==0].head(12568)"
   ]
  },
  {
   "cell_type": "code",
   "execution_count": 200,
   "metadata": {
    "collapsed": true
   },
   "outputs": [],
   "source": [
    "twitter_df3 = twitter_df[twitter_df.Polarity==0].tail(12500)"
   ]
  },
  {
   "cell_type": "code",
   "execution_count": 201,
   "metadata": {
    "collapsed": true
   },
   "outputs": [],
   "source": [
    "twitter_df3a = twitter_df[twitter_df.Polarity==0].loc[95000:96043, [\"Text\",\"Polarity\"]]"
   ]
  },
  {
   "cell_type": "code",
   "execution_count": 202,
   "metadata": {
    "collapsed": true
   },
   "outputs": [],
   "source": [
    "twitter_df4 = twitter_df[twitter_df.Polarity==1].tail(12528)\n",
    "twitter_df5 = twitter_df[twitter_df.Polarity==1].head(12500)\n",
    "twitter_df3a = twitter_df[twitter_df.Polarity==1].loc[95000:96043, [\"Text\",\"Polarity\"]]"
   ]
  },
  {
   "cell_type": "code",
   "execution_count": 203,
   "metadata": {
    "collapsed": false
   },
   "outputs": [],
   "source": [
    "twitter_DF = pd.concat([twitter_df2, twitter_df3, twitter_df4, twitter_df5,twitter_df3a,twitter_df3a])"
   ]
  },
  {
   "cell_type": "code",
   "execution_count": 204,
   "metadata": {
    "collapsed": false
   },
   "outputs": [],
   "source": [
    "# Reassign neg_df\n",
    "neg_df.reset_index(drop=True, inplace=True)"
   ]
  },
  {
   "cell_type": "code",
   "execution_count": 205,
   "metadata": {
    "collapsed": false
   },
   "outputs": [
    {
     "data": {
      "text/html": [
       "<div>\n",
       "<table border=\"1\" class=\"dataframe\">\n",
       "  <thead>\n",
       "    <tr style=\"text-align: right;\">\n",
       "      <th></th>\n",
       "      <th>Text</th>\n",
       "      <th>Polarity</th>\n",
       "    </tr>\n",
       "  </thead>\n",
       "  <tbody>\n",
       "    <tr>\n",
       "      <th>99900</th>\n",
       "      <td>Delightfully awful! Made by David Giancola, a ...</td>\n",
       "      <td>neut</td>\n",
       "    </tr>\n",
       "    <tr>\n",
       "      <th>99901</th>\n",
       "      <td>Watching Time Chasers, it obvious that it was ...</td>\n",
       "      <td>neut</td>\n",
       "    </tr>\n",
       "    <tr>\n",
       "      <th>99902</th>\n",
       "      <td>At the beginning we can see members of Troma t...</td>\n",
       "      <td>neut</td>\n",
       "    </tr>\n",
       "    <tr>\n",
       "      <th>99903</th>\n",
       "      <td>The movie was incredible, ever since I saw it ...</td>\n",
       "      <td>neut</td>\n",
       "    </tr>\n",
       "    <tr>\n",
       "      <th>99904</th>\n",
       "      <td>TCM came through by acquiring this wonderful, ...</td>\n",
       "      <td>neut</td>\n",
       "    </tr>\n",
       "  </tbody>\n",
       "</table>\n",
       "</div>"
      ],
      "text/plain": [
       "                                                    Text Polarity\n",
       "99900  Delightfully awful! Made by David Giancola, a ...     neut\n",
       "99901  Watching Time Chasers, it obvious that it was ...     neut\n",
       "99902  At the beginning we can see members of Troma t...     neut\n",
       "99903  The movie was incredible, ever since I saw it ...     neut\n",
       "99904  TCM came through by acquiring this wonderful, ...     neut"
      ]
     },
     "execution_count": 205,
     "metadata": {},
     "output_type": "execute_result"
    }
   ],
   "source": [
    "neg_df.tail()"
   ]
  },
  {
   "cell_type": "code",
   "execution_count": 206,
   "metadata": {
    "collapsed": true
   },
   "outputs": [],
   "source": [
    "sentiment_df = neg_df.loc[:, [\"Text\",\"Polarity\"]]"
   ]
  },
  {
   "cell_type": "code",
   "execution_count": 207,
   "metadata": {
    "collapsed": false
   },
   "outputs": [],
   "source": [
    "sentiment_df = pd.concat([sentiment_df, twitter_DF])"
   ]
  },
  {
   "cell_type": "code",
   "execution_count": 208,
   "metadata": {
    "collapsed": true
   },
   "outputs": [],
   "source": [
    "sentiment_df.reset_index(drop=True, inplace=True)"
   ]
  },
  {
   "cell_type": "code",
   "execution_count": 209,
   "metadata": {
    "collapsed": false
   },
   "outputs": [
    {
     "data": {
      "text/html": [
       "<div>\n",
       "<table border=\"1\" class=\"dataframe\">\n",
       "  <thead>\n",
       "    <tr style=\"text-align: right;\">\n",
       "      <th></th>\n",
       "      <th>Text</th>\n",
       "      <th>Polarity</th>\n",
       "    </tr>\n",
       "  </thead>\n",
       "  <tbody>\n",
       "    <tr>\n",
       "      <th>0</th>\n",
       "      <td>Story of a man who has unnatural feelings for ...</td>\n",
       "      <td>neg</td>\n",
       "    </tr>\n",
       "    <tr>\n",
       "      <th>1</th>\n",
       "      <td>Airport '77 starts as a brand new luxury 747 p...</td>\n",
       "      <td>neg</td>\n",
       "    </tr>\n",
       "    <tr>\n",
       "      <th>2</th>\n",
       "      <td>This film lacked something I couldn't put my f...</td>\n",
       "      <td>neg</td>\n",
       "    </tr>\n",
       "    <tr>\n",
       "      <th>3</th>\n",
       "      <td>Sorry everyone,,, I know this is supposed to b...</td>\n",
       "      <td>neg</td>\n",
       "    </tr>\n",
       "    <tr>\n",
       "      <th>4</th>\n",
       "      <td>When I was little my parents took me along to ...</td>\n",
       "      <td>neg</td>\n",
       "    </tr>\n",
       "  </tbody>\n",
       "</table>\n",
       "</div>"
      ],
      "text/plain": [
       "                                                Text Polarity\n",
       "0  Story of a man who has unnatural feelings for ...      neg\n",
       "1  Airport '77 starts as a brand new luxury 747 p...      neg\n",
       "2  This film lacked something I couldn't put my f...      neg\n",
       "3  Sorry everyone,,, I know this is supposed to b...      neg\n",
       "4  When I was little my parents took me along to ...      neg"
      ]
     },
     "execution_count": 209,
     "metadata": {},
     "output_type": "execute_result"
    }
   ],
   "source": [
    "sentiment_df.head()"
   ]
  },
  {
   "cell_type": "code",
   "execution_count": 210,
   "metadata": {
    "collapsed": false
   },
   "outputs": [],
   "source": [
    "sentiment_df[\"Polarity\"] = sentiment_df.Polarity.map({\"neg\": 0, \"pos\": 1, 0:0, 1:1, \"neut\":2})"
   ]
  },
  {
   "cell_type": "code",
   "execution_count": 211,
   "metadata": {
    "collapsed": false
   },
   "outputs": [
    {
     "data": {
      "text/html": [
       "<div>\n",
       "<table border=\"1\" class=\"dataframe\">\n",
       "  <thead>\n",
       "    <tr style=\"text-align: right;\">\n",
       "      <th></th>\n",
       "      <th>Text</th>\n",
       "      <th>Polarity</th>\n",
       "    </tr>\n",
       "  </thead>\n",
       "  <tbody>\n",
       "    <tr>\n",
       "      <th>0</th>\n",
       "      <td>Story of a man who has unnatural feelings for ...</td>\n",
       "      <td>0</td>\n",
       "    </tr>\n",
       "    <tr>\n",
       "      <th>1</th>\n",
       "      <td>Airport '77 starts as a brand new luxury 747 p...</td>\n",
       "      <td>0</td>\n",
       "    </tr>\n",
       "    <tr>\n",
       "      <th>2</th>\n",
       "      <td>This film lacked something I couldn't put my f...</td>\n",
       "      <td>0</td>\n",
       "    </tr>\n",
       "    <tr>\n",
       "      <th>3</th>\n",
       "      <td>Sorry everyone,,, I know this is supposed to b...</td>\n",
       "      <td>0</td>\n",
       "    </tr>\n",
       "    <tr>\n",
       "      <th>4</th>\n",
       "      <td>When I was little my parents took me along to ...</td>\n",
       "      <td>0</td>\n",
       "    </tr>\n",
       "    <tr>\n",
       "      <th>5</th>\n",
       "      <td>It appears that many critics find the idea of ...</td>\n",
       "      <td>0</td>\n",
       "    </tr>\n",
       "    <tr>\n",
       "      <th>6</th>\n",
       "      <td>The second attempt by a New York intellectual ...</td>\n",
       "      <td>0</td>\n",
       "    </tr>\n",
       "    <tr>\n",
       "      <th>7</th>\n",
       "      <td>I don't know who to blame, the timid writers o...</td>\n",
       "      <td>0</td>\n",
       "    </tr>\n",
       "    <tr>\n",
       "      <th>8</th>\n",
       "      <td>This film is mediocre at best. Angie Harmon is...</td>\n",
       "      <td>0</td>\n",
       "    </tr>\n",
       "    <tr>\n",
       "      <th>9</th>\n",
       "      <td>The film is bad. There is no other way to say ...</td>\n",
       "      <td>0</td>\n",
       "    </tr>\n",
       "    <tr>\n",
       "      <th>10</th>\n",
       "      <td>This film is one giant pant load. Paul Schrade...</td>\n",
       "      <td>0</td>\n",
       "    </tr>\n",
       "    <tr>\n",
       "      <th>11</th>\n",
       "      <td>The plot for Descent, if it actually can be ca...</td>\n",
       "      <td>0</td>\n",
       "    </tr>\n",
       "    <tr>\n",
       "      <th>12</th>\n",
       "      <td>Plot is not worth discussion even if it hints ...</td>\n",
       "      <td>0</td>\n",
       "    </tr>\n",
       "    <tr>\n",
       "      <th>13</th>\n",
       "      <td>This film is about a male escort getting invol...</td>\n",
       "      <td>0</td>\n",
       "    </tr>\n",
       "    <tr>\n",
       "      <th>14</th>\n",
       "      <td>This movie must be in line for the most boring...</td>\n",
       "      <td>0</td>\n",
       "    </tr>\n",
       "    <tr>\n",
       "      <th>15</th>\n",
       "      <td>A worn-out plot of a man who takes the rap for...</td>\n",
       "      <td>0</td>\n",
       "    </tr>\n",
       "    <tr>\n",
       "      <th>16</th>\n",
       "      <td>I saw this movie at a drive-in in 1959. Until ...</td>\n",
       "      <td>0</td>\n",
       "    </tr>\n",
       "    <tr>\n",
       "      <th>17</th>\n",
       "      <td>Ghost of Dragstrip Hollow is a typical 1950's ...</td>\n",
       "      <td>0</td>\n",
       "    </tr>\n",
       "    <tr>\n",
       "      <th>18</th>\n",
       "      <td>Ghost of Dragstrip Hollow was one of the many ...</td>\n",
       "      <td>0</td>\n",
       "    </tr>\n",
       "    <tr>\n",
       "      <th>19</th>\n",
       "      <td>Ghost of Dragstrip Hollow appears to take plac...</td>\n",
       "      <td>0</td>\n",
       "    </tr>\n",
       "    <tr>\n",
       "      <th>20</th>\n",
       "      <td>The characters are unlikeable and the script i...</td>\n",
       "      <td>0</td>\n",
       "    </tr>\n",
       "    <tr>\n",
       "      <th>21</th>\n",
       "      <td>Kareena Kapoor in a bikini hmmmmmmmm.&lt;br /&gt;&lt;br...</td>\n",
       "      <td>0</td>\n",
       "    </tr>\n",
       "    <tr>\n",
       "      <th>22</th>\n",
       "      <td>I rented this on DVD and I kind of feel bad si...</td>\n",
       "      <td>0</td>\n",
       "    </tr>\n",
       "    <tr>\n",
       "      <th>23</th>\n",
       "      <td>Vijay Krishna Acharya's 'Tashan' is a over-hyp...</td>\n",
       "      <td>0</td>\n",
       "    </tr>\n",
       "    <tr>\n",
       "      <th>24</th>\n",
       "      <td>The worst movie I have seen since Tera Jadoo C...</td>\n",
       "      <td>0</td>\n",
       "    </tr>\n",
       "    <tr>\n",
       "      <th>25</th>\n",
       "      <td>Summer season is here when the choices in the ...</td>\n",
       "      <td>0</td>\n",
       "    </tr>\n",
       "    <tr>\n",
       "      <th>26</th>\n",
       "      <td>Shame on Yash Raj films and Aditya Chopra who ...</td>\n",
       "      <td>0</td>\n",
       "    </tr>\n",
       "    <tr>\n",
       "      <th>27</th>\n",
       "      <td>First lesson that some film makers (particular...</td>\n",
       "      <td>0</td>\n",
       "    </tr>\n",
       "    <tr>\n",
       "      <th>28</th>\n",
       "      <td>If this is a 2008 product from one of the bigg...</td>\n",
       "      <td>0</td>\n",
       "    </tr>\n",
       "    <tr>\n",
       "      <th>29</th>\n",
       "      <td>I had some expectation for the movie, since it...</td>\n",
       "      <td>0</td>\n",
       "    </tr>\n",
       "    <tr>\n",
       "      <th>...</th>\n",
       "      <td>...</td>\n",
       "      <td>...</td>\n",
       "    </tr>\n",
       "    <tr>\n",
       "      <th>150979</th>\n",
       "      <td>will mixing mostly Deep House softer Electo le...</td>\n",
       "      <td>1</td>\n",
       "    </tr>\n",
       "    <tr>\n",
       "      <th>150980</th>\n",
       "      <td>Guess what everyone myspace addressis profile ...</td>\n",
       "      <td>1</td>\n",
       "    </tr>\n",
       "    <tr>\n",
       "      <th>150981</th>\n",
       "      <td>said look aftermath site</td>\n",
       "      <td>1</td>\n",
       "    </tr>\n",
       "    <tr>\n",
       "      <th>150982</th>\n",
       "      <td>used jeans turned awesome Dark wash again Thanks</td>\n",
       "      <td>1</td>\n",
       "    </tr>\n",
       "    <tr>\n",
       "      <th>150983</th>\n",
       "      <td>Hello Check latest health video YouTube Should...</td>\n",
       "      <td>1</td>\n",
       "    </tr>\n",
       "    <tr>\n",
       "      <th>150984</th>\n",
       "      <td>Good hope everything goes well</td>\n",
       "      <td>1</td>\n",
       "    </tr>\n",
       "    <tr>\n",
       "      <th>150985</th>\n",
       "      <td>love color nails they pretty</td>\n",
       "      <td>1</td>\n",
       "    </tr>\n",
       "    <tr>\n",
       "      <th>150986</th>\n",
       "      <td>watching pints</td>\n",
       "      <td>1</td>\n",
       "    </tr>\n",
       "    <tr>\n",
       "      <th>150987</th>\n",
       "      <td>better Tweeting Morning</td>\n",
       "      <td>1</td>\n",
       "    </tr>\n",
       "    <tr>\n",
       "      <th>150988</th>\n",
       "      <td>making headway those pesky freelance projects ...</td>\n",
       "      <td>1</td>\n",
       "    </tr>\n",
       "    <tr>\n",
       "      <th>150989</th>\n",
       "      <td>think would seem have more point more follower...</td>\n",
       "      <td>1</td>\n",
       "    </tr>\n",
       "    <tr>\n",
       "      <th>150990</th>\n",
       "      <td>Wasn Drag Hell awesome</td>\n",
       "      <td>1</td>\n",
       "    </tr>\n",
       "    <tr>\n",
       "      <th>150991</th>\n",
       "      <td>Home hurtling down Leslie least</td>\n",
       "      <td>1</td>\n",
       "    </tr>\n",
       "    <tr>\n",
       "      <th>150992</th>\n",
       "      <td>oooh sounds yummy chance take some pics please...</td>\n",
       "      <td>1</td>\n",
       "    </tr>\n",
       "    <tr>\n",
       "      <th>150993</th>\n",
       "      <td>Come mister tally tally corona daylight came g...</td>\n",
       "      <td>1</td>\n",
       "    </tr>\n",
       "    <tr>\n",
       "      <th>150994</th>\n",
       "      <td>good</td>\n",
       "      <td>1</td>\n",
       "    </tr>\n",
       "    <tr>\n",
       "      <th>150995</th>\n",
       "      <td>thanks much glad have productive loving happy ...</td>\n",
       "      <td>1</td>\n",
       "    </tr>\n",
       "    <tr>\n",
       "      <th>150996</th>\n",
       "      <td>hoping warms soon come</td>\n",
       "      <td>1</td>\n",
       "    </tr>\n",
       "    <tr>\n",
       "      <th>150997</th>\n",
       "      <td>said that yesterday then decided that will tha...</td>\n",
       "      <td>1</td>\n",
       "    </tr>\n",
       "    <tr>\n",
       "      <th>150998</th>\n",
       "      <td>working well Congratulations your team Konti l...</td>\n",
       "      <td>1</td>\n",
       "    </tr>\n",
       "    <tr>\n",
       "      <th>150999</th>\n",
       "      <td>Absolutley scorching here fife lovin</td>\n",
       "      <td>1</td>\n",
       "    </tr>\n",
       "    <tr>\n",
       "      <th>151000</th>\n",
       "      <td>Glad liked WeboWord Would love have your stude...</td>\n",
       "      <td>1</td>\n",
       "    </tr>\n",
       "    <tr>\n",
       "      <th>151001</th>\n",
       "      <td>GUYS just minuts</td>\n",
       "      <td>1</td>\n",
       "    </tr>\n",
       "    <tr>\n",
       "      <th>151002</th>\n",
       "      <td>Thank much First hiccup months guess that pret...</td>\n",
       "      <td>1</td>\n",
       "    </tr>\n",
       "    <tr>\n",
       "      <th>151003</th>\n",
       "      <td>Fuck</td>\n",
       "      <td>1</td>\n",
       "    </tr>\n",
       "    <tr>\n",
       "      <th>151004</th>\n",
       "      <td>charm school then blogtv</td>\n",
       "      <td>1</td>\n",
       "    </tr>\n",
       "    <tr>\n",
       "      <th>151005</th>\n",
       "      <td>Thanks think birthday poker when back</td>\n",
       "      <td>1</td>\n",
       "    </tr>\n",
       "    <tr>\n",
       "      <th>151006</th>\n",
       "      <td>just home nice seeing tonite everyone else nite</td>\n",
       "      <td>1</td>\n",
       "    </tr>\n",
       "    <tr>\n",
       "      <th>151007</th>\n",
       "      <td>just road from Bentonville</td>\n",
       "      <td>1</td>\n",
       "    </tr>\n",
       "    <tr>\n",
       "      <th>151008</th>\n",
       "      <td>agree</td>\n",
       "      <td>1</td>\n",
       "    </tr>\n",
       "  </tbody>\n",
       "</table>\n",
       "<p>151009 rows × 2 columns</p>\n",
       "</div>"
      ],
      "text/plain": [
       "                                                     Text  Polarity\n",
       "0       Story of a man who has unnatural feelings for ...         0\n",
       "1       Airport '77 starts as a brand new luxury 747 p...         0\n",
       "2       This film lacked something I couldn't put my f...         0\n",
       "3       Sorry everyone,,, I know this is supposed to b...         0\n",
       "4       When I was little my parents took me along to ...         0\n",
       "5       It appears that many critics find the idea of ...         0\n",
       "6       The second attempt by a New York intellectual ...         0\n",
       "7       I don't know who to blame, the timid writers o...         0\n",
       "8       This film is mediocre at best. Angie Harmon is...         0\n",
       "9       The film is bad. There is no other way to say ...         0\n",
       "10      This film is one giant pant load. Paul Schrade...         0\n",
       "11      The plot for Descent, if it actually can be ca...         0\n",
       "12      Plot is not worth discussion even if it hints ...         0\n",
       "13      This film is about a male escort getting invol...         0\n",
       "14      This movie must be in line for the most boring...         0\n",
       "15      A worn-out plot of a man who takes the rap for...         0\n",
       "16      I saw this movie at a drive-in in 1959. Until ...         0\n",
       "17      Ghost of Dragstrip Hollow is a typical 1950's ...         0\n",
       "18      Ghost of Dragstrip Hollow was one of the many ...         0\n",
       "19      Ghost of Dragstrip Hollow appears to take plac...         0\n",
       "20      The characters are unlikeable and the script i...         0\n",
       "21      Kareena Kapoor in a bikini hmmmmmmmm.<br /><br...         0\n",
       "22      I rented this on DVD and I kind of feel bad si...         0\n",
       "23      Vijay Krishna Acharya's 'Tashan' is a over-hyp...         0\n",
       "24      The worst movie I have seen since Tera Jadoo C...         0\n",
       "25      Summer season is here when the choices in the ...         0\n",
       "26      Shame on Yash Raj films and Aditya Chopra who ...         0\n",
       "27      First lesson that some film makers (particular...         0\n",
       "28      If this is a 2008 product from one of the bigg...         0\n",
       "29      I had some expectation for the movie, since it...         0\n",
       "...                                                   ...       ...\n",
       "150979  will mixing mostly Deep House softer Electo le...         1\n",
       "150980  Guess what everyone myspace addressis profile ...         1\n",
       "150981                           said look aftermath site         1\n",
       "150982   used jeans turned awesome Dark wash again Thanks         1\n",
       "150983  Hello Check latest health video YouTube Should...         1\n",
       "150984                     Good hope everything goes well         1\n",
       "150985                       love color nails they pretty         1\n",
       "150986                                     watching pints         1\n",
       "150987                            better Tweeting Morning         1\n",
       "150988  making headway those pesky freelance projects ...         1\n",
       "150989  think would seem have more point more follower...         1\n",
       "150990                             Wasn Drag Hell awesome         1\n",
       "150991                    Home hurtling down Leslie least         1\n",
       "150992  oooh sounds yummy chance take some pics please...         1\n",
       "150993  Come mister tally tally corona daylight came g...         1\n",
       "150994                                               good         1\n",
       "150995  thanks much glad have productive loving happy ...         1\n",
       "150996                             hoping warms soon come         1\n",
       "150997  said that yesterday then decided that will tha...         1\n",
       "150998  working well Congratulations your team Konti l...         1\n",
       "150999               Absolutley scorching here fife lovin         1\n",
       "151000  Glad liked WeboWord Would love have your stude...         1\n",
       "151001                                   GUYS just minuts         1\n",
       "151002  Thank much First hiccup months guess that pret...         1\n",
       "151003                                               Fuck         1\n",
       "151004                           charm school then blogtv         1\n",
       "151005              Thanks think birthday poker when back         1\n",
       "151006    just home nice seeing tonite everyone else nite         1\n",
       "151007                         just road from Bentonville         1\n",
       "151008                                              agree         1\n",
       "\n",
       "[151009 rows x 2 columns]"
      ]
     },
     "execution_count": 211,
     "metadata": {},
     "output_type": "execute_result"
    }
   ],
   "source": [
    "sentiment_df"
   ]
  },
  {
   "cell_type": "code",
   "execution_count": 212,
   "metadata": {
    "collapsed": false
   },
   "outputs": [
    {
     "data": {
      "text/plain": [
       "1    51008\n",
       "2    50001\n",
       "0    50000\n",
       "Name: Polarity, dtype: int64"
      ]
     },
     "execution_count": 212,
     "metadata": {},
     "output_type": "execute_result"
    }
   ],
   "source": [
    "sentiment_df.Polarity.value_counts()"
   ]
  },
  {
   "cell_type": "code",
   "execution_count": 213,
   "metadata": {
    "collapsed": false
   },
   "outputs": [],
   "source": [
    "sentiment_df[\"Polarity\"] = sentiment_df.Polarity.map({0:-1, 1:1, 2:0})"
   ]
  },
  {
   "cell_type": "code",
   "execution_count": 214,
   "metadata": {
    "collapsed": false
   },
   "outputs": [
    {
     "data": {
      "text/plain": [
       " 1    51008\n",
       " 0    50001\n",
       "-1    50000\n",
       "Name: Polarity, dtype: int64"
      ]
     },
     "execution_count": 214,
     "metadata": {},
     "output_type": "execute_result"
    }
   ],
   "source": [
    "sentiment_df.Polarity.value_counts()"
   ]
  },
  {
   "cell_type": "code",
   "execution_count": 215,
   "metadata": {
    "collapsed": false
   },
   "outputs": [],
   "source": [
    "sentiment_df= sentiment_df.drop_duplicates(keep=\"first\")"
   ]
  },
  {
   "cell_type": "code",
   "execution_count": 216,
   "metadata": {
    "collapsed": false
   },
   "outputs": [
    {
     "data": {
      "text/plain": [
       " 0    49507\n",
       " 1    49397\n",
       "-1    48957\n",
       "Name: Polarity, dtype: int64"
      ]
     },
     "execution_count": 216,
     "metadata": {},
     "output_type": "execute_result"
    }
   ],
   "source": [
    "sentiment_df.Polarity.value_counts()"
   ]
  },
  {
   "cell_type": "code",
   "execution_count": 219,
   "metadata": {
    "collapsed": false
   },
   "outputs": [],
   "source": [
    "from sklearn import utils"
   ]
  },
  {
   "cell_type": "code",
   "execution_count": 222,
   "metadata": {
    "collapsed": false
   },
   "outputs": [],
   "source": [
    "sentiment_df = utils.shuffle(sentiment_df).reset_index(drop=True)"
   ]
  },
  {
   "cell_type": "code",
   "execution_count": 226,
   "metadata": {
    "collapsed": false
   },
   "outputs": [
    {
     "data": {
      "text/plain": [
       "(147861, 2)"
      ]
     },
     "execution_count": 226,
     "metadata": {},
     "output_type": "execute_result"
    }
   ],
   "source": [
    "sentiment_df.shape"
   ]
  },
  {
   "cell_type": "code",
   "execution_count": 232,
   "metadata": {
    "collapsed": false
   },
   "outputs": [],
   "source": [
    "sentiment_df[\"Text\"] = sentiment_df.Text.str.replace(r\"[^a-zA-Z]\", \" \")"
   ]
  },
  {
   "cell_type": "code",
   "execution_count": 236,
   "metadata": {
    "collapsed": false
   },
   "outputs": [
    {
     "data": {
      "text/plain": [
       "0         New York police detective Mark Dixon  Dana And...\n",
       "1                           just having linear algebra quiz\n",
       "2         demanding something more than driver positions...\n",
       "3         Righto Reading that have news afraid have chor...\n",
       "4         In this Walt Disney produced comedy  a track c...\n",
       "5         This movie is about an irresponsible young cou...\n",
       "6         Much family comin over mothers Lots handle Jus...\n",
       "7         Kill Me Later  has an interesting initial prem...\n",
       "8         Okay I admit I do like silly movies Let s see ...\n",
       "9                                  Begging laptop much work\n",
       "10         br    br   I watched this movie just a little...\n",
       "11          baby woke worse today than yesterday gonna long\n",
       "12        I have seen this movie plenty of times and I g...\n",
       "13        Under the Sand was a haunting  touching movie ...\n",
       "14        they should make terrorists watch this video a...\n",
       "15        I purchased this video on VCR tape in a good w...\n",
       "16        Designed only to annoy  or amuse  any self res...\n",
       "17        I ve recently watched this movie  in a lazy Su...\n",
       "18                                          feel well today\n",
       "19        This is a really great short from Hal Roach  T...\n",
       "20        I ll never understand why when a studio like U...\n",
       "21        This movie is the epitome of paradox  Whether ...\n",
       "22        eating blueberry muffins trying sort buttons d...\n",
       "23        Disgused as an Asian Horror   A Tale Of Two Si...\n",
       "24        Dasgupta s Kaalpursh is easily one of the fine...\n",
       "25        Most of the comments have been positive but I ...\n",
       "26        The exploding zeppelins crashing down upon  Sk...\n",
       "27        There s a reason this  undiscovered gem  remai...\n",
       "28                 noticed dipper nicks face long time fair\n",
       "29        Looking at the ratings you would assume this i...\n",
       "                                ...                        \n",
       "147831    I mistakenly kept myself awake late last night...\n",
       "147832      Queen of the Damned    is one of the worst a...\n",
       "147833    The first thing one notices about this film is...\n",
       "147834    That more than Personally very good doing nothing\n",
       "147835    This has to be one of the top overrated anime ...\n",
       "147836    hottest ever Vienna continuity girl said colou...\n",
       "147837    There is nothing worse than science fiction cr...\n",
       "147838    In Illinois  while chasing a Djinn in an old b...\n",
       "147839    Every possible clich   of bollywood is mechani...\n",
       "147840    The Cameraman s Revenge is an unusual short no...\n",
       "147841     br    br   If you re at all interested in pir...\n",
       "147842    East meets West as Mifune and Bronson hunt for...\n",
       "147843                           cool going test utube with\n",
       "147844    This film describes the experiences of a coupl...\n",
       "147845    After efforts have contracted anyway Being sic...\n",
       "147846    Curious  seeing this after the smash hits of  ...\n",
       "147847                    everybody finna ABOUT THEM APPLES\n",
       "147848    Just saw this tonight at a seminar on digital ...\n",
       "147849    I might have given it a higher rating had the ...\n",
       "147850    Guns blasting  buildings exploding  cars crash...\n",
       "147851    As part of the BMWFilms series  Powder Keg is ...\n",
       "147852             lmao arnt following been years need that\n",
       "147853                          procrastinating mine afraid\n",
       "147854              really proud Japanese design going show\n",
       "147855    What a beautiful story  Just incredible  I saw...\n",
       "147856    There is a reason why the world forgot these c...\n",
       "147857    An overblown melodrama typical of its period  ...\n",
       "147858    Jean Harlow and Clark Gable do share chemistry...\n",
       "147859    I couldn t believe my eyes once I ve watched t...\n",
       "147860    pizza cravings mitchel fault with fancy pizza ...\n",
       "Name: Text, dtype: object"
      ]
     },
     "execution_count": 236,
     "metadata": {},
     "output_type": "execute_result"
    }
   ],
   "source": [
    "sentiment_df.Text"
   ]
  },
  {
   "cell_type": "code",
   "execution_count": 242,
   "metadata": {
    "collapsed": false
   },
   "outputs": [],
   "source": [
    "sentiment_df[\"Text\"] = sentiment_df[\"Text\"].astype(str)"
   ]
  },
  {
   "cell_type": "code",
   "execution_count": 246,
   "metadata": {
    "collapsed": false
   },
   "outputs": [],
   "source": [
    "sentiment_df[\"Text\"] = sentiment_df.Text.apply(lambda x: \" \".join([w for w in x.split() if len(w) > 3]))"
   ]
  },
  {
   "cell_type": "code",
   "execution_count": 238,
   "metadata": {
    "collapsed": false
   },
   "outputs": [
    {
     "data": {
      "text/plain": [
       "['whenever', 'you', 'come']"
      ]
     },
     "execution_count": 238,
     "metadata": {},
     "output_type": "execute_result"
    }
   ],
   "source": [
    "text = \"whenever you come\"\n",
    "text.split()"
   ]
  },
  {
   "cell_type": "code",
   "execution_count": 247,
   "metadata": {
    "collapsed": false
   },
   "outputs": [
    {
     "data": {
      "text/html": [
       "<div>\n",
       "<table border=\"1\" class=\"dataframe\">\n",
       "  <thead>\n",
       "    <tr style=\"text-align: right;\">\n",
       "      <th></th>\n",
       "      <th>Text</th>\n",
       "      <th>Polarity</th>\n",
       "    </tr>\n",
       "  </thead>\n",
       "  <tbody>\n",
       "    <tr>\n",
       "      <th>0</th>\n",
       "      <td>York police detective Mark Dixon Dana Andrews ...</td>\n",
       "      <td>1</td>\n",
       "    </tr>\n",
       "    <tr>\n",
       "      <th>1</th>\n",
       "      <td>just having linear algebra quiz</td>\n",
       "      <td>-1</td>\n",
       "    </tr>\n",
       "    <tr>\n",
       "      <th>2</th>\n",
       "      <td>demanding something more than driver positions...</td>\n",
       "      <td>1</td>\n",
       "    </tr>\n",
       "    <tr>\n",
       "      <th>3</th>\n",
       "      <td>Righto Reading that have news afraid have chor...</td>\n",
       "      <td>-1</td>\n",
       "    </tr>\n",
       "    <tr>\n",
       "      <th>4</th>\n",
       "      <td>this Walt Disney produced comedy track coach D...</td>\n",
       "      <td>0</td>\n",
       "    </tr>\n",
       "  </tbody>\n",
       "</table>\n",
       "</div>"
      ],
      "text/plain": [
       "                                                Text  Polarity\n",
       "0  York police detective Mark Dixon Dana Andrews ...         1\n",
       "1                    just having linear algebra quiz        -1\n",
       "2  demanding something more than driver positions...         1\n",
       "3  Righto Reading that have news afraid have chor...        -1\n",
       "4  this Walt Disney produced comedy track coach D...         0"
      ]
     },
     "execution_count": 247,
     "metadata": {},
     "output_type": "execute_result"
    }
   ],
   "source": [
    "sentiment_df.head()"
   ]
  },
  {
   "cell_type": "code",
   "execution_count": 260,
   "metadata": {
    "collapsed": true
   },
   "outputs": [],
   "source": [
    "yelp_df = pd.read_csv(\"C:\\Users\\chidi bede\\Documents\\Data Science Career\\Datasets\\Text classification datasets\\yelp.csv\")"
   ]
  },
  {
   "cell_type": "code",
   "execution_count": 261,
   "metadata": {
    "collapsed": false
   },
   "outputs": [],
   "source": [
    "yelp_df = yelp_df.loc[:, [\"stars\", \"text\"]]"
   ]
  },
  {
   "cell_type": "code",
   "execution_count": 262,
   "metadata": {
    "collapsed": false
   },
   "outputs": [
    {
     "data": {
      "text/plain": [
       "(10000, 2)"
      ]
     },
     "execution_count": 262,
     "metadata": {},
     "output_type": "execute_result"
    }
   ],
   "source": [
    "yelp_df.shape"
   ]
  },
  {
   "cell_type": "code",
   "execution_count": 264,
   "metadata": {
    "collapsed": false
   },
   "outputs": [
    {
     "data": {
      "text/plain": [
       "4    3526\n",
       "5    3337\n",
       "3    1461\n",
       "2     927\n",
       "1     749\n",
       "Name: stars, dtype: int64"
      ]
     },
     "execution_count": 264,
     "metadata": {},
     "output_type": "execute_result"
    }
   ],
   "source": [
    "yelp_df.stars.value_counts()"
   ]
  },
  {
   "cell_type": "code",
   "execution_count": 265,
   "metadata": {
    "collapsed": false
   },
   "outputs": [],
   "source": [
    "yelp_df[\"stars\"] = yelp_df.stars.map({5: 5, 4:5, 3:0, 2:-1, 1:-1})"
   ]
  },
  {
   "cell_type": "code",
   "execution_count": 266,
   "metadata": {
    "collapsed": false
   },
   "outputs": [
    {
     "data": {
      "text/plain": [
       " 5    6863\n",
       "-1    1676\n",
       " 0    1461\n",
       "Name: stars, dtype: int64"
      ]
     },
     "execution_count": 266,
     "metadata": {},
     "output_type": "execute_result"
    }
   ],
   "source": [
    "yelp_df.stars.value_counts()"
   ]
  },
  {
   "cell_type": "code",
   "execution_count": 267,
   "metadata": {
    "collapsed": true
   },
   "outputs": [],
   "source": [
    "yelp_df[\"stars\"] = yelp_df.stars.map({5: 1, 0:0, -1:-1})"
   ]
  },
  {
   "cell_type": "code",
   "execution_count": 268,
   "metadata": {
    "collapsed": false
   },
   "outputs": [
    {
     "data": {
      "text/plain": [
       " 1    6863\n",
       "-1    1676\n",
       " 0    1461\n",
       "Name: stars, dtype: int64"
      ]
     },
     "execution_count": 268,
     "metadata": {},
     "output_type": "execute_result"
    }
   ],
   "source": [
    "yelp_df.stars.value_counts()"
   ]
  },
  {
   "cell_type": "code",
   "execution_count": 269,
   "metadata": {
    "collapsed": false
   },
   "outputs": [
    {
     "data": {
      "text/html": [
       "<div>\n",
       "<table border=\"1\" class=\"dataframe\">\n",
       "  <thead>\n",
       "    <tr style=\"text-align: right;\">\n",
       "      <th></th>\n",
       "      <th>stars</th>\n",
       "      <th>text</th>\n",
       "    </tr>\n",
       "  </thead>\n",
       "  <tbody>\n",
       "    <tr>\n",
       "      <th>0</th>\n",
       "      <td>1</td>\n",
       "      <td>My wife took me here on my birthday for breakf...</td>\n",
       "    </tr>\n",
       "    <tr>\n",
       "      <th>1</th>\n",
       "      <td>1</td>\n",
       "      <td>I have no idea why some people give bad review...</td>\n",
       "    </tr>\n",
       "    <tr>\n",
       "      <th>2</th>\n",
       "      <td>1</td>\n",
       "      <td>love the gyro plate. Rice is so good and I als...</td>\n",
       "    </tr>\n",
       "    <tr>\n",
       "      <th>3</th>\n",
       "      <td>1</td>\n",
       "      <td>Rosie, Dakota, and I LOVE Chaparral Dog Park!!...</td>\n",
       "    </tr>\n",
       "    <tr>\n",
       "      <th>4</th>\n",
       "      <td>1</td>\n",
       "      <td>General Manager Scott Petello is a good egg!!!...</td>\n",
       "    </tr>\n",
       "    <tr>\n",
       "      <th>5</th>\n",
       "      <td>1</td>\n",
       "      <td>Quiessence is, simply put, beautiful.  Full wi...</td>\n",
       "    </tr>\n",
       "    <tr>\n",
       "      <th>6</th>\n",
       "      <td>1</td>\n",
       "      <td>Drop what you're doing and drive here. After I...</td>\n",
       "    </tr>\n",
       "    <tr>\n",
       "      <th>7</th>\n",
       "      <td>1</td>\n",
       "      <td>Luckily, I didn't have to travel far to make m...</td>\n",
       "    </tr>\n",
       "    <tr>\n",
       "      <th>8</th>\n",
       "      <td>1</td>\n",
       "      <td>Definitely come for Happy hour! Prices are ama...</td>\n",
       "    </tr>\n",
       "    <tr>\n",
       "      <th>9</th>\n",
       "      <td>1</td>\n",
       "      <td>Nobuo shows his unique talents with everything...</td>\n",
       "    </tr>\n",
       "    <tr>\n",
       "      <th>10</th>\n",
       "      <td>1</td>\n",
       "      <td>The oldish man who owns the store is as sweet ...</td>\n",
       "    </tr>\n",
       "    <tr>\n",
       "      <th>11</th>\n",
       "      <td>1</td>\n",
       "      <td>Wonderful Vietnamese sandwich shoppe. Their ba...</td>\n",
       "    </tr>\n",
       "    <tr>\n",
       "      <th>12</th>\n",
       "      <td>1</td>\n",
       "      <td>They have a limited time thing going on right ...</td>\n",
       "    </tr>\n",
       "    <tr>\n",
       "      <th>13</th>\n",
       "      <td>1</td>\n",
       "      <td>Good tattoo shop. Clean space, multiple artist...</td>\n",
       "    </tr>\n",
       "    <tr>\n",
       "      <th>14</th>\n",
       "      <td>1</td>\n",
       "      <td>I'm 2 weeks new to Phoenix. I looked up Irish ...</td>\n",
       "    </tr>\n",
       "    <tr>\n",
       "      <th>15</th>\n",
       "      <td>-1</td>\n",
       "      <td>Was it worth the 21$ for a salad and small piz...</td>\n",
       "    </tr>\n",
       "    <tr>\n",
       "      <th>16</th>\n",
       "      <td>0</td>\n",
       "      <td>We went here on a Saturday afternoon and this ...</td>\n",
       "    </tr>\n",
       "    <tr>\n",
       "      <th>17</th>\n",
       "      <td>1</td>\n",
       "      <td>okay this is the best place EVER! i grew up sh...</td>\n",
       "    </tr>\n",
       "    <tr>\n",
       "      <th>18</th>\n",
       "      <td>0</td>\n",
       "      <td>I met a friend for lunch yesterday. \\r\\n\\r\\nLo...</td>\n",
       "    </tr>\n",
       "    <tr>\n",
       "      <th>19</th>\n",
       "      <td>1</td>\n",
       "      <td>They've gotten better and better for me in the...</td>\n",
       "    </tr>\n",
       "    <tr>\n",
       "      <th>20</th>\n",
       "      <td>0</td>\n",
       "      <td>DVAP....\\r\\n\\r\\nYou have to go at least once i...</td>\n",
       "    </tr>\n",
       "    <tr>\n",
       "      <th>21</th>\n",
       "      <td>1</td>\n",
       "      <td>This place shouldn't even be reviewed - becaus...</td>\n",
       "    </tr>\n",
       "    <tr>\n",
       "      <th>22</th>\n",
       "      <td>1</td>\n",
       "      <td>first time my friend and I went there... it wa...</td>\n",
       "    </tr>\n",
       "    <tr>\n",
       "      <th>23</th>\n",
       "      <td>-1</td>\n",
       "      <td>U can go there n check the car out. If u wanna...</td>\n",
       "    </tr>\n",
       "    <tr>\n",
       "      <th>24</th>\n",
       "      <td>1</td>\n",
       "      <td>I love this place! I have been coming here for...</td>\n",
       "    </tr>\n",
       "    <tr>\n",
       "      <th>25</th>\n",
       "      <td>1</td>\n",
       "      <td>This place is great.  A nice little ole' fashi...</td>\n",
       "    </tr>\n",
       "    <tr>\n",
       "      <th>26</th>\n",
       "      <td>1</td>\n",
       "      <td>I love love LOVE this place. My boss (who is i...</td>\n",
       "    </tr>\n",
       "    <tr>\n",
       "      <th>27</th>\n",
       "      <td>1</td>\n",
       "      <td>Not that my review will mean much given the mo...</td>\n",
       "    </tr>\n",
       "    <tr>\n",
       "      <th>28</th>\n",
       "      <td>1</td>\n",
       "      <td>Came here for breakfast yesterday, it had been...</td>\n",
       "    </tr>\n",
       "    <tr>\n",
       "      <th>29</th>\n",
       "      <td>1</td>\n",
       "      <td>Always reliably good.  Great beer selection as...</td>\n",
       "    </tr>\n",
       "    <tr>\n",
       "      <th>...</th>\n",
       "      <td>...</td>\n",
       "      <td>...</td>\n",
       "    </tr>\n",
       "    <tr>\n",
       "      <th>170</th>\n",
       "      <td>-1</td>\n",
       "      <td>Rarely do I give a 1 star rating but after fou...</td>\n",
       "    </tr>\n",
       "    <tr>\n",
       "      <th>171</th>\n",
       "      <td>0</td>\n",
       "      <td>Service was good, however my fettucine alfredo...</td>\n",
       "    </tr>\n",
       "    <tr>\n",
       "      <th>172</th>\n",
       "      <td>-1</td>\n",
       "      <td>So, I went because of all the hype. Immediatel...</td>\n",
       "    </tr>\n",
       "    <tr>\n",
       "      <th>173</th>\n",
       "      <td>0</td>\n",
       "      <td>Ok, so I'm catching up on past-due reviews.  F...</td>\n",
       "    </tr>\n",
       "    <tr>\n",
       "      <th>174</th>\n",
       "      <td>1</td>\n",
       "      <td>Gils.. A relatively new business to the comple...</td>\n",
       "    </tr>\n",
       "    <tr>\n",
       "      <th>175</th>\n",
       "      <td>1</td>\n",
       "      <td>Good pizza. Nice and laid back. Good staff too.</td>\n",
       "    </tr>\n",
       "    <tr>\n",
       "      <th>176</th>\n",
       "      <td>1</td>\n",
       "      <td>The praise and worship with Pastor BJ just set...</td>\n",
       "    </tr>\n",
       "    <tr>\n",
       "      <th>177</th>\n",
       "      <td>1</td>\n",
       "      <td>I come here probably at least once a week. The...</td>\n",
       "    </tr>\n",
       "    <tr>\n",
       "      <th>178</th>\n",
       "      <td>1</td>\n",
       "      <td>I have only gotten the cafe sua da (iced coffe...</td>\n",
       "    </tr>\n",
       "    <tr>\n",
       "      <th>179</th>\n",
       "      <td>0</td>\n",
       "      <td>Only had a chance to experience the Oscuro (am...</td>\n",
       "    </tr>\n",
       "    <tr>\n",
       "      <th>180</th>\n",
       "      <td>1</td>\n",
       "      <td>Hippies scare me.     So in my preparation to ...</td>\n",
       "    </tr>\n",
       "    <tr>\n",
       "      <th>181</th>\n",
       "      <td>0</td>\n",
       "      <td>In addition to the nice atmosphere on the pati...</td>\n",
       "    </tr>\n",
       "    <tr>\n",
       "      <th>182</th>\n",
       "      <td>1</td>\n",
       "      <td>Man, do I LOVE a restaurant with REALLY GOOD f...</td>\n",
       "    </tr>\n",
       "    <tr>\n",
       "      <th>183</th>\n",
       "      <td>1</td>\n",
       "      <td>Great experience from start to finish.  Host (...</td>\n",
       "    </tr>\n",
       "    <tr>\n",
       "      <th>184</th>\n",
       "      <td>1</td>\n",
       "      <td>Great customer service, competitive rates, and...</td>\n",
       "    </tr>\n",
       "    <tr>\n",
       "      <th>185</th>\n",
       "      <td>1</td>\n",
       "      <td>We went to The Farm today for lunch to enjoy a...</td>\n",
       "    </tr>\n",
       "    <tr>\n",
       "      <th>186</th>\n",
       "      <td>1</td>\n",
       "      <td>Games- great.\\r\\nGame prices- decent.\\r\\nFood-...</td>\n",
       "    </tr>\n",
       "    <tr>\n",
       "      <th>187</th>\n",
       "      <td>1</td>\n",
       "      <td>I love the ambiance at Joe's Farm Grill.  It's...</td>\n",
       "    </tr>\n",
       "    <tr>\n",
       "      <th>188</th>\n",
       "      <td>1</td>\n",
       "      <td>Screw Disneyland- Sephora is the happiest plac...</td>\n",
       "    </tr>\n",
       "    <tr>\n",
       "      <th>189</th>\n",
       "      <td>1</td>\n",
       "      <td>I loved this little slice of heaven.  Reasonab...</td>\n",
       "    </tr>\n",
       "    <tr>\n",
       "      <th>190</th>\n",
       "      <td>-1</td>\n",
       "      <td>What a load of absolutely hideous, uninteresti...</td>\n",
       "    </tr>\n",
       "    <tr>\n",
       "      <th>191</th>\n",
       "      <td>1</td>\n",
       "      <td>Had the enchiladas - cheese and shredded beef ...</td>\n",
       "    </tr>\n",
       "    <tr>\n",
       "      <th>192</th>\n",
       "      <td>1</td>\n",
       "      <td>I found this place when we needed a place to m...</td>\n",
       "    </tr>\n",
       "    <tr>\n",
       "      <th>193</th>\n",
       "      <td>1</td>\n",
       "      <td>AZ-88 is at once chic, urban, fun, and just en...</td>\n",
       "    </tr>\n",
       "    <tr>\n",
       "      <th>194</th>\n",
       "      <td>0</td>\n",
       "      <td>Sugar bowl ice cream is yummy but what ice cre...</td>\n",
       "    </tr>\n",
       "    <tr>\n",
       "      <th>195</th>\n",
       "      <td>1</td>\n",
       "      <td>Great place for lunch, transport yourself back...</td>\n",
       "    </tr>\n",
       "    <tr>\n",
       "      <th>196</th>\n",
       "      <td>-1</td>\n",
       "      <td>My girlfriend liked this place more than I did...</td>\n",
       "    </tr>\n",
       "    <tr>\n",
       "      <th>197</th>\n",
       "      <td>0</td>\n",
       "      <td>Other then the chips and salsa (5 stars for sa...</td>\n",
       "    </tr>\n",
       "    <tr>\n",
       "      <th>198</th>\n",
       "      <td>1</td>\n",
       "      <td>Man, if these guys were trying to replicate a ...</td>\n",
       "    </tr>\n",
       "    <tr>\n",
       "      <th>199</th>\n",
       "      <td>1</td>\n",
       "      <td>Fun, with caps if I did that sort of thing. Th...</td>\n",
       "    </tr>\n",
       "  </tbody>\n",
       "</table>\n",
       "<p>200 rows × 2 columns</p>\n",
       "</div>"
      ],
      "text/plain": [
       "     stars                                               text\n",
       "0        1  My wife took me here on my birthday for breakf...\n",
       "1        1  I have no idea why some people give bad review...\n",
       "2        1  love the gyro plate. Rice is so good and I als...\n",
       "3        1  Rosie, Dakota, and I LOVE Chaparral Dog Park!!...\n",
       "4        1  General Manager Scott Petello is a good egg!!!...\n",
       "5        1  Quiessence is, simply put, beautiful.  Full wi...\n",
       "6        1  Drop what you're doing and drive here. After I...\n",
       "7        1  Luckily, I didn't have to travel far to make m...\n",
       "8        1  Definitely come for Happy hour! Prices are ama...\n",
       "9        1  Nobuo shows his unique talents with everything...\n",
       "10       1  The oldish man who owns the store is as sweet ...\n",
       "11       1  Wonderful Vietnamese sandwich shoppe. Their ba...\n",
       "12       1  They have a limited time thing going on right ...\n",
       "13       1  Good tattoo shop. Clean space, multiple artist...\n",
       "14       1  I'm 2 weeks new to Phoenix. I looked up Irish ...\n",
       "15      -1  Was it worth the 21$ for a salad and small piz...\n",
       "16       0  We went here on a Saturday afternoon and this ...\n",
       "17       1  okay this is the best place EVER! i grew up sh...\n",
       "18       0  I met a friend for lunch yesterday. \\r\\n\\r\\nLo...\n",
       "19       1  They've gotten better and better for me in the...\n",
       "20       0  DVAP....\\r\\n\\r\\nYou have to go at least once i...\n",
       "21       1  This place shouldn't even be reviewed - becaus...\n",
       "22       1  first time my friend and I went there... it wa...\n",
       "23      -1  U can go there n check the car out. If u wanna...\n",
       "24       1  I love this place! I have been coming here for...\n",
       "25       1  This place is great.  A nice little ole' fashi...\n",
       "26       1  I love love LOVE this place. My boss (who is i...\n",
       "27       1  Not that my review will mean much given the mo...\n",
       "28       1  Came here for breakfast yesterday, it had been...\n",
       "29       1  Always reliably good.  Great beer selection as...\n",
       "..     ...                                                ...\n",
       "170     -1  Rarely do I give a 1 star rating but after fou...\n",
       "171      0  Service was good, however my fettucine alfredo...\n",
       "172     -1  So, I went because of all the hype. Immediatel...\n",
       "173      0  Ok, so I'm catching up on past-due reviews.  F...\n",
       "174      1  Gils.. A relatively new business to the comple...\n",
       "175      1    Good pizza. Nice and laid back. Good staff too.\n",
       "176      1  The praise and worship with Pastor BJ just set...\n",
       "177      1  I come here probably at least once a week. The...\n",
       "178      1  I have only gotten the cafe sua da (iced coffe...\n",
       "179      0  Only had a chance to experience the Oscuro (am...\n",
       "180      1  Hippies scare me.     So in my preparation to ...\n",
       "181      0  In addition to the nice atmosphere on the pati...\n",
       "182      1  Man, do I LOVE a restaurant with REALLY GOOD f...\n",
       "183      1  Great experience from start to finish.  Host (...\n",
       "184      1  Great customer service, competitive rates, and...\n",
       "185      1  We went to The Farm today for lunch to enjoy a...\n",
       "186      1  Games- great.\\r\\nGame prices- decent.\\r\\nFood-...\n",
       "187      1  I love the ambiance at Joe's Farm Grill.  It's...\n",
       "188      1  Screw Disneyland- Sephora is the happiest plac...\n",
       "189      1  I loved this little slice of heaven.  Reasonab...\n",
       "190     -1  What a load of absolutely hideous, uninteresti...\n",
       "191      1  Had the enchiladas - cheese and shredded beef ...\n",
       "192      1  I found this place when we needed a place to m...\n",
       "193      1  AZ-88 is at once chic, urban, fun, and just en...\n",
       "194      0  Sugar bowl ice cream is yummy but what ice cre...\n",
       "195      1  Great place for lunch, transport yourself back...\n",
       "196     -1  My girlfriend liked this place more than I did...\n",
       "197      0  Other then the chips and salsa (5 stars for sa...\n",
       "198      1  Man, if these guys were trying to replicate a ...\n",
       "199      1  Fun, with caps if I did that sort of thing. Th...\n",
       "\n",
       "[200 rows x 2 columns]"
      ]
     },
     "execution_count": 269,
     "metadata": {},
     "output_type": "execute_result"
    }
   ],
   "source": [
    "yelp_df.head(200)"
   ]
  },
  {
   "cell_type": "code",
   "execution_count": 271,
   "metadata": {
    "collapsed": false
   },
   "outputs": [],
   "source": [
    "yelp_df = yelp_df.loc[:, [\"text\", \"stars\"]]"
   ]
  },
  {
   "cell_type": "code",
   "execution_count": null,
   "metadata": {
    "collapsed": true
   },
   "outputs": [],
   "source": []
  },
  {
   "cell_type": "code",
   "execution_count": 273,
   "metadata": {
    "collapsed": true
   },
   "outputs": [],
   "source": [
    "yelp_df.columns = [\"Text\", \"Polarity\"]"
   ]
  },
  {
   "cell_type": "code",
   "execution_count": 274,
   "metadata": {
    "collapsed": true
   },
   "outputs": [],
   "source": [
    "yelp_df[\"Text\"] = yelp_df.Text.str.replace(r\"[^a-zA-Z]\", \" \")"
   ]
  },
  {
   "cell_type": "code",
   "execution_count": 276,
   "metadata": {
    "collapsed": false
   },
   "outputs": [
    {
     "data": {
      "text/html": [
       "<div>\n",
       "<table border=\"1\" class=\"dataframe\">\n",
       "  <thead>\n",
       "    <tr style=\"text-align: right;\">\n",
       "      <th></th>\n",
       "      <th>Text</th>\n",
       "      <th>Polarity</th>\n",
       "    </tr>\n",
       "  </thead>\n",
       "  <tbody>\n",
       "    <tr>\n",
       "      <th>0</th>\n",
       "      <td>My wife took me here on my birthday for breakf...</td>\n",
       "      <td>1</td>\n",
       "    </tr>\n",
       "    <tr>\n",
       "      <th>1</th>\n",
       "      <td>I have no idea why some people give bad review...</td>\n",
       "      <td>1</td>\n",
       "    </tr>\n",
       "    <tr>\n",
       "      <th>2</th>\n",
       "      <td>love the gyro plate  Rice is so good and I als...</td>\n",
       "      <td>1</td>\n",
       "    </tr>\n",
       "    <tr>\n",
       "      <th>3</th>\n",
       "      <td>Rosie  Dakota  and I LOVE Chaparral Dog Park  ...</td>\n",
       "      <td>1</td>\n",
       "    </tr>\n",
       "    <tr>\n",
       "      <th>4</th>\n",
       "      <td>General Manager Scott Petello is a good egg   ...</td>\n",
       "      <td>1</td>\n",
       "    </tr>\n",
       "  </tbody>\n",
       "</table>\n",
       "</div>"
      ],
      "text/plain": [
       "                                                Text  Polarity\n",
       "0  My wife took me here on my birthday for breakf...         1\n",
       "1  I have no idea why some people give bad review...         1\n",
       "2  love the gyro plate  Rice is so good and I als...         1\n",
       "3  Rosie  Dakota  and I LOVE Chaparral Dog Park  ...         1\n",
       "4  General Manager Scott Petello is a good egg   ...         1"
      ]
     },
     "execution_count": 276,
     "metadata": {},
     "output_type": "execute_result"
    }
   ],
   "source": [
    "yelp_df.head()"
   ]
  },
  {
   "cell_type": "code",
   "execution_count": 277,
   "metadata": {
    "collapsed": true
   },
   "outputs": [],
   "source": [
    "yelp_df[\"Text\"] = yelp_df.Text.apply(lambda x: \" \".join([w for w in x.split() if len(w) > 3]))"
   ]
  },
  {
   "cell_type": "code",
   "execution_count": 279,
   "metadata": {
    "collapsed": false
   },
   "outputs": [],
   "source": [
    "sentiment_df = pd.concat([sentiment_df, yelp_df])"
   ]
  },
  {
   "cell_type": "code",
   "execution_count": 280,
   "metadata": {
    "collapsed": false
   },
   "outputs": [
    {
     "data": {
      "text/plain": [
       " 1    56260\n",
       " 0    50968\n",
       "-1    50633\n",
       "Name: Polarity, dtype: int64"
      ]
     },
     "execution_count": 280,
     "metadata": {},
     "output_type": "execute_result"
    }
   ],
   "source": [
    "sentiment_df.Polarity.value_counts()"
   ]
  },
  {
   "cell_type": "code",
   "execution_count": 287,
   "metadata": {
    "collapsed": false
   },
   "outputs": [],
   "source": [
    "neg_text = pd.read_table(\"negative-words.txt\")\n",
    "neg_text = neg_text.loc[33:, :]"
   ]
  },
  {
   "cell_type": "code",
   "execution_count": 288,
   "metadata": {
    "collapsed": true
   },
   "outputs": [],
   "source": [
    "neg_text.columns = [\"Text\"]"
   ]
  },
  {
   "cell_type": "code",
   "execution_count": 290,
   "metadata": {
    "collapsed": false
   },
   "outputs": [],
   "source": [
    "neg_text.reset_index(drop=True, inplace=True)"
   ]
  },
  {
   "cell_type": "code",
   "execution_count": 297,
   "metadata": {
    "collapsed": true
   },
   "outputs": [],
   "source": [
    "for i in range(len(neg_text)):\n",
    "    neg_text[\"Polarity\"] = -1"
   ]
  },
  {
   "cell_type": "code",
   "execution_count": 299,
   "metadata": {
    "collapsed": false
   },
   "outputs": [],
   "source": [
    "neg_text2 = neg_text.loc[:, [\"Text\", \"Polarity\"]]"
   ]
  },
  {
   "cell_type": "code",
   "execution_count": 301,
   "metadata": {
    "collapsed": false
   },
   "outputs": [
    {
     "data": {
      "text/html": [
       "<div>\n",
       "<table border=\"1\" class=\"dataframe\">\n",
       "  <thead>\n",
       "    <tr style=\"text-align: right;\">\n",
       "      <th></th>\n",
       "      <th>Text</th>\n",
       "      <th>Polarity</th>\n",
       "    </tr>\n",
       "  </thead>\n",
       "  <tbody>\n",
       "    <tr>\n",
       "      <th>4778</th>\n",
       "      <td>zaps</td>\n",
       "      <td>-1</td>\n",
       "    </tr>\n",
       "    <tr>\n",
       "      <th>4779</th>\n",
       "      <td>zealot</td>\n",
       "      <td>-1</td>\n",
       "    </tr>\n",
       "    <tr>\n",
       "      <th>4780</th>\n",
       "      <td>zealous</td>\n",
       "      <td>-1</td>\n",
       "    </tr>\n",
       "    <tr>\n",
       "      <th>4781</th>\n",
       "      <td>zealously</td>\n",
       "      <td>-1</td>\n",
       "    </tr>\n",
       "    <tr>\n",
       "      <th>4782</th>\n",
       "      <td>zombie</td>\n",
       "      <td>-1</td>\n",
       "    </tr>\n",
       "  </tbody>\n",
       "</table>\n",
       "</div>"
      ],
      "text/plain": [
       "           Text  Polarity\n",
       "4778       zaps        -1\n",
       "4779     zealot        -1\n",
       "4780    zealous        -1\n",
       "4781  zealously        -1\n",
       "4782     zombie        -1"
      ]
     },
     "execution_count": 301,
     "metadata": {},
     "output_type": "execute_result"
    }
   ],
   "source": [
    "neg_text2.tail()"
   ]
  },
  {
   "cell_type": "code",
   "execution_count": 304,
   "metadata": {
    "collapsed": false
   },
   "outputs": [],
   "source": [
    "neg_text2[\"Text\"] = neg_text2.Text.apply(lambda x: x + \" is a terrible nigger nigga bitch hate speech\") "
   ]
  },
  {
   "cell_type": "code",
   "execution_count": 305,
   "metadata": {
    "collapsed": true
   },
   "outputs": [],
   "source": [
    "neg_text3 = neg_text.loc[:, [\"Text\", \"Polarity\"]]"
   ]
  },
  {
   "cell_type": "code",
   "execution_count": 306,
   "metadata": {
    "collapsed": true
   },
   "outputs": [],
   "source": [
    "neg_text3[\"Text\"] = neg_text3.Text.apply(lambda x: x + \" \" + x + \" killed died sad angry\") "
   ]
  },
  {
   "cell_type": "code",
   "execution_count": 309,
   "metadata": {
    "collapsed": false
   },
   "outputs": [],
   "source": [
    "neg_text = pd.concat([neg_text, neg_text2, neg_text3])"
   ]
  },
  {
   "cell_type": "code",
   "execution_count": 310,
   "metadata": {
    "collapsed": true
   },
   "outputs": [],
   "source": [
    "neg_text.reset_index(drop=True, inplace=True)"
   ]
  },
  {
   "cell_type": "code",
   "execution_count": 311,
   "metadata": {
    "collapsed": false
   },
   "outputs": [
    {
     "data": {
      "text/plain": [
       "(14349, 2)"
      ]
     },
     "execution_count": 311,
     "metadata": {},
     "output_type": "execute_result"
    }
   ],
   "source": [
    " neg_text.shape"
   ]
  },
  {
   "cell_type": "code",
   "execution_count": 312,
   "metadata": {
    "collapsed": false
   },
   "outputs": [
    {
     "data": {
      "text/html": [
       "<div>\n",
       "<table border=\"1\" class=\"dataframe\">\n",
       "  <thead>\n",
       "    <tr style=\"text-align: right;\">\n",
       "      <th></th>\n",
       "      <th>Text</th>\n",
       "      <th>Polarity</th>\n",
       "    </tr>\n",
       "  </thead>\n",
       "  <tbody>\n",
       "    <tr>\n",
       "      <th>0</th>\n",
       "      <td>2-faced</td>\n",
       "      <td>-1</td>\n",
       "    </tr>\n",
       "    <tr>\n",
       "      <th>1</th>\n",
       "      <td>2-faces</td>\n",
       "      <td>-1</td>\n",
       "    </tr>\n",
       "    <tr>\n",
       "      <th>2</th>\n",
       "      <td>abnormal</td>\n",
       "      <td>-1</td>\n",
       "    </tr>\n",
       "    <tr>\n",
       "      <th>3</th>\n",
       "      <td>abolish</td>\n",
       "      <td>-1</td>\n",
       "    </tr>\n",
       "    <tr>\n",
       "      <th>4</th>\n",
       "      <td>abominable</td>\n",
       "      <td>-1</td>\n",
       "    </tr>\n",
       "  </tbody>\n",
       "</table>\n",
       "</div>"
      ],
      "text/plain": [
       "         Text  Polarity\n",
       "0     2-faced        -1\n",
       "1     2-faces        -1\n",
       "2    abnormal        -1\n",
       "3     abolish        -1\n",
       "4  abominable        -1"
      ]
     },
     "execution_count": 312,
     "metadata": {},
     "output_type": "execute_result"
    }
   ],
   "source": [
    "neg_text.head()"
   ]
  },
  {
   "cell_type": "code",
   "execution_count": 313,
   "metadata": {
    "collapsed": false
   },
   "outputs": [
    {
     "data": {
      "text/plain": [
       "-1    14349\n",
       "Name: Polarity, dtype: int64"
      ]
     },
     "execution_count": 313,
     "metadata": {},
     "output_type": "execute_result"
    }
   ],
   "source": [
    "neg_text.Polarity.value_counts()"
   ]
  },
  {
   "cell_type": "code",
   "execution_count": 321,
   "metadata": {
    "collapsed": true
   },
   "outputs": [],
   "source": [
    "pos_text = pd.read_table(\"positive-words.txt\", names=[\"Text\"])"
   ]
  },
  {
   "cell_type": "code",
   "execution_count": null,
   "metadata": {
    "collapsed": false
   },
   "outputs": [],
   "source": []
  },
  {
   "cell_type": "code",
   "execution_count": 322,
   "metadata": {
    "collapsed": false
   },
   "outputs": [],
   "source": [
    "pos_text = pos_text.loc[34:, :]"
   ]
  },
  {
   "cell_type": "code",
   "execution_count": 325,
   "metadata": {
    "collapsed": false
   },
   "outputs": [],
   "source": [
    "pos_text.reset_index(drop=True, inplace=True)"
   ]
  },
  {
   "cell_type": "code",
   "execution_count": 326,
   "metadata": {
    "collapsed": false
   },
   "outputs": [],
   "source": [
    "for i in range(len(pos_text)):\n",
    "    pos_text[\"Polarity\"] = 1"
   ]
  },
  {
   "cell_type": "code",
   "execution_count": 329,
   "metadata": {
    "collapsed": false
   },
   "outputs": [
    {
     "data": {
      "text/html": [
       "<div>\n",
       "<table border=\"1\" class=\"dataframe\">\n",
       "  <thead>\n",
       "    <tr style=\"text-align: right;\">\n",
       "      <th></th>\n",
       "      <th>Text</th>\n",
       "      <th>Polarity</th>\n",
       "    </tr>\n",
       "  </thead>\n",
       "  <tbody>\n",
       "    <tr>\n",
       "      <th>2001</th>\n",
       "      <td>youthful</td>\n",
       "      <td>1</td>\n",
       "    </tr>\n",
       "    <tr>\n",
       "      <th>2002</th>\n",
       "      <td>zeal</td>\n",
       "      <td>1</td>\n",
       "    </tr>\n",
       "    <tr>\n",
       "      <th>2003</th>\n",
       "      <td>zenith</td>\n",
       "      <td>1</td>\n",
       "    </tr>\n",
       "    <tr>\n",
       "      <th>2004</th>\n",
       "      <td>zest</td>\n",
       "      <td>1</td>\n",
       "    </tr>\n",
       "    <tr>\n",
       "      <th>2005</th>\n",
       "      <td>zippy</td>\n",
       "      <td>1</td>\n",
       "    </tr>\n",
       "  </tbody>\n",
       "</table>\n",
       "</div>"
      ],
      "text/plain": [
       "          Text  Polarity\n",
       "2001  youthful         1\n",
       "2002      zeal         1\n",
       "2003    zenith         1\n",
       "2004      zest         1\n",
       "2005     zippy         1"
      ]
     },
     "execution_count": 329,
     "metadata": {},
     "output_type": "execute_result"
    }
   ],
   "source": [
    "pos_text.tail()"
   ]
  },
  {
   "cell_type": "code",
   "execution_count": 330,
   "metadata": {
    "collapsed": true
   },
   "outputs": [],
   "source": [
    "pos_text2 = pos_text.loc[:, [\"Text\", \"Polarity\"]]"
   ]
  },
  {
   "cell_type": "code",
   "execution_count": 332,
   "metadata": {
    "collapsed": true
   },
   "outputs": [],
   "source": [
    "pos_text2[\"Text\"] = pos_text2.Text.apply(lambda x: x + \" is a wonderful excellent awesome competent\") "
   ]
  },
  {
   "cell_type": "code",
   "execution_count": 333,
   "metadata": {
    "collapsed": true
   },
   "outputs": [],
   "source": [
    "pos_text3 = pos_text.loc[:, [\"Text\", \"Polarity\"]]\n",
    "pos_text3[\"Text\"] = pos_text3.Text.apply(lambda x: x + \" \" + x + \" lived happy great\") "
   ]
  },
  {
   "cell_type": "code",
   "execution_count": 337,
   "metadata": {
    "collapsed": false
   },
   "outputs": [
    {
     "data": {
      "text/plain": [
       "(2006, 2)"
      ]
     },
     "execution_count": 337,
     "metadata": {},
     "output_type": "execute_result"
    }
   ],
   "source": [
    "pos_text3.shape"
   ]
  },
  {
   "cell_type": "code",
   "execution_count": 339,
   "metadata": {
    "collapsed": false
   },
   "outputs": [],
   "source": [
    "pos_text = pd.concat([pos_text, pos_text2, pos_text3])"
   ]
  },
  {
   "cell_type": "code",
   "execution_count": 340,
   "metadata": {
    "collapsed": false
   },
   "outputs": [
    {
     "data": {
      "text/plain": [
       "(6018, 2)"
      ]
     },
     "execution_count": 340,
     "metadata": {},
     "output_type": "execute_result"
    }
   ],
   "source": [
    "pos_text.shape"
   ]
  },
  {
   "cell_type": "code",
   "execution_count": 341,
   "metadata": {
    "collapsed": true
   },
   "outputs": [],
   "source": [
    "pos_neg_text = pd.concat([pos_text, neg_text])"
   ]
  },
  {
   "cell_type": "code",
   "execution_count": 343,
   "metadata": {
    "collapsed": false
   },
   "outputs": [],
   "source": [
    "sentiment_df = pd.concat([sentiment_df, pos_neg_text])"
   ]
  },
  {
   "cell_type": "code",
   "execution_count": 344,
   "metadata": {
    "collapsed": false
   },
   "outputs": [
    {
     "data": {
      "text/html": [
       "<div>\n",
       "<table border=\"1\" class=\"dataframe\">\n",
       "  <thead>\n",
       "    <tr style=\"text-align: right;\">\n",
       "      <th></th>\n",
       "      <th>Text</th>\n",
       "      <th>Polarity</th>\n",
       "    </tr>\n",
       "  </thead>\n",
       "  <tbody>\n",
       "    <tr>\n",
       "      <th>0</th>\n",
       "      <td>York police detective Mark Dixon Dana Andrews ...</td>\n",
       "      <td>1</td>\n",
       "    </tr>\n",
       "    <tr>\n",
       "      <th>1</th>\n",
       "      <td>just having linear algebra quiz</td>\n",
       "      <td>-1</td>\n",
       "    </tr>\n",
       "    <tr>\n",
       "      <th>2</th>\n",
       "      <td>demanding something more than driver positions...</td>\n",
       "      <td>1</td>\n",
       "    </tr>\n",
       "    <tr>\n",
       "      <th>3</th>\n",
       "      <td>Righto Reading that have news afraid have chor...</td>\n",
       "      <td>-1</td>\n",
       "    </tr>\n",
       "    <tr>\n",
       "      <th>4</th>\n",
       "      <td>this Walt Disney produced comedy track coach D...</td>\n",
       "      <td>0</td>\n",
       "    </tr>\n",
       "  </tbody>\n",
       "</table>\n",
       "</div>"
      ],
      "text/plain": [
       "                                                Text  Polarity\n",
       "0  York police detective Mark Dixon Dana Andrews ...         1\n",
       "1                    just having linear algebra quiz        -1\n",
       "2  demanding something more than driver positions...         1\n",
       "3  Righto Reading that have news afraid have chor...        -1\n",
       "4  this Walt Disney produced comedy track coach D...         0"
      ]
     },
     "execution_count": 344,
     "metadata": {},
     "output_type": "execute_result"
    }
   ],
   "source": [
    "sentiment_df.head()"
   ]
  },
  {
   "cell_type": "code",
   "execution_count": 346,
   "metadata": {
    "collapsed": false
   },
   "outputs": [],
   "source": [
    "sentiment_df = utils.shuffle(sentiment_df)"
   ]
  },
  {
   "cell_type": "code",
   "execution_count": 347,
   "metadata": {
    "collapsed": true
   },
   "outputs": [],
   "source": [
    "sentiment_df.reset_index(drop=True, inplace=True)"
   ]
  },
  {
   "cell_type": "code",
   "execution_count": 348,
   "metadata": {
    "collapsed": false
   },
   "outputs": [
    {
     "data": {
      "text/plain": [
       "(178228, 2)"
      ]
     },
     "execution_count": 348,
     "metadata": {},
     "output_type": "execute_result"
    }
   ],
   "source": [
    "sentiment_df.shape"
   ]
  },
  {
   "cell_type": "code",
   "execution_count": 349,
   "metadata": {
    "collapsed": false
   },
   "outputs": [
    {
     "data": {
      "text/plain": [
       "-1    64982\n",
       " 1    62278\n",
       " 0    50968\n",
       "Name: Polarity, dtype: int64"
      ]
     },
     "execution_count": 349,
     "metadata": {},
     "output_type": "execute_result"
    }
   ],
   "source": [
    "sentiment_df.Polarity.value_counts()"
   ]
  },
  {
   "cell_type": "code",
   "execution_count": 350,
   "metadata": {
    "collapsed": false
   },
   "outputs": [
    {
     "data": {
      "text/html": [
       "<div>\n",
       "<table border=\"1\" class=\"dataframe\">\n",
       "  <thead>\n",
       "    <tr style=\"text-align: right;\">\n",
       "      <th></th>\n",
       "      <th>Text</th>\n",
       "      <th>Polarity</th>\n",
       "    </tr>\n",
       "  </thead>\n",
       "  <tbody>\n",
       "    <tr>\n",
       "      <th>0</th>\n",
       "      <td>wish have truly traumatic experience than this...</td>\n",
       "      <td>-1</td>\n",
       "    </tr>\n",
       "    <tr>\n",
       "      <th>1</th>\n",
       "      <td>Today would been pacemaker surgery Rescheduled...</td>\n",
       "      <td>-1</td>\n",
       "    </tr>\n",
       "    <tr>\n",
       "      <th>2</th>\n",
       "      <td>abbiieee anong pwede thesis topicssss haha</td>\n",
       "      <td>-1</td>\n",
       "    </tr>\n",
       "    <tr>\n",
       "      <th>3</th>\n",
       "      <td>trashy is a terrible nigger nigga bitch hate s...</td>\n",
       "      <td>-1</td>\n",
       "    </tr>\n",
       "    <tr>\n",
       "      <th>4</th>\n",
       "      <td>always gentleman went well fifth date Sunday</td>\n",
       "      <td>1</td>\n",
       "    </tr>\n",
       "  </tbody>\n",
       "</table>\n",
       "</div>"
      ],
      "text/plain": [
       "                                                Text  Polarity\n",
       "0  wish have truly traumatic experience than this...        -1\n",
       "1  Today would been pacemaker surgery Rescheduled...        -1\n",
       "2         abbiieee anong pwede thesis topicssss haha        -1\n",
       "3  trashy is a terrible nigger nigga bitch hate s...        -1\n",
       "4       always gentleman went well fifth date Sunday         1"
      ]
     },
     "execution_count": 350,
     "metadata": {},
     "output_type": "execute_result"
    }
   ],
   "source": [
    "sentiment_df.head()"
   ]
  },
  {
   "cell_type": "code",
   "execution_count": 395,
   "metadata": {
    "collapsed": true
   },
   "outputs": [],
   "source": [
    "tweets = pd.read_csv(\"C:\\Users\\chidi bede\\Documents\\Data Science Career\\Datasets\\Text classification datasets\\Tweets.csv\")"
   ]
  },
  {
   "cell_type": "code",
   "execution_count": 396,
   "metadata": {
    "collapsed": false,
    "scrolled": true
   },
   "outputs": [],
   "source": [
    "tweets = tweets.loc[:, [\"airline_sentiment\", \"text\"]]"
   ]
  },
  {
   "cell_type": "code",
   "execution_count": 397,
   "metadata": {
    "collapsed": true
   },
   "outputs": [],
   "source": [
    "tweets = tweets.loc[:, [\"text\", \"airline_sentiment\"]]\n",
    "tweets.columns = [\"Text\", \"Polarity\"]"
   ]
  },
  {
   "cell_type": "code",
   "execution_count": 399,
   "metadata": {
    "collapsed": false
   },
   "outputs": [
    {
     "data": {
      "text/plain": [
       "negative    9178\n",
       "neutral     3099\n",
       "positive    2363\n",
       "Name: Polarity, dtype: int64"
      ]
     },
     "execution_count": 399,
     "metadata": {},
     "output_type": "execute_result"
    }
   ],
   "source": [
    "tweets.Polarity.value_counts()"
   ]
  },
  {
   "cell_type": "code",
   "execution_count": 400,
   "metadata": {
    "collapsed": true
   },
   "outputs": [],
   "source": [
    "tweets[\"Text\"] = tweets.Text.str.replace(r\"@[\\w]+\", \" \")\n",
    "tweets[\"Text\"] = tweets.Text.str.replace(r\"[^a-zA-Z]\", \" \")\n",
    "tweets[\"Text\"] = tweets.Text.apply(lambda x: \" \".join([w for w in x.split() if len(w) > 3]))"
   ]
  },
  {
   "cell_type": "code",
   "execution_count": 401,
   "metadata": {
    "collapsed": true
   },
   "outputs": [],
   "source": [
    "tweets[\"Polarity\"] = tweets.Polarity.map({\"negative\": -1, \"neutral\": 0, \"positive\": 1})"
   ]
  },
  {
   "cell_type": "code",
   "execution_count": 403,
   "metadata": {
    "collapsed": false
   },
   "outputs": [],
   "source": [
    "tweets[\"Text\"] = tweets.Text.str.replace(r\"didn\", \"didn't\")"
   ]
  },
  {
   "cell_type": "code",
   "execution_count": 404,
   "metadata": {
    "collapsed": false
   },
   "outputs": [
    {
     "data": {
      "text/html": [
       "<div>\n",
       "<table border=\"1\" class=\"dataframe\">\n",
       "  <thead>\n",
       "    <tr style=\"text-align: right;\">\n",
       "      <th></th>\n",
       "      <th>Text</th>\n",
       "      <th>Polarity</th>\n",
       "    </tr>\n",
       "  </thead>\n",
       "  <tbody>\n",
       "    <tr>\n",
       "      <th>0</th>\n",
       "      <td>What said</td>\n",
       "      <td>0</td>\n",
       "    </tr>\n",
       "    <tr>\n",
       "      <th>1</th>\n",
       "      <td>plus added commercials experience tacky</td>\n",
       "      <td>1</td>\n",
       "    </tr>\n",
       "    <tr>\n",
       "      <th>2</th>\n",
       "      <td>didn't today Must mean need take another trip</td>\n",
       "      <td>0</td>\n",
       "    </tr>\n",
       "    <tr>\n",
       "      <th>3</th>\n",
       "      <td>really aggressive blast obnoxious entertainmen...</td>\n",
       "      <td>-1</td>\n",
       "    </tr>\n",
       "    <tr>\n",
       "      <th>4</th>\n",
       "      <td>really thing about</td>\n",
       "      <td>-1</td>\n",
       "    </tr>\n",
       "    <tr>\n",
       "      <th>5</th>\n",
       "      <td>seriously would flight seats that didn't have ...</td>\n",
       "      <td>-1</td>\n",
       "    </tr>\n",
       "    <tr>\n",
       "      <th>6</th>\n",
       "      <td>nearly every time this worm away</td>\n",
       "      <td>1</td>\n",
       "    </tr>\n",
       "    <tr>\n",
       "      <th>7</th>\n",
       "      <td>Really missed prime opportunity Without Hats p...</td>\n",
       "      <td>0</td>\n",
       "    </tr>\n",
       "    <tr>\n",
       "      <th>8</th>\n",
       "      <td>Well didn't</td>\n",
       "      <td>1</td>\n",
       "    </tr>\n",
       "    <tr>\n",
       "      <th>9</th>\n",
       "      <td>amazing arrived hour early good</td>\n",
       "      <td>1</td>\n",
       "    </tr>\n",
       "    <tr>\n",
       "      <th>10</th>\n",
       "      <td>know that suicide second leading cause death a...</td>\n",
       "      <td>0</td>\n",
       "    </tr>\n",
       "    <tr>\n",
       "      <th>11</th>\n",
       "      <td>pretty graphics much better than minimal icono...</td>\n",
       "      <td>1</td>\n",
       "    </tr>\n",
       "    <tr>\n",
       "      <th>12</th>\n",
       "      <td>This such great deal Already thinking about tr...</td>\n",
       "      <td>1</td>\n",
       "    </tr>\n",
       "    <tr>\n",
       "      <th>13</th>\n",
       "      <td>flying your fabulous Seductive skies again tak...</td>\n",
       "      <td>1</td>\n",
       "    </tr>\n",
       "    <tr>\n",
       "      <th>14</th>\n",
       "      <td>Thanks</td>\n",
       "      <td>1</td>\n",
       "    </tr>\n",
       "    <tr>\n",
       "      <th>15</th>\n",
       "      <td>schedule still</td>\n",
       "      <td>-1</td>\n",
       "    </tr>\n",
       "    <tr>\n",
       "      <th>16</th>\n",
       "      <td>excited first cross country flight heard nothi...</td>\n",
       "      <td>1</td>\n",
       "    </tr>\n",
       "    <tr>\n",
       "      <th>17</th>\n",
       "      <td>flew from last week couldn fully seat large ge...</td>\n",
       "      <td>-1</td>\n",
       "    </tr>\n",
       "    <tr>\n",
       "      <th>18</th>\n",
       "      <td>flying</td>\n",
       "      <td>1</td>\n",
       "    </tr>\n",
       "    <tr>\n",
       "      <th>19</th>\n",
       "      <td>know what would amazingly awesome PLEASE want ...</td>\n",
       "      <td>1</td>\n",
       "    </tr>\n",
       "    <tr>\n",
       "      <th>20</th>\n",
       "      <td>your first fares over three times more than ot...</td>\n",
       "      <td>-1</td>\n",
       "    </tr>\n",
       "    <tr>\n",
       "      <th>21</th>\n",
       "      <td>love this graphic http GrRwAaA</td>\n",
       "      <td>1</td>\n",
       "    </tr>\n",
       "    <tr>\n",
       "      <th>22</th>\n",
       "      <td>love hipster innovation feel good brand</td>\n",
       "      <td>1</td>\n",
       "    </tr>\n",
       "    <tr>\n",
       "      <th>23</th>\n",
       "      <td>will making stop permanently anytime soon</td>\n",
       "      <td>0</td>\n",
       "    </tr>\n",
       "    <tr>\n",
       "      <th>24</th>\n",
       "      <td>guys messed seating reserved seating with frie...</td>\n",
       "      <td>-1</td>\n",
       "    </tr>\n",
       "    <tr>\n",
       "      <th>25</th>\n",
       "      <td>status match program applied been three weeks ...</td>\n",
       "      <td>-1</td>\n",
       "    </tr>\n",
       "    <tr>\n",
       "      <th>26</th>\n",
       "      <td>What happened vegan food options least site kn...</td>\n",
       "      <td>-1</td>\n",
       "    </tr>\n",
       "    <tr>\n",
       "      <th>27</th>\n",
       "      <td>miss worry together very soon</td>\n",
       "      <td>0</td>\n",
       "    </tr>\n",
       "    <tr>\n",
       "      <th>28</th>\n",
       "      <td>amazing that cold from vents noair worstflight...</td>\n",
       "      <td>-1</td>\n",
       "    </tr>\n",
       "    <tr>\n",
       "      <th>29</th>\n",
       "      <td>Middle seat Such noob maneuver sendambien andc...</td>\n",
       "      <td>0</td>\n",
       "    </tr>\n",
       "    <tr>\n",
       "      <th>...</th>\n",
       "      <td>...</td>\n",
       "      <td>...</td>\n",
       "    </tr>\n",
       "    <tr>\n",
       "      <th>14610</th>\n",
       "      <td>understand weather issue expect passengers wai...</td>\n",
       "      <td>-1</td>\n",
       "    </tr>\n",
       "    <tr>\n",
       "      <th>14611</th>\n",
       "      <td>guarantee retribution glad share</td>\n",
       "      <td>0</td>\n",
       "    </tr>\n",
       "    <tr>\n",
       "      <th>14612</th>\n",
       "      <td>friend having flight Cancelled Flightlations A...</td>\n",
       "      <td>-1</td>\n",
       "    </tr>\n",
       "    <tr>\n",
       "      <th>14613</th>\n",
       "      <td>used call back feature with operator regarding...</td>\n",
       "      <td>-1</td>\n",
       "    </tr>\n",
       "    <tr>\n",
       "      <th>14614</th>\n",
       "      <td>need work tomorrow therefore that doesn help D...</td>\n",
       "      <td>-1</td>\n",
       "    </tr>\n",
       "    <tr>\n",
       "      <th>14615</th>\n",
       "      <td>Dump luggage then Cancelled Flight flight more...</td>\n",
       "      <td>-1</td>\n",
       "    </tr>\n",
       "    <tr>\n",
       "      <th>14616</th>\n",
       "      <td>Cancelled Flights flight doesn send email text...</td>\n",
       "      <td>-1</td>\n",
       "    </tr>\n",
       "    <tr>\n",
       "      <th>14617</th>\n",
       "      <td>DMing thanks</td>\n",
       "      <td>1</td>\n",
       "    </tr>\n",
       "    <tr>\n",
       "      <th>14618</th>\n",
       "      <td>overweight pull dozen passengers luggage Serio...</td>\n",
       "      <td>-1</td>\n",
       "    </tr>\n",
       "    <tr>\n",
       "      <th>14619</th>\n",
       "      <td>love your company your staff amazing They just...</td>\n",
       "      <td>1</td>\n",
       "    </tr>\n",
       "    <tr>\n",
       "      <th>14620</th>\n",
       "      <td>wait call back cxld protection they hang minut...</td>\n",
       "      <td>-1</td>\n",
       "    </tr>\n",
       "    <tr>\n",
       "      <th>14621</th>\n",
       "      <td>been hold mins about Cancelled Flighted intern...</td>\n",
       "      <td>-1</td>\n",
       "    </tr>\n",
       "    <tr>\n",
       "      <th>14622</th>\n",
       "      <td>just need place sleep when land without accomm...</td>\n",
       "      <td>-1</td>\n",
       "    </tr>\n",
       "    <tr>\n",
       "      <th>14623</th>\n",
       "      <td>Love planes Maybe will where amenities functio...</td>\n",
       "      <td>1</td>\n",
       "    </tr>\n",
       "    <tr>\n",
       "      <th>14624</th>\n",
       "      <td>Call Chairman call Emerald After what today ca...</td>\n",
       "      <td>-1</td>\n",
       "    </tr>\n",
       "    <tr>\n",
       "      <th>14625</th>\n",
       "      <td>Flight great Fantastic cabin crew landing than...</td>\n",
       "      <td>1</td>\n",
       "    </tr>\n",
       "    <tr>\n",
       "      <th>14626</th>\n",
       "      <td>Flight Buenos Aires been delay since yesterday...</td>\n",
       "      <td>-1</td>\n",
       "    </tr>\n",
       "    <tr>\n",
       "      <th>14627</th>\n",
       "      <td>Flight Cancelled Flightled home until tomorrow...</td>\n",
       "      <td>-1</td>\n",
       "    </tr>\n",
       "    <tr>\n",
       "      <th>14628</th>\n",
       "      <td>Thank Customer Relations will review your conc...</td>\n",
       "      <td>1</td>\n",
       "    </tr>\n",
       "    <tr>\n",
       "      <th>14629</th>\n",
       "      <td>change flight phone system keeps telling that ...</td>\n",
       "      <td>-1</td>\n",
       "    </tr>\n",
       "    <tr>\n",
       "      <th>14630</th>\n",
       "      <td>Thanks</td>\n",
       "      <td>1</td>\n",
       "    </tr>\n",
       "    <tr>\n",
       "      <th>14631</th>\n",
       "      <td>nothing getting country back Broken plane Come...</td>\n",
       "      <td>-1</td>\n",
       "    </tr>\n",
       "    <tr>\n",
       "      <th>14632</th>\n",
       "      <td>George that doesn look good Please follow this...</td>\n",
       "      <td>0</td>\n",
       "    </tr>\n",
       "    <tr>\n",
       "      <th>14633</th>\n",
       "      <td>flight Cancelled Flightled leaving tomorrow mo...</td>\n",
       "      <td>-1</td>\n",
       "    </tr>\n",
       "    <tr>\n",
       "      <th>14634</th>\n",
       "      <td>right with delays</td>\n",
       "      <td>-1</td>\n",
       "    </tr>\n",
       "    <tr>\n",
       "      <th>14635</th>\n",
       "      <td>thank different flight Chicago</td>\n",
       "      <td>1</td>\n",
       "    </tr>\n",
       "    <tr>\n",
       "      <th>14636</th>\n",
       "      <td>leaving over minutes Late Flight warnings comm...</td>\n",
       "      <td>-1</td>\n",
       "    </tr>\n",
       "    <tr>\n",
       "      <th>14637</th>\n",
       "      <td>Please bring American Airlines BlackBerry</td>\n",
       "      <td>0</td>\n",
       "    </tr>\n",
       "    <tr>\n",
       "      <th>14638</th>\n",
       "      <td>have money change flight answer your phones ot...</td>\n",
       "      <td>-1</td>\n",
       "    </tr>\n",
       "    <tr>\n",
       "      <th>14639</th>\n",
       "      <td>have need know many seats next flight standby ...</td>\n",
       "      <td>0</td>\n",
       "    </tr>\n",
       "  </tbody>\n",
       "</table>\n",
       "<p>14640 rows × 2 columns</p>\n",
       "</div>"
      ],
      "text/plain": [
       "                                                    Text  Polarity\n",
       "0                                              What said         0\n",
       "1                plus added commercials experience tacky         1\n",
       "2          didn't today Must mean need take another trip         0\n",
       "3      really aggressive blast obnoxious entertainmen...        -1\n",
       "4                                     really thing about        -1\n",
       "5      seriously would flight seats that didn't have ...        -1\n",
       "6                       nearly every time this worm away         1\n",
       "7      Really missed prime opportunity Without Hats p...         0\n",
       "8                                            Well didn't         1\n",
       "9                        amazing arrived hour early good         1\n",
       "10     know that suicide second leading cause death a...         0\n",
       "11     pretty graphics much better than minimal icono...         1\n",
       "12     This such great deal Already thinking about tr...         1\n",
       "13     flying your fabulous Seductive skies again tak...         1\n",
       "14                                                Thanks         1\n",
       "15                                        schedule still        -1\n",
       "16     excited first cross country flight heard nothi...         1\n",
       "17     flew from last week couldn fully seat large ge...        -1\n",
       "18                                                flying         1\n",
       "19     know what would amazingly awesome PLEASE want ...         1\n",
       "20     your first fares over three times more than ot...        -1\n",
       "21                        love this graphic http GrRwAaA         1\n",
       "22               love hipster innovation feel good brand         1\n",
       "23             will making stop permanently anytime soon         0\n",
       "24     guys messed seating reserved seating with frie...        -1\n",
       "25     status match program applied been three weeks ...        -1\n",
       "26     What happened vegan food options least site kn...        -1\n",
       "27                         miss worry together very soon         0\n",
       "28     amazing that cold from vents noair worstflight...        -1\n",
       "29     Middle seat Such noob maneuver sendambien andc...         0\n",
       "...                                                  ...       ...\n",
       "14610  understand weather issue expect passengers wai...        -1\n",
       "14611                   guarantee retribution glad share         0\n",
       "14612  friend having flight Cancelled Flightlations A...        -1\n",
       "14613  used call back feature with operator regarding...        -1\n",
       "14614  need work tomorrow therefore that doesn help D...        -1\n",
       "14615  Dump luggage then Cancelled Flight flight more...        -1\n",
       "14616  Cancelled Flights flight doesn send email text...        -1\n",
       "14617                                       DMing thanks         1\n",
       "14618  overweight pull dozen passengers luggage Serio...        -1\n",
       "14619  love your company your staff amazing They just...         1\n",
       "14620  wait call back cxld protection they hang minut...        -1\n",
       "14621  been hold mins about Cancelled Flighted intern...        -1\n",
       "14622  just need place sleep when land without accomm...        -1\n",
       "14623  Love planes Maybe will where amenities functio...         1\n",
       "14624  Call Chairman call Emerald After what today ca...        -1\n",
       "14625  Flight great Fantastic cabin crew landing than...         1\n",
       "14626  Flight Buenos Aires been delay since yesterday...        -1\n",
       "14627  Flight Cancelled Flightled home until tomorrow...        -1\n",
       "14628  Thank Customer Relations will review your conc...         1\n",
       "14629  change flight phone system keeps telling that ...        -1\n",
       "14630                                             Thanks         1\n",
       "14631  nothing getting country back Broken plane Come...        -1\n",
       "14632  George that doesn look good Please follow this...         0\n",
       "14633  flight Cancelled Flightled leaving tomorrow mo...        -1\n",
       "14634                                  right with delays        -1\n",
       "14635                     thank different flight Chicago         1\n",
       "14636  leaving over minutes Late Flight warnings comm...        -1\n",
       "14637          Please bring American Airlines BlackBerry         0\n",
       "14638  have money change flight answer your phones ot...        -1\n",
       "14639  have need know many seats next flight standby ...         0\n",
       "\n",
       "[14640 rows x 2 columns]"
      ]
     },
     "execution_count": 404,
     "metadata": {},
     "output_type": "execute_result"
    }
   ],
   "source": [
    "tweets"
   ]
  },
  {
   "cell_type": "code",
   "execution_count": 405,
   "metadata": {
    "collapsed": true
   },
   "outputs": [],
   "source": [
    "sentiment_df = pd.concat([sentiment_df, tweets])"
   ]
  },
  {
   "cell_type": "code",
   "execution_count": 406,
   "metadata": {
    "collapsed": false,
    "scrolled": true
   },
   "outputs": [
    {
     "data": {
      "text/plain": [
       "-1    74160\n",
       " 1    64641\n",
       " 0    54067\n",
       "Name: Polarity, dtype: int64"
      ]
     },
     "execution_count": 406,
     "metadata": {},
     "output_type": "execute_result"
    }
   ],
   "source": [
    "sentiment_df.Polarity.value_counts()"
   ]
  },
  {
   "cell_type": "code",
   "execution_count": 409,
   "metadata": {
    "collapsed": true
   },
   "outputs": [],
   "source": [
    "twitter_pos = twitter_df[twitter_df.Polarity==1].loc[500000:520000, [\"Text\",\"Polarity\"]]"
   ]
  },
  {
   "cell_type": "code",
   "execution_count": 411,
   "metadata": {
    "collapsed": false
   },
   "outputs": [],
   "source": [
    "sentiment_df = pd.concat([sentiment_df, twitter_pos])"
   ]
  },
  {
   "cell_type": "code",
   "execution_count": 412,
   "metadata": {
    "collapsed": false
   },
   "outputs": [
    {
     "data": {
      "text/plain": [
       " 1    74666\n",
       "-1    74160\n",
       " 0    54067\n",
       "Name: Polarity, dtype: int64"
      ]
     },
     "execution_count": 412,
     "metadata": {},
     "output_type": "execute_result"
    }
   ],
   "source": [
    "sentiment_df.Polarity.value_counts()"
   ]
  },
  {
   "cell_type": "code",
   "execution_count": 413,
   "metadata": {
    "collapsed": true
   },
   "outputs": [],
   "source": [
    "sentiment_df = utils.shuffle(sentiment_df)"
   ]
  },
  {
   "cell_type": "code",
   "execution_count": 414,
   "metadata": {
    "collapsed": true
   },
   "outputs": [],
   "source": [
    "sentiment_df.reset_index(drop=True, inplace=True)"
   ]
  },
  {
   "cell_type": "code",
   "execution_count": 415,
   "metadata": {
    "collapsed": false
   },
   "outputs": [
    {
     "data": {
      "text/html": [
       "<div>\n",
       "<table border=\"1\" class=\"dataframe\">\n",
       "  <thead>\n",
       "    <tr style=\"text-align: right;\">\n",
       "      <th></th>\n",
       "      <th>Text</th>\n",
       "      <th>Polarity</th>\n",
       "    </tr>\n",
       "  </thead>\n",
       "  <tbody>\n",
       "    <tr>\n",
       "      <th>0</th>\n",
       "      <td>What said about movie about cross dressing gan...</td>\n",
       "      <td>-1</td>\n",
       "    </tr>\n",
       "    <tr>\n",
       "      <th>1</th>\n",
       "      <td>independent indie film might Black White Toile...</td>\n",
       "      <td>0</td>\n",
       "    </tr>\n",
       "    <tr>\n",
       "      <th>2</th>\n",
       "      <td>Having missed Project Greenlight movie Stolen ...</td>\n",
       "      <td>0</td>\n",
       "    </tr>\n",
       "    <tr>\n",
       "      <th>3</th>\n",
       "      <td>Anne Parillaud phenomenal terrifyingly vulnera...</td>\n",
       "      <td>0</td>\n",
       "    </tr>\n",
       "    <tr>\n",
       "      <th>4</th>\n",
       "      <td>part while other happy know what want what fee...</td>\n",
       "      <td>-1</td>\n",
       "    </tr>\n",
       "    <tr>\n",
       "      <th>5</th>\n",
       "      <td>after arriving flight scheduled depart doors c...</td>\n",
       "      <td>-1</td>\n",
       "    </tr>\n",
       "    <tr>\n",
       "      <th>6</th>\n",
       "      <td>shower vote tweet life good</td>\n",
       "      <td>1</td>\n",
       "    </tr>\n",
       "    <tr>\n",
       "      <th>7</th>\n",
       "      <td>first most this movie sucks about minutes funn...</td>\n",
       "      <td>0</td>\n",
       "    </tr>\n",
       "    <tr>\n",
       "      <th>8</th>\n",
       "      <td>pins needles dizzy going down before faint</td>\n",
       "      <td>-1</td>\n",
       "    </tr>\n",
       "    <tr>\n",
       "      <th>9</th>\n",
       "      <td>misfortune seeing movie SciFi channel just day...</td>\n",
       "      <td>0</td>\n",
       "    </tr>\n",
       "    <tr>\n",
       "      <th>10</th>\n",
       "      <td>Warner Bros made many potboilers most them fas...</td>\n",
       "      <td>-1</td>\n",
       "    </tr>\n",
       "    <tr>\n",
       "      <th>11</th>\n",
       "      <td>This month April Turner Classic Movies introdu...</td>\n",
       "      <td>0</td>\n",
       "    </tr>\n",
       "    <tr>\n",
       "      <th>12</th>\n",
       "      <td>adroit</td>\n",
       "      <td>1</td>\n",
       "    </tr>\n",
       "    <tr>\n",
       "      <th>13</th>\n",
       "      <td>Lust Caution picture power tremendous forces t...</td>\n",
       "      <td>0</td>\n",
       "    </tr>\n",
       "    <tr>\n",
       "      <th>14</th>\n",
       "      <td>Dear Lord think living History taught fuck has...</td>\n",
       "      <td>-1</td>\n",
       "    </tr>\n",
       "    <tr>\n",
       "      <th>15</th>\n",
       "      <td>just woke from smell lentils cooking</td>\n",
       "      <td>1</td>\n",
       "    </tr>\n",
       "    <tr>\n",
       "      <th>16</th>\n",
       "      <td>detracts detracts killed died sad angry</td>\n",
       "      <td>-1</td>\n",
       "    </tr>\n",
       "    <tr>\n",
       "      <th>17</th>\n",
       "      <td>Dark Angel futuristic series post apocalyptic ...</td>\n",
       "      <td>1</td>\n",
       "    </tr>\n",
       "    <tr>\n",
       "      <th>18</th>\n",
       "      <td>first sight Bothersome seems like several othe...</td>\n",
       "      <td>1</td>\n",
       "    </tr>\n",
       "    <tr>\n",
       "      <th>19</th>\n",
       "      <td>House Alone belongs cable days when networks w...</td>\n",
       "      <td>1</td>\n",
       "    </tr>\n",
       "    <tr>\n",
       "      <th>20</th>\n",
       "      <td>pinch pinch killed died sad angry</td>\n",
       "      <td>-1</td>\n",
       "    </tr>\n",
       "    <tr>\n",
       "      <th>21</th>\n",
       "      <td>Well didn choose wisely when rented this movie...</td>\n",
       "      <td>0</td>\n",
       "    </tr>\n",
       "    <tr>\n",
       "      <th>22</th>\n",
       "      <td>recovery kind missing arrgh</td>\n",
       "      <td>-1</td>\n",
       "    </tr>\n",
       "    <tr>\n",
       "      <th>23</th>\n",
       "      <td>This work pure sounds visual beauty global hea...</td>\n",
       "      <td>0</td>\n",
       "    </tr>\n",
       "    <tr>\n",
       "      <th>24</th>\n",
       "      <td>so-cal so-cal killed died sad angry</td>\n",
       "      <td>-1</td>\n",
       "    </tr>\n",
       "    <tr>\n",
       "      <th>25</th>\n",
       "      <td>other bored chose movie movie that started nea...</td>\n",
       "      <td>0</td>\n",
       "    </tr>\n",
       "    <tr>\n",
       "      <th>26</th>\n",
       "      <td>sorry guys uploading just taking long gonna re...</td>\n",
       "      <td>-1</td>\n",
       "    </tr>\n",
       "    <tr>\n",
       "      <th>27</th>\n",
       "      <td>When will allowed makeup Congratulations your ...</td>\n",
       "      <td>1</td>\n",
       "    </tr>\n",
       "    <tr>\n",
       "      <th>28</th>\n",
       "      <td>This exploration unique decade cinema begins w...</td>\n",
       "      <td>1</td>\n",
       "    </tr>\n",
       "    <tr>\n",
       "      <th>29</th>\n",
       "      <td>incompetent rude service today Missed connecti...</td>\n",
       "      <td>-1</td>\n",
       "    </tr>\n",
       "    <tr>\n",
       "      <th>...</th>\n",
       "      <td>...</td>\n",
       "      <td>...</td>\n",
       "    </tr>\n",
       "    <tr>\n",
       "      <th>202863</th>\n",
       "      <td>sounds interesting bother Jean Reno plays Fren...</td>\n",
       "      <td>0</td>\n",
       "    </tr>\n",
       "    <tr>\n",
       "      <th>202864</th>\n",
       "      <td>standstill</td>\n",
       "      <td>-1</td>\n",
       "    </tr>\n",
       "    <tr>\n",
       "      <th>202865</th>\n",
       "      <td>Well guess know answer that question MONEY hav...</td>\n",
       "      <td>-1</td>\n",
       "    </tr>\n",
       "    <tr>\n",
       "      <th>202866</th>\n",
       "      <td>fiery fiery lived happy great</td>\n",
       "      <td>1</td>\n",
       "    </tr>\n",
       "    <tr>\n",
       "      <th>202867</th>\n",
       "      <td>have read just about Kathy Lette books they fa...</td>\n",
       "      <td>0</td>\n",
       "    </tr>\n",
       "    <tr>\n",
       "      <th>202868</th>\n",
       "      <td>hard rate this place because little down groom...</td>\n",
       "      <td>1</td>\n",
       "    </tr>\n",
       "    <tr>\n",
       "      <th>202869</th>\n",
       "      <td>just home already miss comeback babe</td>\n",
       "      <td>-1</td>\n",
       "    </tr>\n",
       "    <tr>\n",
       "      <th>202870</th>\n",
       "      <td>Breakfast Club good find blueberry pancakes su...</td>\n",
       "      <td>1</td>\n",
       "    </tr>\n",
       "    <tr>\n",
       "      <th>202871</th>\n",
       "      <td>This movie should have been billed three movie...</td>\n",
       "      <td>-1</td>\n",
       "    </tr>\n",
       "    <tr>\n",
       "      <th>202872</th>\n",
       "      <td>This mini series actually more entertaining th...</td>\n",
       "      <td>-1</td>\n",
       "    </tr>\n",
       "    <tr>\n",
       "      <th>202873</th>\n",
       "      <td>looking forward working with father next week</td>\n",
       "      <td>-1</td>\n",
       "    </tr>\n",
       "    <tr>\n",
       "      <th>202874</th>\n",
       "      <td>gate agent only updates hours hinted abandonme...</td>\n",
       "      <td>-1</td>\n",
       "    </tr>\n",
       "    <tr>\n",
       "      <th>202875</th>\n",
       "      <td>hahahaha This crazy Well here another night ai...</td>\n",
       "      <td>-1</td>\n",
       "    </tr>\n",
       "    <tr>\n",
       "      <th>202876</th>\n",
       "      <td>chelsea</td>\n",
       "      <td>1</td>\n",
       "    </tr>\n",
       "    <tr>\n",
       "      <th>202877</th>\n",
       "      <td>deserving is a wonderful excellent awesome com...</td>\n",
       "      <td>1</td>\n",
       "    </tr>\n",
       "    <tr>\n",
       "      <th>202878</th>\n",
       "      <td>Yogi great place grab quick fairly cheap meal ...</td>\n",
       "      <td>0</td>\n",
       "    </tr>\n",
       "    <tr>\n",
       "      <th>202879</th>\n",
       "      <td>very hapy that daniel comes home today been go...</td>\n",
       "      <td>1</td>\n",
       "    </tr>\n",
       "    <tr>\n",
       "      <th>202880</th>\n",
       "      <td>Emissary Deep Space Nine pilot episode either ...</td>\n",
       "      <td>0</td>\n",
       "    </tr>\n",
       "    <tr>\n",
       "      <th>202881</th>\n",
       "      <td>hissed hissed killed died sad angry</td>\n",
       "      <td>-1</td>\n",
       "    </tr>\n",
       "    <tr>\n",
       "      <th>202882</th>\n",
       "      <td>oops TRYING awwww would LOVE where absolutely ...</td>\n",
       "      <td>1</td>\n",
       "    </tr>\n",
       "    <tr>\n",
       "      <th>202883</th>\n",
       "      <td>GOOD acting were great especially Terrence How...</td>\n",
       "      <td>-1</td>\n",
       "    </tr>\n",
       "    <tr>\n",
       "      <th>202884</th>\n",
       "      <td>needed refund Cancelled Flightled flights this...</td>\n",
       "      <td>-1</td>\n",
       "    </tr>\n",
       "    <tr>\n",
       "      <th>202885</th>\n",
       "      <td>come with outside whenever free</td>\n",
       "      <td>1</td>\n",
       "    </tr>\n",
       "    <tr>\n",
       "      <th>202886</th>\n",
       "      <td>hour version Choker Bali cannot that long movi...</td>\n",
       "      <td>1</td>\n",
       "    </tr>\n",
       "    <tr>\n",
       "      <th>202887</th>\n",
       "      <td>Well were start This worst films ever paid goo...</td>\n",
       "      <td>-1</td>\n",
       "    </tr>\n",
       "    <tr>\n",
       "      <th>202888</th>\n",
       "      <td>Crazy Like deeply flawed film that nonetheless...</td>\n",
       "      <td>0</td>\n",
       "    </tr>\n",
       "    <tr>\n",
       "      <th>202889</th>\n",
       "      <td>share your awesome hotel room view your fans t...</td>\n",
       "      <td>1</td>\n",
       "    </tr>\n",
       "    <tr>\n",
       "      <th>202890</th>\n",
       "      <td>This very worst movie Peter Sellers ever think...</td>\n",
       "      <td>-1</td>\n",
       "    </tr>\n",
       "    <tr>\n",
       "      <th>202891</th>\n",
       "      <td>fraud</td>\n",
       "      <td>-1</td>\n",
       "    </tr>\n",
       "    <tr>\n",
       "      <th>202892</th>\n",
       "      <td>busy signal after ringing</td>\n",
       "      <td>-1</td>\n",
       "    </tr>\n",
       "  </tbody>\n",
       "</table>\n",
       "<p>202893 rows × 2 columns</p>\n",
       "</div>"
      ],
      "text/plain": [
       "                                                     Text  Polarity\n",
       "0       What said about movie about cross dressing gan...        -1\n",
       "1       independent indie film might Black White Toile...         0\n",
       "2       Having missed Project Greenlight movie Stolen ...         0\n",
       "3       Anne Parillaud phenomenal terrifyingly vulnera...         0\n",
       "4       part while other happy know what want what fee...        -1\n",
       "5       after arriving flight scheduled depart doors c...        -1\n",
       "6                             shower vote tweet life good         1\n",
       "7       first most this movie sucks about minutes funn...         0\n",
       "8              pins needles dizzy going down before faint        -1\n",
       "9       misfortune seeing movie SciFi channel just day...         0\n",
       "10      Warner Bros made many potboilers most them fas...        -1\n",
       "11      This month April Turner Classic Movies introdu...         0\n",
       "12                                                 adroit         1\n",
       "13      Lust Caution picture power tremendous forces t...         0\n",
       "14      Dear Lord think living History taught fuck has...        -1\n",
       "15                   just woke from smell lentils cooking         1\n",
       "16                detracts detracts killed died sad angry        -1\n",
       "17      Dark Angel futuristic series post apocalyptic ...         1\n",
       "18      first sight Bothersome seems like several othe...         1\n",
       "19      House Alone belongs cable days when networks w...         1\n",
       "20                      pinch pinch killed died sad angry        -1\n",
       "21      Well didn choose wisely when rented this movie...         0\n",
       "22                            recovery kind missing arrgh        -1\n",
       "23      This work pure sounds visual beauty global hea...         0\n",
       "24                    so-cal so-cal killed died sad angry        -1\n",
       "25      other bored chose movie movie that started nea...         0\n",
       "26      sorry guys uploading just taking long gonna re...        -1\n",
       "27      When will allowed makeup Congratulations your ...         1\n",
       "28      This exploration unique decade cinema begins w...         1\n",
       "29      incompetent rude service today Missed connecti...        -1\n",
       "...                                                   ...       ...\n",
       "202863  sounds interesting bother Jean Reno plays Fren...         0\n",
       "202864                                         standstill        -1\n",
       "202865  Well guess know answer that question MONEY hav...        -1\n",
       "202866                      fiery fiery lived happy great         1\n",
       "202867  have read just about Kathy Lette books they fa...         0\n",
       "202868  hard rate this place because little down groom...         1\n",
       "202869               just home already miss comeback babe        -1\n",
       "202870  Breakfast Club good find blueberry pancakes su...         1\n",
       "202871  This movie should have been billed three movie...        -1\n",
       "202872  This mini series actually more entertaining th...        -1\n",
       "202873      looking forward working with father next week        -1\n",
       "202874  gate agent only updates hours hinted abandonme...        -1\n",
       "202875  hahahaha This crazy Well here another night ai...        -1\n",
       "202876                                            chelsea         1\n",
       "202877  deserving is a wonderful excellent awesome com...         1\n",
       "202878  Yogi great place grab quick fairly cheap meal ...         0\n",
       "202879  very hapy that daniel comes home today been go...         1\n",
       "202880  Emissary Deep Space Nine pilot episode either ...         0\n",
       "202881                hissed hissed killed died sad angry        -1\n",
       "202882  oops TRYING awwww would LOVE where absolutely ...         1\n",
       "202883  GOOD acting were great especially Terrence How...        -1\n",
       "202884  needed refund Cancelled Flightled flights this...        -1\n",
       "202885                    come with outside whenever free         1\n",
       "202886  hour version Choker Bali cannot that long movi...         1\n",
       "202887  Well were start This worst films ever paid goo...        -1\n",
       "202888  Crazy Like deeply flawed film that nonetheless...         0\n",
       "202889  share your awesome hotel room view your fans t...         1\n",
       "202890  This very worst movie Peter Sellers ever think...        -1\n",
       "202891                                              fraud        -1\n",
       "202892                          busy signal after ringing        -1\n",
       "\n",
       "[202893 rows x 2 columns]"
      ]
     },
     "execution_count": 415,
     "metadata": {},
     "output_type": "execute_result"
    }
   ],
   "source": [
    "sentiment_df"
   ]
  },
  {
   "cell_type": "code",
   "execution_count": 416,
   "metadata": {
    "collapsed": true
   },
   "outputs": [],
   "source": [
    "sentiment_df.to_csv(\"complete_sentiment_training_data.csv\")"
   ]
  },
  {
   "cell_type": "code",
   "execution_count": 417,
   "metadata": {
    "collapsed": false
   },
   "outputs": [
    {
     "data": {
      "text/plain": [
       "(202893, 2)"
      ]
     },
     "execution_count": 417,
     "metadata": {},
     "output_type": "execute_result"
    }
   ],
   "source": [
    "sentiment_df.shape"
   ]
  },
  {
   "cell_type": "code",
   "execution_count": null,
   "metadata": {
    "collapsed": true
   },
   "outputs": [],
   "source": []
  }
 ],
 "metadata": {
  "kernelspec": {
   "display_name": "Python 2",
   "language": "python",
   "name": "python2"
  },
  "language_info": {
   "codemirror_mode": {
    "name": "ipython",
    "version": 2
   },
   "file_extension": ".py",
   "mimetype": "text/x-python",
   "name": "python",
   "nbconvert_exporter": "python",
   "pygments_lexer": "ipython2",
   "version": "2.7.13"
  }
 },
 "nbformat": 4,
 "nbformat_minor": 0
}
